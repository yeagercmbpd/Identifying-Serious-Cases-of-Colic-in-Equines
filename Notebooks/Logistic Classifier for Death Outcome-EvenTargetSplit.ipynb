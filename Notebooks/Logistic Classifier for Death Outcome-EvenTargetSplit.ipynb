{
 "cells": [
  {
   "cell_type": "markdown",
   "metadata": {},
   "source": [
    "Note to self, remove a hold out set of data to play around with at the end"
   ]
  },
  {
   "cell_type": "code",
   "execution_count": 1,
   "metadata": {},
   "outputs": [
    {
     "data": {
      "text/plain": [
       "(368, 20)"
      ]
     },
     "execution_count": 1,
     "metadata": {},
     "output_type": "execute_result"
    }
   ],
   "source": [
    "import pandas as pd\n",
    "import numpy as np\n",
    "df=pd.read_excel('Data/HorseColicData_DeathTarget.xlsx',index=False)\n",
    "df.shape"
   ]
  },
  {
   "cell_type": "code",
   "execution_count": 2,
   "metadata": {},
   "outputs": [
    {
     "data": {
      "text/html": [
       "<div>\n",
       "<style scoped>\n",
       "    .dataframe tbody tr th:only-of-type {\n",
       "        vertical-align: middle;\n",
       "    }\n",
       "\n",
       "    .dataframe tbody tr th {\n",
       "        vertical-align: top;\n",
       "    }\n",
       "\n",
       "    .dataframe thead th {\n",
       "        text-align: right;\n",
       "    }\n",
       "</style>\n",
       "<table border=\"1\" class=\"dataframe\">\n",
       "  <thead>\n",
       "    <tr style=\"text-align: right;\">\n",
       "      <th></th>\n",
       "      <th>surgery</th>\n",
       "      <th>Age</th>\n",
       "      <th>rectal temperature</th>\n",
       "      <th>pulse</th>\n",
       "      <th>respiratory rate</th>\n",
       "      <th>temperature of extremities</th>\n",
       "      <th>peripheral pulse</th>\n",
       "      <th>mucous membranes</th>\n",
       "      <th>capillary refill time</th>\n",
       "      <th>pain  a subjective judgement of the horses pain level</th>\n",
       "      <th>peristalsis</th>\n",
       "      <th>abdominal distension</th>\n",
       "      <th>packed cell volume</th>\n",
       "      <th>total protein</th>\n",
       "      <th>outcome</th>\n",
       "      <th>surgical lesion</th>\n",
       "      <th>type of lesion</th>\n",
       "      <th>Target</th>\n",
       "      <th>location of lesion</th>\n",
       "    </tr>\n",
       "  </thead>\n",
       "  <tbody>\n",
       "    <tr>\n",
       "      <th>0</th>\n",
       "      <td>2</td>\n",
       "      <td>1</td>\n",
       "      <td>38.5</td>\n",
       "      <td>66</td>\n",
       "      <td>28</td>\n",
       "      <td>3</td>\n",
       "      <td>3</td>\n",
       "      <td>0</td>\n",
       "      <td>2</td>\n",
       "      <td>5</td>\n",
       "      <td>4</td>\n",
       "      <td>4</td>\n",
       "      <td>45.0</td>\n",
       "      <td>1</td>\n",
       "      <td>2</td>\n",
       "      <td>2</td>\n",
       "      <td>1</td>\n",
       "      <td>1</td>\n",
       "      <td>1</td>\n",
       "    </tr>\n",
       "    <tr>\n",
       "      <th>1</th>\n",
       "      <td>1</td>\n",
       "      <td>1</td>\n",
       "      <td>39.2</td>\n",
       "      <td>88</td>\n",
       "      <td>20</td>\n",
       "      <td>0</td>\n",
       "      <td>0</td>\n",
       "      <td>4</td>\n",
       "      <td>1</td>\n",
       "      <td>3</td>\n",
       "      <td>4</td>\n",
       "      <td>2</td>\n",
       "      <td>50.0</td>\n",
       "      <td>1</td>\n",
       "      <td>3</td>\n",
       "      <td>2</td>\n",
       "      <td>2</td>\n",
       "      <td>1</td>\n",
       "      <td>2</td>\n",
       "    </tr>\n",
       "    <tr>\n",
       "      <th>2</th>\n",
       "      <td>2</td>\n",
       "      <td>1</td>\n",
       "      <td>38.3</td>\n",
       "      <td>40</td>\n",
       "      <td>24</td>\n",
       "      <td>1</td>\n",
       "      <td>1</td>\n",
       "      <td>3</td>\n",
       "      <td>1</td>\n",
       "      <td>3</td>\n",
       "      <td>3</td>\n",
       "      <td>1</td>\n",
       "      <td>33.0</td>\n",
       "      <td>0</td>\n",
       "      <td>1</td>\n",
       "      <td>2</td>\n",
       "      <td>0</td>\n",
       "      <td>0</td>\n",
       "      <td>0</td>\n",
       "    </tr>\n",
       "    <tr>\n",
       "      <th>3</th>\n",
       "      <td>1</td>\n",
       "      <td>9</td>\n",
       "      <td>39.1</td>\n",
       "      <td>164</td>\n",
       "      <td>84</td>\n",
       "      <td>4</td>\n",
       "      <td>1</td>\n",
       "      <td>6</td>\n",
       "      <td>2</td>\n",
       "      <td>2</td>\n",
       "      <td>4</td>\n",
       "      <td>4</td>\n",
       "      <td>48.0</td>\n",
       "      <td>0</td>\n",
       "      <td>2</td>\n",
       "      <td>1</td>\n",
       "      <td>2</td>\n",
       "      <td>1</td>\n",
       "      <td>2</td>\n",
       "    </tr>\n",
       "    <tr>\n",
       "      <th>4</th>\n",
       "      <td>2</td>\n",
       "      <td>1</td>\n",
       "      <td>37.3</td>\n",
       "      <td>104</td>\n",
       "      <td>35</td>\n",
       "      <td>0</td>\n",
       "      <td>0</td>\n",
       "      <td>6</td>\n",
       "      <td>2</td>\n",
       "      <td>0</td>\n",
       "      <td>0</td>\n",
       "      <td>0</td>\n",
       "      <td>74.0</td>\n",
       "      <td>0</td>\n",
       "      <td>2</td>\n",
       "      <td>2</td>\n",
       "      <td>3</td>\n",
       "      <td>1</td>\n",
       "      <td>4</td>\n",
       "    </tr>\n",
       "    <tr>\n",
       "      <th>...</th>\n",
       "      <td>...</td>\n",
       "      <td>...</td>\n",
       "      <td>...</td>\n",
       "      <td>...</td>\n",
       "      <td>...</td>\n",
       "      <td>...</td>\n",
       "      <td>...</td>\n",
       "      <td>...</td>\n",
       "      <td>...</td>\n",
       "      <td>...</td>\n",
       "      <td>...</td>\n",
       "      <td>...</td>\n",
       "      <td>...</td>\n",
       "      <td>...</td>\n",
       "      <td>...</td>\n",
       "      <td>...</td>\n",
       "      <td>...</td>\n",
       "      <td>...</td>\n",
       "      <td>...</td>\n",
       "    </tr>\n",
       "    <tr>\n",
       "      <th>363</th>\n",
       "      <td>2</td>\n",
       "      <td>1</td>\n",
       "      <td>38.6</td>\n",
       "      <td>60</td>\n",
       "      <td>30</td>\n",
       "      <td>1</td>\n",
       "      <td>1</td>\n",
       "      <td>3</td>\n",
       "      <td>1</td>\n",
       "      <td>4</td>\n",
       "      <td>2</td>\n",
       "      <td>2</td>\n",
       "      <td>40.0</td>\n",
       "      <td>0</td>\n",
       "      <td>1</td>\n",
       "      <td>1</td>\n",
       "      <td>2</td>\n",
       "      <td>0</td>\n",
       "      <td>3</td>\n",
       "    </tr>\n",
       "    <tr>\n",
       "      <th>364</th>\n",
       "      <td>2</td>\n",
       "      <td>1</td>\n",
       "      <td>37.8</td>\n",
       "      <td>42</td>\n",
       "      <td>40</td>\n",
       "      <td>1</td>\n",
       "      <td>1</td>\n",
       "      <td>1</td>\n",
       "      <td>1</td>\n",
       "      <td>1</td>\n",
       "      <td>3</td>\n",
       "      <td>1</td>\n",
       "      <td>36.0</td>\n",
       "      <td>0</td>\n",
       "      <td>1</td>\n",
       "      <td>2</td>\n",
       "      <td>1</td>\n",
       "      <td>0</td>\n",
       "      <td>4</td>\n",
       "    </tr>\n",
       "    <tr>\n",
       "      <th>365</th>\n",
       "      <td>1</td>\n",
       "      <td>1</td>\n",
       "      <td>38.0</td>\n",
       "      <td>60</td>\n",
       "      <td>12</td>\n",
       "      <td>1</td>\n",
       "      <td>1</td>\n",
       "      <td>2</td>\n",
       "      <td>1</td>\n",
       "      <td>2</td>\n",
       "      <td>1</td>\n",
       "      <td>1</td>\n",
       "      <td>44.0</td>\n",
       "      <td>1</td>\n",
       "      <td>3</td>\n",
       "      <td>1</td>\n",
       "      <td>2</td>\n",
       "      <td>1</td>\n",
       "      <td>2</td>\n",
       "    </tr>\n",
       "    <tr>\n",
       "      <th>366</th>\n",
       "      <td>2</td>\n",
       "      <td>1</td>\n",
       "      <td>38.0</td>\n",
       "      <td>42</td>\n",
       "      <td>12</td>\n",
       "      <td>3</td>\n",
       "      <td>0</td>\n",
       "      <td>3</td>\n",
       "      <td>1</td>\n",
       "      <td>1</td>\n",
       "      <td>1</td>\n",
       "      <td>1</td>\n",
       "      <td>37.0</td>\n",
       "      <td>1</td>\n",
       "      <td>1</td>\n",
       "      <td>2</td>\n",
       "      <td>1</td>\n",
       "      <td>0</td>\n",
       "      <td>3</td>\n",
       "    </tr>\n",
       "    <tr>\n",
       "      <th>367</th>\n",
       "      <td>2</td>\n",
       "      <td>1</td>\n",
       "      <td>37.6</td>\n",
       "      <td>88</td>\n",
       "      <td>36</td>\n",
       "      <td>3</td>\n",
       "      <td>1</td>\n",
       "      <td>1</td>\n",
       "      <td>1</td>\n",
       "      <td>3</td>\n",
       "      <td>3</td>\n",
       "      <td>2</td>\n",
       "      <td>44.0</td>\n",
       "      <td>0</td>\n",
       "      <td>2</td>\n",
       "      <td>1</td>\n",
       "      <td>1</td>\n",
       "      <td>1</td>\n",
       "      <td>2</td>\n",
       "    </tr>\n",
       "  </tbody>\n",
       "</table>\n",
       "<p>368 rows × 19 columns</p>\n",
       "</div>"
      ],
      "text/plain": [
       "     surgery  Age  rectal temperature  pulse  respiratory rate  \\\n",
       "0          2    1                38.5     66                28   \n",
       "1          1    1                39.2     88                20   \n",
       "2          2    1                38.3     40                24   \n",
       "3          1    9                39.1    164                84   \n",
       "4          2    1                37.3    104                35   \n",
       "..       ...  ...                 ...    ...               ...   \n",
       "363        2    1                38.6     60                30   \n",
       "364        2    1                37.8     42                40   \n",
       "365        1    1                38.0     60                12   \n",
       "366        2    1                38.0     42                12   \n",
       "367        2    1                37.6     88                36   \n",
       "\n",
       "     temperature of extremities  peripheral pulse  mucous membranes  \\\n",
       "0                             3                 3                 0   \n",
       "1                             0                 0                 4   \n",
       "2                             1                 1                 3   \n",
       "3                             4                 1                 6   \n",
       "4                             0                 0                 6   \n",
       "..                          ...               ...               ...   \n",
       "363                           1                 1                 3   \n",
       "364                           1                 1                 1   \n",
       "365                           1                 1                 2   \n",
       "366                           3                 0                 3   \n",
       "367                           3                 1                 1   \n",
       "\n",
       "     capillary refill time  \\\n",
       "0                        2   \n",
       "1                        1   \n",
       "2                        1   \n",
       "3                        2   \n",
       "4                        2   \n",
       "..                     ...   \n",
       "363                      1   \n",
       "364                      1   \n",
       "365                      1   \n",
       "366                      1   \n",
       "367                      1   \n",
       "\n",
       "     pain  a subjective judgement of the horses pain level  peristalsis  \\\n",
       "0                                                    5                4   \n",
       "1                                                    3                4   \n",
       "2                                                    3                3   \n",
       "3                                                    2                4   \n",
       "4                                                    0                0   \n",
       "..                                                 ...              ...   \n",
       "363                                                  4                2   \n",
       "364                                                  1                3   \n",
       "365                                                  2                1   \n",
       "366                                                  1                1   \n",
       "367                                                  3                3   \n",
       "\n",
       "     abdominal distension  packed cell volume  total protein  outcome  \\\n",
       "0                       4                45.0              1        2   \n",
       "1                       2                50.0              1        3   \n",
       "2                       1                33.0              0        1   \n",
       "3                       4                48.0              0        2   \n",
       "4                       0                74.0              0        2   \n",
       "..                    ...                 ...            ...      ...   \n",
       "363                     2                40.0              0        1   \n",
       "364                     1                36.0              0        1   \n",
       "365                     1                44.0              1        3   \n",
       "366                     1                37.0              1        1   \n",
       "367                     2                44.0              0        2   \n",
       "\n",
       "     surgical lesion  type of lesion  Target  location of lesion  \n",
       "0                  2               1       1                   1  \n",
       "1                  2               2       1                   2  \n",
       "2                  2               0       0                   0  \n",
       "3                  1               2       1                   2  \n",
       "4                  2               3       1                   4  \n",
       "..               ...             ...     ...                 ...  \n",
       "363                1               2       0                   3  \n",
       "364                2               1       0                   4  \n",
       "365                1               2       1                   2  \n",
       "366                2               1       0                   3  \n",
       "367                1               1       1                   2  \n",
       "\n",
       "[368 rows x 19 columns]"
      ]
     },
     "execution_count": 2,
     "metadata": {},
     "output_type": "execute_result"
    }
   ],
   "source": [
    "df=df.drop('Unnamed: 0',axis=1)\n",
    "df"
   ]
  },
  {
   "cell_type": "code",
   "execution_count": 3,
   "metadata": {},
   "outputs": [
    {
     "data": {
      "text/plain": [
       "0    227\n",
       "1    141\n",
       "Name: Target, dtype: int64"
      ]
     },
     "execution_count": 3,
     "metadata": {},
     "output_type": "execute_result"
    }
   ],
   "source": [
    "SimpleBinary=df\n",
    "SimpleBinary['Target'].value_counts()"
   ]
  },
  {
   "cell_type": "code",
   "execution_count": 4,
   "metadata": {},
   "outputs": [
    {
     "data": {
      "text/plain": [
       "(368, 19)"
      ]
     },
     "execution_count": 4,
     "metadata": {},
     "output_type": "execute_result"
    }
   ],
   "source": [
    "SimpleBinary.shape"
   ]
  },
  {
   "cell_type": "code",
   "execution_count": 5,
   "metadata": {},
   "outputs": [],
   "source": [
    "#Create new df with even split of live die outcomes\n",
    "A=SimpleBinary[SimpleBinary['Target'] == 0].sample(n=141)\n",
    "B=SimpleBinary[SimpleBinary['Target'] == 1]"
   ]
  },
  {
   "cell_type": "code",
   "execution_count": 6,
   "metadata": {},
   "outputs": [
    {
     "data": {
      "text/html": [
       "<div>\n",
       "<style scoped>\n",
       "    .dataframe tbody tr th:only-of-type {\n",
       "        vertical-align: middle;\n",
       "    }\n",
       "\n",
       "    .dataframe tbody tr th {\n",
       "        vertical-align: top;\n",
       "    }\n",
       "\n",
       "    .dataframe thead th {\n",
       "        text-align: right;\n",
       "    }\n",
       "</style>\n",
       "<table border=\"1\" class=\"dataframe\">\n",
       "  <thead>\n",
       "    <tr style=\"text-align: right;\">\n",
       "      <th></th>\n",
       "      <th>surgery</th>\n",
       "      <th>Age</th>\n",
       "      <th>rectal temperature</th>\n",
       "      <th>pulse</th>\n",
       "      <th>respiratory rate</th>\n",
       "      <th>temperature of extremities</th>\n",
       "      <th>peripheral pulse</th>\n",
       "      <th>mucous membranes</th>\n",
       "      <th>capillary refill time</th>\n",
       "      <th>pain  a subjective judgement of the horses pain level</th>\n",
       "      <th>peristalsis</th>\n",
       "      <th>abdominal distension</th>\n",
       "      <th>packed cell volume</th>\n",
       "      <th>total protein</th>\n",
       "      <th>outcome</th>\n",
       "      <th>surgical lesion</th>\n",
       "      <th>type of lesion</th>\n",
       "      <th>Target</th>\n",
       "      <th>location of lesion</th>\n",
       "      <th>_merge</th>\n",
       "    </tr>\n",
       "  </thead>\n",
       "  <tbody>\n",
       "    <tr>\n",
       "      <th>0</th>\n",
       "      <td>2</td>\n",
       "      <td>1</td>\n",
       "      <td>38.3</td>\n",
       "      <td>40</td>\n",
       "      <td>24</td>\n",
       "      <td>1</td>\n",
       "      <td>1</td>\n",
       "      <td>3</td>\n",
       "      <td>1</td>\n",
       "      <td>3</td>\n",
       "      <td>3</td>\n",
       "      <td>1</td>\n",
       "      <td>33.0</td>\n",
       "      <td>0</td>\n",
       "      <td>1</td>\n",
       "      <td>2</td>\n",
       "      <td>0</td>\n",
       "      <td>0</td>\n",
       "      <td>0</td>\n",
       "      <td>left_only</td>\n",
       "    </tr>\n",
       "    <tr>\n",
       "      <th>1</th>\n",
       "      <td>2</td>\n",
       "      <td>1</td>\n",
       "      <td>38.1</td>\n",
       "      <td>60</td>\n",
       "      <td>28</td>\n",
       "      <td>2</td>\n",
       "      <td>1</td>\n",
       "      <td>3</td>\n",
       "      <td>1</td>\n",
       "      <td>2</td>\n",
       "      <td>3</td>\n",
       "      <td>2</td>\n",
       "      <td>44.0</td>\n",
       "      <td>0</td>\n",
       "      <td>1</td>\n",
       "      <td>2</td>\n",
       "      <td>0</td>\n",
       "      <td>0</td>\n",
       "      <td>0</td>\n",
       "      <td>left_only</td>\n",
       "    </tr>\n",
       "    <tr>\n",
       "      <th>9</th>\n",
       "      <td>1</td>\n",
       "      <td>1</td>\n",
       "      <td>37.6</td>\n",
       "      <td>64</td>\n",
       "      <td>21</td>\n",
       "      <td>1</td>\n",
       "      <td>1</td>\n",
       "      <td>2</td>\n",
       "      <td>1</td>\n",
       "      <td>2</td>\n",
       "      <td>3</td>\n",
       "      <td>1</td>\n",
       "      <td>40.0</td>\n",
       "      <td>0</td>\n",
       "      <td>1</td>\n",
       "      <td>1</td>\n",
       "      <td>2</td>\n",
       "      <td>0</td>\n",
       "      <td>4</td>\n",
       "      <td>left_only</td>\n",
       "    </tr>\n",
       "    <tr>\n",
       "      <th>14</th>\n",
       "      <td>1</td>\n",
       "      <td>9</td>\n",
       "      <td>38.3</td>\n",
       "      <td>130</td>\n",
       "      <td>60</td>\n",
       "      <td>0</td>\n",
       "      <td>3</td>\n",
       "      <td>0</td>\n",
       "      <td>1</td>\n",
       "      <td>2</td>\n",
       "      <td>4</td>\n",
       "      <td>0</td>\n",
       "      <td>50.0</td>\n",
       "      <td>1</td>\n",
       "      <td>1</td>\n",
       "      <td>1</td>\n",
       "      <td>1</td>\n",
       "      <td>0</td>\n",
       "      <td>3</td>\n",
       "      <td>left_only</td>\n",
       "    </tr>\n",
       "    <tr>\n",
       "      <th>21</th>\n",
       "      <td>1</td>\n",
       "      <td>1</td>\n",
       "      <td>37.8</td>\n",
       "      <td>48</td>\n",
       "      <td>12</td>\n",
       "      <td>3</td>\n",
       "      <td>1</td>\n",
       "      <td>1</td>\n",
       "      <td>1</td>\n",
       "      <td>0</td>\n",
       "      <td>3</td>\n",
       "      <td>2</td>\n",
       "      <td>37.0</td>\n",
       "      <td>1</td>\n",
       "      <td>1</td>\n",
       "      <td>2</td>\n",
       "      <td>1</td>\n",
       "      <td>0</td>\n",
       "      <td>4</td>\n",
       "      <td>left_only</td>\n",
       "    </tr>\n",
       "    <tr>\n",
       "      <th>...</th>\n",
       "      <td>...</td>\n",
       "      <td>...</td>\n",
       "      <td>...</td>\n",
       "      <td>...</td>\n",
       "      <td>...</td>\n",
       "      <td>...</td>\n",
       "      <td>...</td>\n",
       "      <td>...</td>\n",
       "      <td>...</td>\n",
       "      <td>...</td>\n",
       "      <td>...</td>\n",
       "      <td>...</td>\n",
       "      <td>...</td>\n",
       "      <td>...</td>\n",
       "      <td>...</td>\n",
       "      <td>...</td>\n",
       "      <td>...</td>\n",
       "      <td>...</td>\n",
       "      <td>...</td>\n",
       "      <td>...</td>\n",
       "    </tr>\n",
       "    <tr>\n",
       "      <th>222</th>\n",
       "      <td>2</td>\n",
       "      <td>1</td>\n",
       "      <td>38.3</td>\n",
       "      <td>44</td>\n",
       "      <td>60</td>\n",
       "      <td>0</td>\n",
       "      <td>0</td>\n",
       "      <td>1</td>\n",
       "      <td>1</td>\n",
       "      <td>0</td>\n",
       "      <td>0</td>\n",
       "      <td>0</td>\n",
       "      <td>6.4</td>\n",
       "      <td>1</td>\n",
       "      <td>1</td>\n",
       "      <td>1</td>\n",
       "      <td>0</td>\n",
       "      <td>0</td>\n",
       "      <td>0</td>\n",
       "      <td>left_only</td>\n",
       "    </tr>\n",
       "    <tr>\n",
       "      <th>223</th>\n",
       "      <td>2</td>\n",
       "      <td>1</td>\n",
       "      <td>37.4</td>\n",
       "      <td>54</td>\n",
       "      <td>18</td>\n",
       "      <td>3</td>\n",
       "      <td>0</td>\n",
       "      <td>1</td>\n",
       "      <td>1</td>\n",
       "      <td>3</td>\n",
       "      <td>4</td>\n",
       "      <td>3</td>\n",
       "      <td>30.0</td>\n",
       "      <td>0</td>\n",
       "      <td>1</td>\n",
       "      <td>1</td>\n",
       "      <td>1</td>\n",
       "      <td>0</td>\n",
       "      <td>7</td>\n",
       "      <td>left_only</td>\n",
       "    </tr>\n",
       "    <tr>\n",
       "      <th>224</th>\n",
       "      <td>1</td>\n",
       "      <td>1</td>\n",
       "      <td>38.1</td>\n",
       "      <td>60</td>\n",
       "      <td>28</td>\n",
       "      <td>4</td>\n",
       "      <td>3</td>\n",
       "      <td>0</td>\n",
       "      <td>2</td>\n",
       "      <td>2</td>\n",
       "      <td>4</td>\n",
       "      <td>1</td>\n",
       "      <td>54.0</td>\n",
       "      <td>1</td>\n",
       "      <td>1</td>\n",
       "      <td>1</td>\n",
       "      <td>4</td>\n",
       "      <td>0</td>\n",
       "      <td>8</td>\n",
       "      <td>left_only</td>\n",
       "    </tr>\n",
       "    <tr>\n",
       "      <th>228</th>\n",
       "      <td>2</td>\n",
       "      <td>1</td>\n",
       "      <td>38.6</td>\n",
       "      <td>60</td>\n",
       "      <td>30</td>\n",
       "      <td>1</td>\n",
       "      <td>1</td>\n",
       "      <td>3</td>\n",
       "      <td>1</td>\n",
       "      <td>4</td>\n",
       "      <td>2</td>\n",
       "      <td>2</td>\n",
       "      <td>40.0</td>\n",
       "      <td>0</td>\n",
       "      <td>1</td>\n",
       "      <td>1</td>\n",
       "      <td>2</td>\n",
       "      <td>0</td>\n",
       "      <td>3</td>\n",
       "      <td>left_only</td>\n",
       "    </tr>\n",
       "    <tr>\n",
       "      <th>229</th>\n",
       "      <td>2</td>\n",
       "      <td>1</td>\n",
       "      <td>37.8</td>\n",
       "      <td>42</td>\n",
       "      <td>40</td>\n",
       "      <td>1</td>\n",
       "      <td>1</td>\n",
       "      <td>1</td>\n",
       "      <td>1</td>\n",
       "      <td>1</td>\n",
       "      <td>3</td>\n",
       "      <td>1</td>\n",
       "      <td>36.0</td>\n",
       "      <td>0</td>\n",
       "      <td>1</td>\n",
       "      <td>2</td>\n",
       "      <td>1</td>\n",
       "      <td>0</td>\n",
       "      <td>4</td>\n",
       "      <td>left_only</td>\n",
       "    </tr>\n",
       "  </tbody>\n",
       "</table>\n",
       "<p>86 rows × 20 columns</p>\n",
       "</div>"
      ],
      "text/plain": [
       "     surgery  Age  rectal temperature  pulse  respiratory rate  \\\n",
       "0          2    1                38.3     40                24   \n",
       "1          2    1                38.1     60                28   \n",
       "9          1    1                37.6     64                21   \n",
       "14         1    9                38.3    130                60   \n",
       "21         1    1                37.8     48                12   \n",
       "..       ...  ...                 ...    ...               ...   \n",
       "222        2    1                38.3     44                60   \n",
       "223        2    1                37.4     54                18   \n",
       "224        1    1                38.1     60                28   \n",
       "228        2    1                38.6     60                30   \n",
       "229        2    1                37.8     42                40   \n",
       "\n",
       "     temperature of extremities  peripheral pulse  mucous membranes  \\\n",
       "0                             1                 1                 3   \n",
       "1                             2                 1                 3   \n",
       "9                             1                 1                 2   \n",
       "14                            0                 3                 0   \n",
       "21                            3                 1                 1   \n",
       "..                          ...               ...               ...   \n",
       "222                           0                 0                 1   \n",
       "223                           3                 0                 1   \n",
       "224                           4                 3                 0   \n",
       "228                           1                 1                 3   \n",
       "229                           1                 1                 1   \n",
       "\n",
       "     capillary refill time  \\\n",
       "0                        1   \n",
       "1                        1   \n",
       "9                        1   \n",
       "14                       1   \n",
       "21                       1   \n",
       "..                     ...   \n",
       "222                      1   \n",
       "223                      1   \n",
       "224                      2   \n",
       "228                      1   \n",
       "229                      1   \n",
       "\n",
       "     pain  a subjective judgement of the horses pain level  peristalsis  \\\n",
       "0                                                    3                3   \n",
       "1                                                    2                3   \n",
       "9                                                    2                3   \n",
       "14                                                   2                4   \n",
       "21                                                   0                3   \n",
       "..                                                 ...              ...   \n",
       "222                                                  0                0   \n",
       "223                                                  3                4   \n",
       "224                                                  2                4   \n",
       "228                                                  4                2   \n",
       "229                                                  1                3   \n",
       "\n",
       "     abdominal distension  packed cell volume  total protein  outcome  \\\n",
       "0                       1                33.0              0        1   \n",
       "1                       2                44.0              0        1   \n",
       "9                       1                40.0              0        1   \n",
       "14                      0                50.0              1        1   \n",
       "21                      2                37.0              1        1   \n",
       "..                    ...                 ...            ...      ...   \n",
       "222                     0                 6.4              1        1   \n",
       "223                     3                30.0              0        1   \n",
       "224                     1                54.0              1        1   \n",
       "228                     2                40.0              0        1   \n",
       "229                     1                36.0              0        1   \n",
       "\n",
       "     surgical lesion  type of lesion  Target  location of lesion     _merge  \n",
       "0                  2               0       0                   0  left_only  \n",
       "1                  2               0       0                   0  left_only  \n",
       "9                  1               2       0                   4  left_only  \n",
       "14                 1               1       0                   3  left_only  \n",
       "21                 2               1       0                   4  left_only  \n",
       "..               ...             ...     ...                 ...        ...  \n",
       "222                1               0       0                   0  left_only  \n",
       "223                1               1       0                   7  left_only  \n",
       "224                1               4       0                   8  left_only  \n",
       "228                1               2       0                   3  left_only  \n",
       "229                2               1       0                   4  left_only  \n",
       "\n",
       "[86 rows x 20 columns]"
      ]
     },
     "execution_count": 6,
     "metadata": {},
     "output_type": "execute_result"
    }
   ],
   "source": [
    "HoldoutSet=SimpleBinary[SimpleBinary['Target'] == 0]\n",
    "\n",
    "HoldoutSet=HoldoutSet.merge(A, how = 'outer' ,indicator=True).loc[lambda x : x['_merge']=='left_only']\n",
    "\n",
    "HoldoutSet"
   ]
  },
  {
   "cell_type": "code",
   "execution_count": 7,
   "metadata": {},
   "outputs": [],
   "source": [
    "SimpleBinary=A.append(B)"
   ]
  },
  {
   "cell_type": "code",
   "execution_count": 8,
   "metadata": {},
   "outputs": [],
   "source": [
    "from sklearn.utils import shuffle\n",
    "SimpleBinary = shuffle(SimpleBinary)"
   ]
  },
  {
   "cell_type": "code",
   "execution_count": 9,
   "metadata": {},
   "outputs": [
    {
     "data": {
      "text/plain": [
       "surgery                                                  0\n",
       "Age                                                      0\n",
       "rectal temperature                                       0\n",
       "pulse                                                    0\n",
       "respiratory rate                                         0\n",
       "temperature of extremities                               0\n",
       "peripheral pulse                                         0\n",
       "mucous membranes                                         0\n",
       "capillary refill time                                    0\n",
       "pain  a subjective judgement of the horses pain level    0\n",
       "peristalsis                                              0\n",
       "abdominal distension                                     0\n",
       "packed cell volume                                       0\n",
       "total protein                                            0\n",
       "outcome                                                  0\n",
       "surgical lesion                                          0\n",
       "type of lesion                                           0\n",
       "Target                                                   0\n",
       "location of lesion                                       0\n",
       "dtype: int64"
      ]
     },
     "execution_count": 9,
     "metadata": {},
     "output_type": "execute_result"
    }
   ],
   "source": [
    "SimpleBinary.isna().sum()"
   ]
  },
  {
   "cell_type": "code",
   "execution_count": 10,
   "metadata": {},
   "outputs": [],
   "source": [
    "SimpleBinary=SimpleBinary.fillna(0) "
   ]
  },
  {
   "cell_type": "code",
   "execution_count": 11,
   "metadata": {
    "slideshow": {
     "slide_type": "notes"
    }
   },
   "outputs": [
    {
     "data": {
      "text/plain": [
       "Index(['surgery', 'Age', 'rectal temperature', 'pulse', 'respiratory rate',\n",
       "       'temperature of extremities', 'peripheral pulse', 'mucous membranes',\n",
       "       'capillary refill time',\n",
       "       'pain  a subjective judgement of the horses pain level', 'peristalsis',\n",
       "       'abdominal distension', 'packed cell volume', 'total protein',\n",
       "       'surgical lesion', 'type of lesion', 'location of lesion'],\n",
       "      dtype='object')"
      ]
     },
     "execution_count": 11,
     "metadata": {},
     "output_type": "execute_result"
    }
   ],
   "source": [
    "X = SimpleBinary.drop(columns= ['outcome','Target'])\n",
    "#X = pd.get_dummies(X)\n",
    "X.columns"
   ]
  },
  {
   "cell_type": "code",
   "execution_count": 12,
   "metadata": {},
   "outputs": [
    {
     "data": {
      "text/plain": [
       "1    141\n",
       "0    141\n",
       "Name: Target, dtype: int64"
      ]
     },
     "execution_count": 12,
     "metadata": {},
     "output_type": "execute_result"
    }
   ],
   "source": [
    "y = SimpleBinary.Target ## creating target values\n",
    "y.value_counts()"
   ]
  },
  {
   "cell_type": "code",
   "execution_count": 13,
   "metadata": {
    "slideshow": {
     "slide_type": "slide"
    }
   },
   "outputs": [
    {
     "data": {
      "text/plain": [
       "LogisticRegression(C=1.0, class_weight=None, dual=False, fit_intercept=True,\n",
       "                   intercept_scaling=1, l1_ratio=None, max_iter=10000,\n",
       "                   multi_class='auto', n_jobs=None, penalty='none',\n",
       "                   random_state=40, solver='lbfgs', tol=0.0001, verbose=0,\n",
       "                   warm_start=False)"
      ]
     },
     "execution_count": 13,
     "metadata": {},
     "output_type": "execute_result"
    }
   ],
   "source": [
    "from sklearn.model_selection import train_test_split\n",
    "from sklearn.linear_model import LogisticRegression ## import model\n",
    "\n",
    "\n",
    "X_train, X_test, Y_train, Y_test = train_test_split(X, y, test_size = .15, random_state = 40)\n",
    "\n",
    "logreg = LogisticRegression(penalty = 'none', max_iter= 10000,random_state = 40) ## instantiate\n",
    "\n",
    "logreg.fit(X_train, Y_train) ## fit"
   ]
  },
  {
   "cell_type": "code",
   "execution_count": 14,
   "metadata": {
    "slideshow": {
     "slide_type": "slide"
    }
   },
   "outputs": [
    {
     "name": "stdout",
     "output_type": "stream",
     "text": [
      "0.8372093023255814\n",
      "0.7740585774058577\n"
     ]
    }
   ],
   "source": [
    "## Accuracy Scores\n",
    "score = logreg.score(X_test,Y_test)\n",
    "print(score)\n",
    "print(logreg.score(X_train,Y_train))"
   ]
  },
  {
   "cell_type": "code",
   "execution_count": 15,
   "metadata": {
    "slideshow": {
     "slide_type": "slide"
    }
   },
   "outputs": [],
   "source": [
    "predictions = logreg.predict(X_test)"
   ]
  },
  {
   "cell_type": "code",
   "execution_count": 16,
   "metadata": {},
   "outputs": [
    {
     "data": {
      "text/plain": [
       "array([0, 1, 0, 0, 0, 1, 1, 1, 1, 0, 0, 1, 1, 0, 0, 0, 0, 0, 1, 1, 0, 1,\n",
       "       0, 1, 1, 1, 0, 0, 1, 0, 1, 1, 1, 1, 0, 1, 0, 1, 0, 1, 0, 0, 0],\n",
       "      dtype=int64)"
      ]
     },
     "execution_count": 16,
     "metadata": {},
     "output_type": "execute_result"
    }
   ],
   "source": [
    "predictions"
   ]
  },
  {
   "cell_type": "code",
   "execution_count": 17,
   "metadata": {},
   "outputs": [
    {
     "data": {
      "text/plain": [
       "array([[0.78171684, 0.21828316],\n",
       "       [0.19180304, 0.80819696],\n",
       "       [0.8355923 , 0.1644077 ],\n",
       "       [0.72132841, 0.27867159],\n",
       "       [0.61705192, 0.38294808],\n",
       "       [0.45439716, 0.54560284],\n",
       "       [0.24078387, 0.75921613],\n",
       "       [0.47523267, 0.52476733],\n",
       "       [0.06440833, 0.93559167],\n",
       "       [0.50232961, 0.49767039],\n",
       "       [0.69876669, 0.30123331],\n",
       "       [0.34082309, 0.65917691],\n",
       "       [0.15051713, 0.84948287],\n",
       "       [0.89187254, 0.10812746],\n",
       "       [0.81600876, 0.18399124],\n",
       "       [0.76152509, 0.23847491],\n",
       "       [0.86007617, 0.13992383],\n",
       "       [0.89887969, 0.10112031],\n",
       "       [0.16221595, 0.83778405],\n",
       "       [0.41122586, 0.58877414],\n",
       "       [0.67567036, 0.32432964],\n",
       "       [0.23786112, 0.76213888],\n",
       "       [0.78506941, 0.21493059],\n",
       "       [0.05625418, 0.94374582],\n",
       "       [0.1151888 , 0.8848112 ],\n",
       "       [0.12592825, 0.87407175],\n",
       "       [0.92652524, 0.07347476],\n",
       "       [0.74914316, 0.25085684],\n",
       "       [0.26486297, 0.73513703],\n",
       "       [0.78065938, 0.21934062],\n",
       "       [0.31878181, 0.68121819],\n",
       "       [0.18414193, 0.81585807],\n",
       "       [0.41098179, 0.58901821],\n",
       "       [0.10353121, 0.89646879],\n",
       "       [0.52716184, 0.47283816],\n",
       "       [0.14053359, 0.85946641],\n",
       "       [0.84188694, 0.15811306],\n",
       "       [0.4328347 , 0.5671653 ],\n",
       "       [0.9257502 , 0.0742498 ],\n",
       "       [0.00696335, 0.99303665],\n",
       "       [0.68484936, 0.31515064],\n",
       "       [0.66525497, 0.33474503],\n",
       "       [0.96880688, 0.03119312]])"
      ]
     },
     "execution_count": 17,
     "metadata": {},
     "output_type": "execute_result"
    }
   ],
   "source": [
    "logreg.predict_proba(X_test)"
   ]
  },
  {
   "cell_type": "code",
   "execution_count": 18,
   "metadata": {},
   "outputs": [],
   "source": [
    "#logreg.coef_(X_test)"
   ]
  },
  {
   "cell_type": "code",
   "execution_count": 19,
   "metadata": {
    "slideshow": {
     "slide_type": "slide"
    }
   },
   "outputs": [],
   "source": [
    "from sklearn import metrics\n",
    "\n",
    "cm = metrics.confusion_matrix(Y_test, predictions)"
   ]
  },
  {
   "cell_type": "code",
   "execution_count": 20,
   "metadata": {
    "hide_input": true,
    "slideshow": {
     "slide_type": "slide"
    }
   },
   "outputs": [
    {
     "data": {
      "text/plain": [
       "<Figure size 900x900 with 2 Axes>"
      ]
     },
     "metadata": {},
     "output_type": "display_data"
    }
   ],
   "source": [
    "import seaborn as sns\n",
    "import matplotlib.pyplot as plt\n",
    "\n",
    "\n",
    "plt.figure(figsize=(9,9))\n",
    "sns.heatmap(cm, annot=True, fmt=\".3f\", linewidths=.5, square = True, cmap = 'Pastel1');\n",
    "plt.ylabel('Actual label');\n",
    "plt.xlabel('Predicted label');\n",
    "all_sample_title = 'Accuracy Score: {0}'.format(score)\n",
    "plt.title(all_sample_title, size = 15);\n",
    "plt.savefig('toy_Digits_ConfusionSeabornCodementor.png')\n",
    "plt.show()"
   ]
  },
  {
   "cell_type": "code",
   "execution_count": 21,
   "metadata": {},
   "outputs": [],
   "source": [
    "#remove values with correlation less than .1\n",
    "Corrs=SimpleBinary[SimpleBinary.columns].corr()['outcome']\n",
    "remove2=Corrs[np.sqrt(Corrs**2) < 0.1].index"
   ]
  },
  {
   "cell_type": "code",
   "execution_count": 22,
   "metadata": {},
   "outputs": [
    {
     "data": {
      "text/plain": [
       "Index(['Age', 'rectal temperature', 'total protein'], dtype='object')"
      ]
     },
     "execution_count": 22,
     "metadata": {},
     "output_type": "execute_result"
    }
   ],
   "source": [
    "remove2"
   ]
  },
  {
   "cell_type": "code",
   "execution_count": 23,
   "metadata": {},
   "outputs": [
    {
     "data": {
      "text/html": [
       "<div>\n",
       "<style scoped>\n",
       "    .dataframe tbody tr th:only-of-type {\n",
       "        vertical-align: middle;\n",
       "    }\n",
       "\n",
       "    .dataframe tbody tr th {\n",
       "        vertical-align: top;\n",
       "    }\n",
       "\n",
       "    .dataframe thead th {\n",
       "        text-align: right;\n",
       "    }\n",
       "</style>\n",
       "<table border=\"1\" class=\"dataframe\">\n",
       "  <thead>\n",
       "    <tr style=\"text-align: right;\">\n",
       "      <th></th>\n",
       "      <th>surgery</th>\n",
       "      <th>pulse</th>\n",
       "      <th>respiratory rate</th>\n",
       "      <th>temperature of extremities</th>\n",
       "      <th>peripheral pulse</th>\n",
       "      <th>mucous membranes</th>\n",
       "      <th>capillary refill time</th>\n",
       "      <th>pain  a subjective judgement of the horses pain level</th>\n",
       "      <th>peristalsis</th>\n",
       "      <th>abdominal distension</th>\n",
       "      <th>packed cell volume</th>\n",
       "      <th>outcome</th>\n",
       "      <th>surgical lesion</th>\n",
       "      <th>type of lesion</th>\n",
       "      <th>Target</th>\n",
       "      <th>location of lesion</th>\n",
       "    </tr>\n",
       "  </thead>\n",
       "  <tbody>\n",
       "    <tr>\n",
       "      <th>311</th>\n",
       "      <td>2</td>\n",
       "      <td>60</td>\n",
       "      <td>24</td>\n",
       "      <td>3</td>\n",
       "      <td>1</td>\n",
       "      <td>3</td>\n",
       "      <td>2</td>\n",
       "      <td>3</td>\n",
       "      <td>3</td>\n",
       "      <td>2</td>\n",
       "      <td>53.0</td>\n",
       "      <td>1</td>\n",
       "      <td>2</td>\n",
       "      <td>1</td>\n",
       "      <td>0</td>\n",
       "      <td>1</td>\n",
       "    </tr>\n",
       "    <tr>\n",
       "      <th>131</th>\n",
       "      <td>2</td>\n",
       "      <td>88</td>\n",
       "      <td>36</td>\n",
       "      <td>3</td>\n",
       "      <td>1</td>\n",
       "      <td>1</td>\n",
       "      <td>1</td>\n",
       "      <td>3</td>\n",
       "      <td>3</td>\n",
       "      <td>2</td>\n",
       "      <td>44.0</td>\n",
       "      <td>2</td>\n",
       "      <td>1</td>\n",
       "      <td>4</td>\n",
       "      <td>1</td>\n",
       "      <td>1</td>\n",
       "    </tr>\n",
       "    <tr>\n",
       "      <th>83</th>\n",
       "      <td>1</td>\n",
       "      <td>60</td>\n",
       "      <td>24</td>\n",
       "      <td>3</td>\n",
       "      <td>3</td>\n",
       "      <td>6</td>\n",
       "      <td>2</td>\n",
       "      <td>5</td>\n",
       "      <td>0</td>\n",
       "      <td>4</td>\n",
       "      <td>68.0</td>\n",
       "      <td>2</td>\n",
       "      <td>1</td>\n",
       "      <td>2</td>\n",
       "      <td>1</td>\n",
       "      <td>3</td>\n",
       "    </tr>\n",
       "    <tr>\n",
       "      <th>330</th>\n",
       "      <td>1</td>\n",
       "      <td>60</td>\n",
       "      <td>10</td>\n",
       "      <td>0</td>\n",
       "      <td>1</td>\n",
       "      <td>1</td>\n",
       "      <td>0</td>\n",
       "      <td>2</td>\n",
       "      <td>3</td>\n",
       "      <td>0</td>\n",
       "      <td>44.0</td>\n",
       "      <td>1</td>\n",
       "      <td>1</td>\n",
       "      <td>1</td>\n",
       "      <td>0</td>\n",
       "      <td>2</td>\n",
       "    </tr>\n",
       "    <tr>\n",
       "      <th>223</th>\n",
       "      <td>1</td>\n",
       "      <td>66</td>\n",
       "      <td>12</td>\n",
       "      <td>1</td>\n",
       "      <td>1</td>\n",
       "      <td>3</td>\n",
       "      <td>1</td>\n",
       "      <td>3</td>\n",
       "      <td>3</td>\n",
       "      <td>2</td>\n",
       "      <td>31.5</td>\n",
       "      <td>1</td>\n",
       "      <td>1</td>\n",
       "      <td>2</td>\n",
       "      <td>0</td>\n",
       "      <td>2</td>\n",
       "    </tr>\n",
       "    <tr>\n",
       "      <th>...</th>\n",
       "      <td>...</td>\n",
       "      <td>...</td>\n",
       "      <td>...</td>\n",
       "      <td>...</td>\n",
       "      <td>...</td>\n",
       "      <td>...</td>\n",
       "      <td>...</td>\n",
       "      <td>...</td>\n",
       "      <td>...</td>\n",
       "      <td>...</td>\n",
       "      <td>...</td>\n",
       "      <td>...</td>\n",
       "      <td>...</td>\n",
       "      <td>...</td>\n",
       "      <td>...</td>\n",
       "      <td>...</td>\n",
       "    </tr>\n",
       "    <tr>\n",
       "      <th>36</th>\n",
       "      <td>2</td>\n",
       "      <td>112</td>\n",
       "      <td>16</td>\n",
       "      <td>0</td>\n",
       "      <td>3</td>\n",
       "      <td>5</td>\n",
       "      <td>2</td>\n",
       "      <td>0</td>\n",
       "      <td>0</td>\n",
       "      <td>1</td>\n",
       "      <td>51.0</td>\n",
       "      <td>3</td>\n",
       "      <td>2</td>\n",
       "      <td>2</td>\n",
       "      <td>1</td>\n",
       "      <td>5</td>\n",
       "    </tr>\n",
       "    <tr>\n",
       "      <th>214</th>\n",
       "      <td>2</td>\n",
       "      <td>56</td>\n",
       "      <td>32</td>\n",
       "      <td>2</td>\n",
       "      <td>1</td>\n",
       "      <td>1</td>\n",
       "      <td>1</td>\n",
       "      <td>1</td>\n",
       "      <td>1</td>\n",
       "      <td>1</td>\n",
       "      <td>40.0</td>\n",
       "      <td>1</td>\n",
       "      <td>2</td>\n",
       "      <td>0</td>\n",
       "      <td>0</td>\n",
       "      <td>0</td>\n",
       "    </tr>\n",
       "    <tr>\n",
       "      <th>321</th>\n",
       "      <td>1</td>\n",
       "      <td>80</td>\n",
       "      <td>28</td>\n",
       "      <td>3</td>\n",
       "      <td>3</td>\n",
       "      <td>4</td>\n",
       "      <td>2</td>\n",
       "      <td>5</td>\n",
       "      <td>4</td>\n",
       "      <td>3</td>\n",
       "      <td>45.0</td>\n",
       "      <td>1</td>\n",
       "      <td>1</td>\n",
       "      <td>2</td>\n",
       "      <td>0</td>\n",
       "      <td>3</td>\n",
       "    </tr>\n",
       "    <tr>\n",
       "      <th>29</th>\n",
       "      <td>2</td>\n",
       "      <td>48</td>\n",
       "      <td>28</td>\n",
       "      <td>2</td>\n",
       "      <td>1</td>\n",
       "      <td>1</td>\n",
       "      <td>1</td>\n",
       "      <td>1</td>\n",
       "      <td>1</td>\n",
       "      <td>1</td>\n",
       "      <td>45.0</td>\n",
       "      <td>1</td>\n",
       "      <td>2</td>\n",
       "      <td>0</td>\n",
       "      <td>0</td>\n",
       "      <td>0</td>\n",
       "    </tr>\n",
       "    <tr>\n",
       "      <th>304</th>\n",
       "      <td>2</td>\n",
       "      <td>42</td>\n",
       "      <td>12</td>\n",
       "      <td>3</td>\n",
       "      <td>0</td>\n",
       "      <td>3</td>\n",
       "      <td>1</td>\n",
       "      <td>1</td>\n",
       "      <td>0</td>\n",
       "      <td>1</td>\n",
       "      <td>37.0</td>\n",
       "      <td>1</td>\n",
       "      <td>2</td>\n",
       "      <td>1</td>\n",
       "      <td>0</td>\n",
       "      <td>3</td>\n",
       "    </tr>\n",
       "  </tbody>\n",
       "</table>\n",
       "<p>282 rows × 16 columns</p>\n",
       "</div>"
      ],
      "text/plain": [
       "     surgery  pulse  respiratory rate  temperature of extremities  \\\n",
       "311        2     60                24                           3   \n",
       "131        2     88                36                           3   \n",
       "83         1     60                24                           3   \n",
       "330        1     60                10                           0   \n",
       "223        1     66                12                           1   \n",
       "..       ...    ...               ...                         ...   \n",
       "36         2    112                16                           0   \n",
       "214        2     56                32                           2   \n",
       "321        1     80                28                           3   \n",
       "29         2     48                28                           2   \n",
       "304        2     42                12                           3   \n",
       "\n",
       "     peripheral pulse  mucous membranes  capillary refill time  \\\n",
       "311                 1                 3                      2   \n",
       "131                 1                 1                      1   \n",
       "83                  3                 6                      2   \n",
       "330                 1                 1                      0   \n",
       "223                 1                 3                      1   \n",
       "..                ...               ...                    ...   \n",
       "36                  3                 5                      2   \n",
       "214                 1                 1                      1   \n",
       "321                 3                 4                      2   \n",
       "29                  1                 1                      1   \n",
       "304                 0                 3                      1   \n",
       "\n",
       "     pain  a subjective judgement of the horses pain level  peristalsis  \\\n",
       "311                                                  3                3   \n",
       "131                                                  3                3   \n",
       "83                                                   5                0   \n",
       "330                                                  2                3   \n",
       "223                                                  3                3   \n",
       "..                                                 ...              ...   \n",
       "36                                                   0                0   \n",
       "214                                                  1                1   \n",
       "321                                                  5                4   \n",
       "29                                                   1                1   \n",
       "304                                                  1                0   \n",
       "\n",
       "     abdominal distension  packed cell volume  outcome  surgical lesion  \\\n",
       "311                     2                53.0        1                2   \n",
       "131                     2                44.0        2                1   \n",
       "83                      4                68.0        2                1   \n",
       "330                     0                44.0        1                1   \n",
       "223                     2                31.5        1                1   \n",
       "..                    ...                 ...      ...              ...   \n",
       "36                      1                51.0        3                2   \n",
       "214                     1                40.0        1                2   \n",
       "321                     3                45.0        1                1   \n",
       "29                      1                45.0        1                2   \n",
       "304                     1                37.0        1                2   \n",
       "\n",
       "     type of lesion  Target  location of lesion  \n",
       "311               1       0                   1  \n",
       "131               4       1                   1  \n",
       "83                2       1                   3  \n",
       "330               1       0                   2  \n",
       "223               2       0                   2  \n",
       "..              ...     ...                 ...  \n",
       "36                2       1                   5  \n",
       "214               0       0                   0  \n",
       "321               2       0                   3  \n",
       "29                0       0                   0  \n",
       "304               1       0                   3  \n",
       "\n",
       "[282 rows x 16 columns]"
      ]
     },
     "execution_count": 23,
     "metadata": {},
     "output_type": "execute_result"
    }
   ],
   "source": [
    "SimpleBinary2=SimpleBinary.drop(list(remove2), axis=1)\n",
    "SimpleBinary2"
   ]
  },
  {
   "cell_type": "markdown",
   "metadata": {},
   "source": [
    "Run it again low corrs gone"
   ]
  },
  {
   "cell_type": "code",
   "execution_count": 24,
   "metadata": {
    "slideshow": {
     "slide_type": "notes"
    }
   },
   "outputs": [
    {
     "data": {
      "text/plain": [
       "Index(['surgery', 'pulse', 'respiratory rate', 'temperature of extremities',\n",
       "       'peripheral pulse', 'mucous membranes', 'capillary refill time',\n",
       "       'pain  a subjective judgement of the horses pain level', 'peristalsis',\n",
       "       'abdominal distension', 'packed cell volume', 'surgical lesion',\n",
       "       'type of lesion', 'location of lesion'],\n",
       "      dtype='object')"
      ]
     },
     "execution_count": 24,
     "metadata": {},
     "output_type": "execute_result"
    }
   ],
   "source": [
    "X = SimpleBinary2.drop(columns= ['outcome','Target'])\n",
    "#X = pd.get_dummies(X)\n",
    "X.columns"
   ]
  },
  {
   "cell_type": "code",
   "execution_count": 25,
   "metadata": {},
   "outputs": [
    {
     "data": {
      "text/plain": [
       "1    141\n",
       "0    141\n",
       "Name: Target, dtype: int64"
      ]
     },
     "execution_count": 25,
     "metadata": {},
     "output_type": "execute_result"
    }
   ],
   "source": [
    "y = SimpleBinary2.Target ## creating target values\n",
    "y.value_counts()"
   ]
  },
  {
   "cell_type": "code",
   "execution_count": 26,
   "metadata": {
    "slideshow": {
     "slide_type": "slide"
    }
   },
   "outputs": [
    {
     "data": {
      "text/plain": [
       "LogisticRegression(C=1.0, class_weight=None, dual=False, fit_intercept=True,\n",
       "                   intercept_scaling=1, l1_ratio=None, max_iter=10000,\n",
       "                   multi_class='auto', n_jobs=None, penalty='none',\n",
       "                   random_state=40, solver='lbfgs', tol=0.0001, verbose=0,\n",
       "                   warm_start=False)"
      ]
     },
     "execution_count": 26,
     "metadata": {},
     "output_type": "execute_result"
    }
   ],
   "source": [
    "from sklearn.model_selection import train_test_split\n",
    "from sklearn.linear_model import LogisticRegression ## import model\n",
    "\n",
    "\n",
    "X_train, X_test, Y_train, Y_test = train_test_split(X, y, test_size = .25, random_state = 40)\n",
    "\n",
    "logreg = LogisticRegression(penalty = 'none', max_iter= 10000,random_state = 40) ## instantiate\n",
    "\n",
    "logreg.fit(X_train, Y_train) ## fit"
   ]
  },
  {
   "cell_type": "code",
   "execution_count": 27,
   "metadata": {
    "slideshow": {
     "slide_type": "slide"
    }
   },
   "outputs": [
    {
     "name": "stdout",
     "output_type": "stream",
     "text": [
      "0.7630331753554502\n",
      "0.8450704225352113\n"
     ]
    }
   ],
   "source": [
    "## Accuracy Scores\n",
    "trainscore = logreg.score(X_train,Y_train)\n",
    "testscore = logreg.score(X_test,Y_test)\n",
    "\n",
    "print(trainscore)\n",
    "print(testscore)"
   ]
  },
  {
   "cell_type": "code",
   "execution_count": 28,
   "metadata": {
    "slideshow": {
     "slide_type": "slide"
    }
   },
   "outputs": [],
   "source": [
    "predictions = logreg.predict(X_test)"
   ]
  },
  {
   "cell_type": "code",
   "execution_count": 29,
   "metadata": {},
   "outputs": [
    {
     "data": {
      "text/plain": [
       "array([0, 1, 0, 0, 0, 1, 1, 1, 1, 1, 0, 1, 1, 0, 0, 0, 0, 0, 1, 1, 0, 1,\n",
       "       0, 1, 1, 1, 0, 0, 1, 0, 1, 1, 1, 1, 1, 1, 0, 1, 0, 1, 0, 0, 0, 1,\n",
       "       1, 0, 0, 0, 0, 0, 0, 0, 1, 0, 0, 0, 1, 0, 0, 1, 0, 0, 0, 0, 0, 1,\n",
       "       0, 1, 1, 1, 0], dtype=int64)"
      ]
     },
     "execution_count": 29,
     "metadata": {},
     "output_type": "execute_result"
    }
   ],
   "source": [
    "predictions"
   ]
  },
  {
   "cell_type": "code",
   "execution_count": 30,
   "metadata": {},
   "outputs": [],
   "source": [
    "#logreg.predict_proba(X_test)"
   ]
  },
  {
   "cell_type": "code",
   "execution_count": 31,
   "metadata": {},
   "outputs": [],
   "source": [
    "#logreg.coef_(X_test)"
   ]
  },
  {
   "cell_type": "code",
   "execution_count": 32,
   "metadata": {
    "slideshow": {
     "slide_type": "slide"
    }
   },
   "outputs": [],
   "source": [
    "from sklearn import metrics\n",
    "\n",
    "cm = metrics.confusion_matrix(Y_test, predictions)"
   ]
  },
  {
   "cell_type": "code",
   "execution_count": 33,
   "metadata": {
    "hide_input": true,
    "slideshow": {
     "slide_type": "slide"
    }
   },
   "outputs": [
    {
     "data": {
      "image/png": "[encoded data removed]",
      "text/plain": [
       "<Figure size 648x648 with 2 Axes>"
      ]
     },
     "metadata": {
      "needs_background": "light"
     },
     "output_type": "display_data"
    }
   ],
   "source": [
    "import seaborn as sns\n",
    "import matplotlib.pyplot as plt\n",
    "\n",
    "\n",
    "plt.figure(figsize=(9,9))\n",
    "sns.heatmap(cm, annot=True, fmt=\".3f\", linewidths=.5, square = True, cmap = 'RdBu');\n",
    "plt.ylabel('Actual label');\n",
    "plt.xlabel('Predicted label');\n",
    "all_sample_title = 'Accuracy Score: {0}'.format(testscore)\n",
    "plt.title(all_sample_title, size = 15);\n",
    "#plt.savefig('toy_Digits_ConfusionSeabornCodementor.png')\n",
    "plt.show()"
   ]
  },
  {
   "cell_type": "markdown",
   "metadata": {},
   "source": [
    "Laaasssoooo"
   ]
  },
  {
   "cell_type": "code",
   "execution_count": 34,
   "metadata": {},
   "outputs": [
    {
     "data": {
      "image/png": "[encoded data removed]",
      "text/plain": [
       "<Figure size 432x288 with 1 Axes>"
      ]
     },
     "metadata": {
      "needs_background": "light"
     },
     "output_type": "display_data"
    },
    {
     "data": {
      "text/plain": [
       "array([0.00000000e+00, 3.51800085e-03, 9.10706997e-04, 0.00000000e+00,\n",
       "       0.00000000e+00, 5.19194393e-07, 0.00000000e+00, 2.03780476e-02,\n",
       "       0.00000000e+00, 0.00000000e+00, 6.90519122e-03, 0.00000000e+00,\n",
       "       1.28921172e-01, 0.00000000e+00])"
      ]
     },
     "execution_count": 34,
     "metadata": {},
     "output_type": "execute_result"
    }
   ],
   "source": [
    "from sklearn.linear_model import LassoCV\n",
    "\n",
    "lasso = LassoCV().fit(X_train, Y_train)\n",
    "importance = np.abs(lasso.coef_)\n",
    "#feature_names = np.array(X_train.values)\n",
    "plt.bar(height=importance, x=X_train.columns)\n",
    "plt.xticks(rotation=90)\n",
    "plt.title(\"Feature importances via coefficients\")\n",
    "plt.show()\n",
    "importance"
   ]
  },
  {
   "cell_type": "code",
   "execution_count": 35,
   "metadata": {},
   "outputs": [
    {
     "data": {
      "text/html": [
       "<div>\n",
       "<style scoped>\n",
       "    .dataframe tbody tr th:only-of-type {\n",
       "        vertical-align: middle;\n",
       "    }\n",
       "\n",
       "    .dataframe tbody tr th {\n",
       "        vertical-align: top;\n",
       "    }\n",
       "\n",
       "    .dataframe thead th {\n",
       "        text-align: right;\n",
       "    }\n",
       "</style>\n",
       "<table border=\"1\" class=\"dataframe\">\n",
       "  <thead>\n",
       "    <tr style=\"text-align: right;\">\n",
       "      <th></th>\n",
       "      <th>feature</th>\n",
       "      <th>importance</th>\n",
       "    </tr>\n",
       "  </thead>\n",
       "  <tbody>\n",
       "    <tr>\n",
       "      <th>0</th>\n",
       "      <td>surgery</td>\n",
       "      <td>0.000000e+00</td>\n",
       "    </tr>\n",
       "    <tr>\n",
       "      <th>1</th>\n",
       "      <td>pulse</td>\n",
       "      <td>3.518001e-03</td>\n",
       "    </tr>\n",
       "    <tr>\n",
       "      <th>2</th>\n",
       "      <td>respiratory rate</td>\n",
       "      <td>9.107070e-04</td>\n",
       "    </tr>\n",
       "    <tr>\n",
       "      <th>3</th>\n",
       "      <td>temperature of extremities</td>\n",
       "      <td>0.000000e+00</td>\n",
       "    </tr>\n",
       "    <tr>\n",
       "      <th>4</th>\n",
       "      <td>peripheral pulse</td>\n",
       "      <td>0.000000e+00</td>\n",
       "    </tr>\n",
       "    <tr>\n",
       "      <th>5</th>\n",
       "      <td>mucous membranes</td>\n",
       "      <td>5.191944e-07</td>\n",
       "    </tr>\n",
       "    <tr>\n",
       "      <th>6</th>\n",
       "      <td>capillary refill time</td>\n",
       "      <td>0.000000e+00</td>\n",
       "    </tr>\n",
       "    <tr>\n",
       "      <th>7</th>\n",
       "      <td>pain  a subjective judgement of the horses pai...</td>\n",
       "      <td>2.037805e-02</td>\n",
       "    </tr>\n",
       "    <tr>\n",
       "      <th>8</th>\n",
       "      <td>peristalsis</td>\n",
       "      <td>0.000000e+00</td>\n",
       "    </tr>\n",
       "    <tr>\n",
       "      <th>9</th>\n",
       "      <td>abdominal distension</td>\n",
       "      <td>0.000000e+00</td>\n",
       "    </tr>\n",
       "    <tr>\n",
       "      <th>10</th>\n",
       "      <td>packed cell volume</td>\n",
       "      <td>6.905191e-03</td>\n",
       "    </tr>\n",
       "    <tr>\n",
       "      <th>11</th>\n",
       "      <td>surgical lesion</td>\n",
       "      <td>0.000000e+00</td>\n",
       "    </tr>\n",
       "    <tr>\n",
       "      <th>12</th>\n",
       "      <td>type of lesion</td>\n",
       "      <td>1.289212e-01</td>\n",
       "    </tr>\n",
       "    <tr>\n",
       "      <th>13</th>\n",
       "      <td>location of lesion</td>\n",
       "      <td>0.000000e+00</td>\n",
       "    </tr>\n",
       "  </tbody>\n",
       "</table>\n",
       "</div>"
      ],
      "text/plain": [
       "                                              feature    importance\n",
       "0                                             surgery  0.000000e+00\n",
       "1                                               pulse  3.518001e-03\n",
       "2                                    respiratory rate  9.107070e-04\n",
       "3                          temperature of extremities  0.000000e+00\n",
       "4                                    peripheral pulse  0.000000e+00\n",
       "5                                    mucous membranes  5.191944e-07\n",
       "6                               capillary refill time  0.000000e+00\n",
       "7   pain  a subjective judgement of the horses pai...  2.037805e-02\n",
       "8                                         peristalsis  0.000000e+00\n",
       "9                                abdominal distension  0.000000e+00\n",
       "10                                 packed cell volume  6.905191e-03\n",
       "11                                    surgical lesion  0.000000e+00\n",
       "12                                     type of lesion  1.289212e-01\n",
       "13                                 location of lesion  0.000000e+00"
      ]
     },
     "execution_count": 35,
     "metadata": {},
     "output_type": "execute_result"
    }
   ],
   "source": [
    "LassoOutcome = {'feature':X_train.columns,'importance':list(importance)}\n",
    "LassoOutcome = pd.DataFrame(LassoOutcome)\n",
    "LassoOutcome"
   ]
  },
  {
   "cell_type": "code",
   "execution_count": 36,
   "metadata": {},
   "outputs": [
    {
     "data": {
      "text/plain": [
       "['surgery',\n",
       " 'temperature of extremities',\n",
       " 'peripheral pulse',\n",
       " 'capillary refill time',\n",
       " 'peristalsis',\n",
       " 'abdominal distension',\n",
       " 'surgical lesion',\n",
       " 'location of lesion']"
      ]
     },
     "execution_count": 36,
     "metadata": {},
     "output_type": "execute_result"
    }
   ],
   "source": [
    "#remove values with importance of 0\n",
    "Lassoremove=LassoOutcome[LassoOutcome['importance'] == 0]\n",
    "list(Lassoremove['feature'])"
   ]
  },
  {
   "cell_type": "code",
   "execution_count": 37,
   "metadata": {},
   "outputs": [
    {
     "data": {
      "text/html": [
       "<div>\n",
       "<style scoped>\n",
       "    .dataframe tbody tr th:only-of-type {\n",
       "        vertical-align: middle;\n",
       "    }\n",
       "\n",
       "    .dataframe tbody tr th {\n",
       "        vertical-align: top;\n",
       "    }\n",
       "\n",
       "    .dataframe thead th {\n",
       "        text-align: right;\n",
       "    }\n",
       "</style>\n",
       "<table border=\"1\" class=\"dataframe\">\n",
       "  <thead>\n",
       "    <tr style=\"text-align: right;\">\n",
       "      <th></th>\n",
       "      <th>Age</th>\n",
       "      <th>rectal temperature</th>\n",
       "      <th>pulse</th>\n",
       "      <th>respiratory rate</th>\n",
       "      <th>mucous membranes</th>\n",
       "      <th>pain  a subjective judgement of the horses pain level</th>\n",
       "      <th>packed cell volume</th>\n",
       "      <th>total protein</th>\n",
       "      <th>outcome</th>\n",
       "      <th>type of lesion</th>\n",
       "      <th>Target</th>\n",
       "    </tr>\n",
       "  </thead>\n",
       "  <tbody>\n",
       "    <tr>\n",
       "      <th>311</th>\n",
       "      <td>1</td>\n",
       "      <td>38.2</td>\n",
       "      <td>60</td>\n",
       "      <td>24</td>\n",
       "      <td>3</td>\n",
       "      <td>3</td>\n",
       "      <td>53.0</td>\n",
       "      <td>0</td>\n",
       "      <td>1</td>\n",
       "      <td>1</td>\n",
       "      <td>0</td>\n",
       "    </tr>\n",
       "    <tr>\n",
       "      <th>131</th>\n",
       "      <td>1</td>\n",
       "      <td>37.6</td>\n",
       "      <td>88</td>\n",
       "      <td>36</td>\n",
       "      <td>1</td>\n",
       "      <td>3</td>\n",
       "      <td>44.0</td>\n",
       "      <td>0</td>\n",
       "      <td>2</td>\n",
       "      <td>4</td>\n",
       "      <td>1</td>\n",
       "    </tr>\n",
       "    <tr>\n",
       "      <th>83</th>\n",
       "      <td>1</td>\n",
       "      <td>38.0</td>\n",
       "      <td>60</td>\n",
       "      <td>24</td>\n",
       "      <td>6</td>\n",
       "      <td>5</td>\n",
       "      <td>68.0</td>\n",
       "      <td>1</td>\n",
       "      <td>2</td>\n",
       "      <td>2</td>\n",
       "      <td>1</td>\n",
       "    </tr>\n",
       "    <tr>\n",
       "      <th>330</th>\n",
       "      <td>1</td>\n",
       "      <td>39.1</td>\n",
       "      <td>60</td>\n",
       "      <td>10</td>\n",
       "      <td>1</td>\n",
       "      <td>2</td>\n",
       "      <td>44.0</td>\n",
       "      <td>0</td>\n",
       "      <td>1</td>\n",
       "      <td>1</td>\n",
       "      <td>0</td>\n",
       "    </tr>\n",
       "    <tr>\n",
       "      <th>223</th>\n",
       "      <td>1</td>\n",
       "      <td>37.7</td>\n",
       "      <td>66</td>\n",
       "      <td>12</td>\n",
       "      <td>3</td>\n",
       "      <td>3</td>\n",
       "      <td>31.5</td>\n",
       "      <td>0</td>\n",
       "      <td>1</td>\n",
       "      <td>2</td>\n",
       "      <td>0</td>\n",
       "    </tr>\n",
       "    <tr>\n",
       "      <th>...</th>\n",
       "      <td>...</td>\n",
       "      <td>...</td>\n",
       "      <td>...</td>\n",
       "      <td>...</td>\n",
       "      <td>...</td>\n",
       "      <td>...</td>\n",
       "      <td>...</td>\n",
       "      <td>...</td>\n",
       "      <td>...</td>\n",
       "      <td>...</td>\n",
       "      <td>...</td>\n",
       "    </tr>\n",
       "    <tr>\n",
       "      <th>36</th>\n",
       "      <td>1</td>\n",
       "      <td>38.3</td>\n",
       "      <td>112</td>\n",
       "      <td>16</td>\n",
       "      <td>5</td>\n",
       "      <td>0</td>\n",
       "      <td>51.0</td>\n",
       "      <td>0</td>\n",
       "      <td>3</td>\n",
       "      <td>2</td>\n",
       "      <td>1</td>\n",
       "    </tr>\n",
       "    <tr>\n",
       "      <th>214</th>\n",
       "      <td>1</td>\n",
       "      <td>38.6</td>\n",
       "      <td>56</td>\n",
       "      <td>32</td>\n",
       "      <td>1</td>\n",
       "      <td>1</td>\n",
       "      <td>40.0</td>\n",
       "      <td>0</td>\n",
       "      <td>1</td>\n",
       "      <td>0</td>\n",
       "      <td>0</td>\n",
       "    </tr>\n",
       "    <tr>\n",
       "      <th>321</th>\n",
       "      <td>1</td>\n",
       "      <td>38.3</td>\n",
       "      <td>80</td>\n",
       "      <td>28</td>\n",
       "      <td>4</td>\n",
       "      <td>5</td>\n",
       "      <td>45.0</td>\n",
       "      <td>0</td>\n",
       "      <td>1</td>\n",
       "      <td>2</td>\n",
       "      <td>0</td>\n",
       "    </tr>\n",
       "    <tr>\n",
       "      <th>29</th>\n",
       "      <td>1</td>\n",
       "      <td>37.7</td>\n",
       "      <td>48</td>\n",
       "      <td>28</td>\n",
       "      <td>1</td>\n",
       "      <td>1</td>\n",
       "      <td>45.0</td>\n",
       "      <td>1</td>\n",
       "      <td>1</td>\n",
       "      <td>0</td>\n",
       "      <td>0</td>\n",
       "    </tr>\n",
       "    <tr>\n",
       "      <th>304</th>\n",
       "      <td>1</td>\n",
       "      <td>38.0</td>\n",
       "      <td>42</td>\n",
       "      <td>12</td>\n",
       "      <td>3</td>\n",
       "      <td>1</td>\n",
       "      <td>37.0</td>\n",
       "      <td>1</td>\n",
       "      <td>1</td>\n",
       "      <td>1</td>\n",
       "      <td>0</td>\n",
       "    </tr>\n",
       "  </tbody>\n",
       "</table>\n",
       "<p>282 rows × 11 columns</p>\n",
       "</div>"
      ],
      "text/plain": [
       "     Age  rectal temperature  pulse  respiratory rate  mucous membranes  \\\n",
       "311    1                38.2     60                24                 3   \n",
       "131    1                37.6     88                36                 1   \n",
       "83     1                38.0     60                24                 6   \n",
       "330    1                39.1     60                10                 1   \n",
       "223    1                37.7     66                12                 3   \n",
       "..   ...                 ...    ...               ...               ...   \n",
       "36     1                38.3    112                16                 5   \n",
       "214    1                38.6     56                32                 1   \n",
       "321    1                38.3     80                28                 4   \n",
       "29     1                37.7     48                28                 1   \n",
       "304    1                38.0     42                12                 3   \n",
       "\n",
       "     pain  a subjective judgement of the horses pain level  \\\n",
       "311                                                  3       \n",
       "131                                                  3       \n",
       "83                                                   5       \n",
       "330                                                  2       \n",
       "223                                                  3       \n",
       "..                                                 ...       \n",
       "36                                                   0       \n",
       "214                                                  1       \n",
       "321                                                  5       \n",
       "29                                                   1       \n",
       "304                                                  1       \n",
       "\n",
       "     packed cell volume  total protein  outcome  type of lesion  Target  \n",
       "311                53.0              0        1               1       0  \n",
       "131                44.0              0        2               4       1  \n",
       "83                 68.0              1        2               2       1  \n",
       "330                44.0              0        1               1       0  \n",
       "223                31.5              0        1               2       0  \n",
       "..                  ...            ...      ...             ...     ...  \n",
       "36                 51.0              0        3               2       1  \n",
       "214                40.0              0        1               0       0  \n",
       "321                45.0              0        1               2       0  \n",
       "29                 45.0              1        1               0       0  \n",
       "304                37.0              1        1               1       0  \n",
       "\n",
       "[282 rows x 11 columns]"
      ]
     },
     "execution_count": 37,
     "metadata": {},
     "output_type": "execute_result"
    }
   ],
   "source": [
    "SimpleBinary3=SimpleBinary.drop(list(Lassoremove['feature']), axis=1)\n",
    "SimpleBinary3"
   ]
  },
  {
   "cell_type": "markdown",
   "metadata": {},
   "source": [
    "Now lets retrain the classifier model using these features."
   ]
  },
  {
   "cell_type": "code",
   "execution_count": 38,
   "metadata": {
    "slideshow": {
     "slide_type": "notes"
    }
   },
   "outputs": [
    {
     "data": {
      "text/plain": [
       "Index(['Age', 'rectal temperature', 'pulse', 'respiratory rate',\n",
       "       'mucous membranes',\n",
       "       'pain  a subjective judgement of the horses pain level',\n",
       "       'packed cell volume', 'total protein', 'type of lesion'],\n",
       "      dtype='object')"
      ]
     },
     "execution_count": 38,
     "metadata": {},
     "output_type": "execute_result"
    }
   ],
   "source": [
    "X = SimpleBinary3.drop(columns= ['outcome','Target'])\n",
    "#X = pd.get_dummies(X)\n",
    "X.columns"
   ]
  },
  {
   "cell_type": "code",
   "execution_count": 39,
   "metadata": {},
   "outputs": [
    {
     "data": {
      "text/plain": [
       "1    141\n",
       "0    141\n",
       "Name: Target, dtype: int64"
      ]
     },
     "execution_count": 39,
     "metadata": {},
     "output_type": "execute_result"
    }
   ],
   "source": [
    "y = SimpleBinary3.Target ## creating target values\n",
    "y.value_counts()"
   ]
  },
  {
   "cell_type": "code",
   "execution_count": 40,
   "metadata": {
    "slideshow": {
     "slide_type": "slide"
    }
   },
   "outputs": [
    {
     "data": {
      "text/plain": [
       "LogisticRegression(C=1.0, class_weight=None, dual=False, fit_intercept=True,\n",
       "                   intercept_scaling=1, l1_ratio=None, max_iter=10000,\n",
       "                   multi_class='auto', n_jobs=None, penalty='none',\n",
       "                   random_state=40, solver='lbfgs', tol=0.0001, verbose=0,\n",
       "                   warm_start=False)"
      ]
     },
     "execution_count": 40,
     "metadata": {},
     "output_type": "execute_result"
    }
   ],
   "source": [
    "X_train, X_test, Y_train, Y_test = train_test_split(X, y, test_size = .25, random_state = 40)\n",
    "\n",
    "logreg = LogisticRegression(penalty = 'none', max_iter= 10000,random_state = 40) ## instantiate\n",
    "\n",
    "logreg.fit(X_train, Y_train) ## fit"
   ]
  },
  {
   "cell_type": "code",
   "execution_count": 41,
   "metadata": {
    "slideshow": {
     "slide_type": "slide"
    }
   },
   "outputs": [
    {
     "name": "stdout",
     "output_type": "stream",
     "text": [
      "0.7630331753554502\n",
      "0.8450704225352113\n"
     ]
    }
   ],
   "source": [
    "## Accuracy Scores\n",
    "trainscore = logreg.score(X_train,Y_train)\n",
    "testscore = logreg.score(X_test,Y_test)\n",
    "\n",
    "print(trainscore)\n",
    "print(testscore)"
   ]
  },
  {
   "cell_type": "code",
   "execution_count": 42,
   "metadata": {
    "slideshow": {
     "slide_type": "slide"
    }
   },
   "outputs": [],
   "source": [
    "predictions = logreg.predict(X_test)"
   ]
  },
  {
   "cell_type": "code",
   "execution_count": 43,
   "metadata": {
    "slideshow": {
     "slide_type": "slide"
    }
   },
   "outputs": [],
   "source": [
    "cm = metrics.confusion_matrix(Y_test, predictions)"
   ]
  },
  {
   "cell_type": "markdown",
   "metadata": {},
   "source": [
    "We now observe a test accuracy equal to that of the baseline with the removal of the above variables identified by the lasso regression. While no improvement was noted, excluding uneeded features makes for a better model and we will now use this dataset moving forward for parameter testing and final evaluation."
   ]
  },
  {
   "cell_type": "code",
   "execution_count": 44,
   "metadata": {
    "hide_input": true,
    "slideshow": {
     "slide_type": "slide"
    }
   },
   "outputs": [
    {
     "data": {
      "image/png": "[encoded data removed]",
      "text/plain": [
       "<Figure size 648x648 with 2 Axes>"
      ]
     },
     "metadata": {
      "needs_background": "light"
     },
     "output_type": "display_data"
    }
   ],
   "source": [
    "plt.figure(figsize=(9,9))\n",
    "sns.heatmap(cm, annot=True, fmt=\".3f\", linewidths=.5, square = True, cmap = 'RdBu');\n",
    "plt.ylabel('Actual label');\n",
    "plt.xlabel('Predicted label');\n",
    "all_sample_title = 'Accuracy Score: {0}'.format(testscore)\n",
    "plt.title(all_sample_title, size = 15);\n",
    "#plt.savefig('ConfusionMatrix_Lasso.png')\n",
    "plt.show()"
   ]
  },
  {
   "cell_type": "code",
   "execution_count": null,
   "metadata": {},
   "outputs": [],
   "source": []
  },
  {
   "cell_type": "markdown",
   "metadata": {},
   "source": [
    "## Rerun model here once unimportant features have been excluded, get train test splt accuracy"
   ]
  },
  {
   "cell_type": "code",
   "execution_count": 45,
   "metadata": {},
   "outputs": [
    {
     "data": {
      "text/plain": [
       "282"
      ]
     },
     "execution_count": 45,
     "metadata": {},
     "output_type": "execute_result"
    }
   ],
   "source": [
    "len(SimpleBinary)"
   ]
  },
  {
   "cell_type": "markdown",
   "metadata": {},
   "source": [
    "Validating the model via Cross Validation, k folds used as dataset isnt huge orig run time * k times\n",
    "https://github.com/justmarkham/scikit-learn-videos/blob/master/07_cross_validation.ipynb"
   ]
  },
  {
   "cell_type": "code",
   "execution_count": 46,
   "metadata": {},
   "outputs": [
    {
     "name": "stdout",
     "output_type": "stream",
     "text": [
      "Iteration                   Training set observations                   Testing set observations\n",
      "    1     [ 57  58  59  60  61  62  63  64  65  66  67  68  69  70  71  72  73  74\n",
      "  75  76  77  78  79  80  81  82  83  84  85  86  87  88  89  90  91  92\n",
      "  93  94  95  96  97  98  99 100 101 102 103 104 105 106 107 108 109 110\n",
      " 111 112 113 114 115 116 117 118 119 120 121 122 123 124 125 126 127 128\n",
      " 129 130 131 132 133 134 135 136 137 138 139 140 141 142 143 144 145 146\n",
      " 147 148 149 150 151 152 153 154 155 156 157 158 159 160 161 162 163 164\n",
      " 165 166 167 168 169 170 171 172 173 174 175 176 177 178 179 180 181 182\n",
      " 183 184 185 186 187 188 189 190 191 192 193 194 195 196 197 198 199 200\n",
      " 201 202 203 204 205 206 207 208 209 210 211 212 213 214 215 216 217 218\n",
      " 219 220 221 222 223 224 225 226 227 228 229 230 231 232 233 234 235 236\n",
      " 237 238 239 240 241 242 243 244 245 246 247 248 249 250 251 252 253 254\n",
      " 255 256 257 258 259 260 261 262 263 264 265 266 267 268 269 270 271 272\n",
      " 273 274 275 276 277 278 279 280 281] [ 0  1  2  3  4  5  6  7  8  9 10 11 12 13 14 15 16 17 18 19 20 21 22 23\n",
      " 24 25 26 27 28 29 30 31 32 33 34 35 36 37 38 39 40 41 42 43 44 45 46 47\n",
      " 48 49 50 51 52 53 54 55 56]\n",
      "    2     [  0   1   2   3   4   5   6   7   8   9  10  11  12  13  14  15  16  17\n",
      "  18  19  20  21  22  23  24  25  26  27  28  29  30  31  32  33  34  35\n",
      "  36  37  38  39  40  41  42  43  44  45  46  47  48  49  50  51  52  53\n",
      "  54  55  56 114 115 116 117 118 119 120 121 122 123 124 125 126 127 128\n",
      " 129 130 131 132 133 134 135 136 137 138 139 140 141 142 143 144 145 146\n",
      " 147 148 149 150 151 152 153 154 155 156 157 158 159 160 161 162 163 164\n",
      " 165 166 167 168 169 170 171 172 173 174 175 176 177 178 179 180 181 182\n",
      " 183 184 185 186 187 188 189 190 191 192 193 194 195 196 197 198 199 200\n",
      " 201 202 203 204 205 206 207 208 209 210 211 212 213 214 215 216 217 218\n",
      " 219 220 221 222 223 224 225 226 227 228 229 230 231 232 233 234 235 236\n",
      " 237 238 239 240 241 242 243 244 245 246 247 248 249 250 251 252 253 254\n",
      " 255 256 257 258 259 260 261 262 263 264 265 266 267 268 269 270 271 272\n",
      " 273 274 275 276 277 278 279 280 281] [ 57  58  59  60  61  62  63  64  65  66  67  68  69  70  71  72  73  74\n",
      "  75  76  77  78  79  80  81  82  83  84  85  86  87  88  89  90  91  92\n",
      "  93  94  95  96  97  98  99 100 101 102 103 104 105 106 107 108 109 110\n",
      " 111 112 113]\n",
      "    3     [  0   1   2   3   4   5   6   7   8   9  10  11  12  13  14  15  16  17\n",
      "  18  19  20  21  22  23  24  25  26  27  28  29  30  31  32  33  34  35\n",
      "  36  37  38  39  40  41  42  43  44  45  46  47  48  49  50  51  52  53\n",
      "  54  55  56  57  58  59  60  61  62  63  64  65  66  67  68  69  70  71\n",
      "  72  73  74  75  76  77  78  79  80  81  82  83  84  85  86  87  88  89\n",
      "  90  91  92  93  94  95  96  97  98  99 100 101 102 103 104 105 106 107\n",
      " 108 109 110 111 112 113 170 171 172 173 174 175 176 177 178 179 180 181\n",
      " 182 183 184 185 186 187 188 189 190 191 192 193 194 195 196 197 198 199\n",
      " 200 201 202 203 204 205 206 207 208 209 210 211 212 213 214 215 216 217\n",
      " 218 219 220 221 222 223 224 225 226 227 228 229 230 231 232 233 234 235\n",
      " 236 237 238 239 240 241 242 243 244 245 246 247 248 249 250 251 252 253\n",
      " 254 255 256 257 258 259 260 261 262 263 264 265 266 267 268 269 270 271\n",
      " 272 273 274 275 276 277 278 279 280 281] [114 115 116 117 118 119 120 121 122 123 124 125 126 127 128 129 130 131\n",
      " 132 133 134 135 136 137 138 139 140 141 142 143 144 145 146 147 148 149\n",
      " 150 151 152 153 154 155 156 157 158 159 160 161 162 163 164 165 166 167\n",
      " 168 169]\n",
      "    4     [  0   1   2   3   4   5   6   7   8   9  10  11  12  13  14  15  16  17\n",
      "  18  19  20  21  22  23  24  25  26  27  28  29  30  31  32  33  34  35\n",
      "  36  37  38  39  40  41  42  43  44  45  46  47  48  49  50  51  52  53\n",
      "  54  55  56  57  58  59  60  61  62  63  64  65  66  67  68  69  70  71\n",
      "  72  73  74  75  76  77  78  79  80  81  82  83  84  85  86  87  88  89\n",
      "  90  91  92  93  94  95  96  97  98  99 100 101 102 103 104 105 106 107\n",
      " 108 109 110 111 112 113 114 115 116 117 118 119 120 121 122 123 124 125\n",
      " 126 127 128 129 130 131 132 133 134 135 136 137 138 139 140 141 142 143\n",
      " 144 145 146 147 148 149 150 151 152 153 154 155 156 157 158 159 160 161\n",
      " 162 163 164 165 166 167 168 169 226 227 228 229 230 231 232 233 234 235\n",
      " 236 237 238 239 240 241 242 243 244 245 246 247 248 249 250 251 252 253\n",
      " 254 255 256 257 258 259 260 261 262 263 264 265 266 267 268 269 270 271\n",
      " 272 273 274 275 276 277 278 279 280 281] [170 171 172 173 174 175 176 177 178 179 180 181 182 183 184 185 186 187\n",
      " 188 189 190 191 192 193 194 195 196 197 198 199 200 201 202 203 204 205\n",
      " 206 207 208 209 210 211 212 213 214 215 216 217 218 219 220 221 222 223\n",
      " 224 225]\n",
      "    5     [  0   1   2   3   4   5   6   7   8   9  10  11  12  13  14  15  16  17\n",
      "  18  19  20  21  22  23  24  25  26  27  28  29  30  31  32  33  34  35\n",
      "  36  37  38  39  40  41  42  43  44  45  46  47  48  49  50  51  52  53\n",
      "  54  55  56  57  58  59  60  61  62  63  64  65  66  67  68  69  70  71\n",
      "  72  73  74  75  76  77  78  79  80  81  82  83  84  85  86  87  88  89\n",
      "  90  91  92  93  94  95  96  97  98  99 100 101 102 103 104 105 106 107\n",
      " 108 109 110 111 112 113 114 115 116 117 118 119 120 121 122 123 124 125\n",
      " 126 127 128 129 130 131 132 133 134 135 136 137 138 139 140 141 142 143\n",
      " 144 145 146 147 148 149 150 151 152 153 154 155 156 157 158 159 160 161\n",
      " 162 163 164 165 166 167 168 169 170 171 172 173 174 175 176 177 178 179\n",
      " 180 181 182 183 184 185 186 187 188 189 190 191 192 193 194 195 196 197\n",
      " 198 199 200 201 202 203 204 205 206 207 208 209 210 211 212 213 214 215\n",
      " 216 217 218 219 220 221 222 223 224 225] [226 227 228 229 230 231 232 233 234 235 236 237 238 239 240 241 242 243\n",
      " 244 245 246 247 248 249 250 251 252 253 254 255 256 257 258 259 260 261\n",
      " 262 263 264 265 266 267 268 269 270 271 272 273 274 275 276 277 278 279\n",
      " 280 281]\n"
     ]
    }
   ],
   "source": [
    "from sklearn.model_selection import KFold\n",
    "kf = KFold(n_splits=5, shuffle=False).split(range(len(SimpleBinary2)))\n",
    "\n",
    "# print the contents of each training and testing set\n",
    "print('{} {:^61} {}'.format('Iteration', 'Training set observations', 'Testing set observations'))\n",
    "for iteration, data in enumerate(kf, start=1):\n",
    "    print('{:^9} {} {:^25}'.format(iteration, data[0], str(data[1])))"
   ]
  },
  {
   "cell_type": "code",
   "execution_count": 47,
   "metadata": {},
   "outputs": [],
   "source": [
    "from sklearn.model_selection import cross_val_score"
   ]
  },
  {
   "cell_type": "code",
   "execution_count": 48,
   "metadata": {},
   "outputs": [
    {
     "name": "stdout",
     "output_type": "stream",
     "text": [
      "[0.75862069 0.72413793 0.67857143 0.82142857 0.67857143 0.53571429\n",
      " 0.78571429 0.85714286 0.75       0.89285714]\n"
     ]
    }
   ],
   "source": [
    "# 10-fold cross-validation \n",
    "scores = cross_val_score(logreg, X, y, cv=10, scoring='accuracy')\n",
    "print(scores)"
   ]
  },
  {
   "cell_type": "code",
   "execution_count": 49,
   "metadata": {},
   "outputs": [
    {
     "name": "stdout",
     "output_type": "stream",
     "text": [
      "0.7482758620689656\n"
     ]
    }
   ],
   "source": [
    "print(scores.mean())"
   ]
  },
  {
   "cell_type": "code",
   "execution_count": 50,
   "metadata": {},
   "outputs": [
    {
     "name": "stdout",
     "output_type": "stream",
     "text": [
      "[0.712807881773399, 0.7514778325123153, 0.7518472906403941, 0.7448275862068965, 0.744704433497537, 0.7482758620689656]\n"
     ]
    }
   ],
   "source": [
    "Cvals=[0.001,0.01,0.1,1,10,100]\n",
    "k_scores = []\n",
    "for c in Cvals:\n",
    "    logreg = LogisticRegression(max_iter= 10000,random_state = 40,C=c) ## instantiate\n",
    "\n",
    "    scores = cross_val_score(logreg, X, y, cv=10, scoring='accuracy')\n",
    "    k_scores.append(scores.mean())\n",
    "print(k_scores)"
   ]
  },
  {
   "cell_type": "code",
   "execution_count": 51,
   "metadata": {},
   "outputs": [
    {
     "name": "stdout",
     "output_type": "stream",
     "text": [
      "[0.7514778325123153, 0.7514778325123153, 0.7479064039408867, 0.7479064039408867, 0.7479064039408867]\n"
     ]
    }
   ],
   "source": [
    "solve = ['newton-cg', 'lbfgs', 'liblinear', 'sag', 'saga']\n",
    "k_scores = []\n",
    "for s in solve:\n",
    "    logreg = LogisticRegression(max_iter= 1000000,random_state = 40,solver=s,C=.01) ## instantiate\n",
    "\n",
    "    scores = cross_val_score(logreg, X, y, cv=10, scoring='accuracy')\n",
    "    k_scores.append(scores.mean())\n",
    "print(k_scores)"
   ]
  },
  {
   "cell_type": "code",
   "execution_count": 52,
   "metadata": {},
   "outputs": [
    {
     "name": "stdout",
     "output_type": "stream",
     "text": [
      "0.7514778325123153\n"
     ]
    }
   ],
   "source": [
    "# 10-fold cross-validation with K=5 for KNN (the n_neighbors parameter)\n",
    "logreg = LogisticRegression(max_iter= 1000000,random_state = 40,C=.01,solver='lbfgs') ## instantiate\n",
    "logreg.fit(X_train, Y_train) ## fit\n",
    "scores = cross_val_score(logreg, X, y, cv=10, scoring='accuracy')\n",
    "print(scores.mean())"
   ]
  },
  {
   "cell_type": "code",
   "execution_count": 53,
   "metadata": {},
   "outputs": [
    {
     "data": {
      "text/plain": [
       "0    40\n",
       "1    31\n",
       "Name: Target, dtype: int64"
      ]
     },
     "execution_count": 53,
     "metadata": {},
     "output_type": "execute_result"
    }
   ],
   "source": [
    "Y_test.value_counts()\n"
   ]
  },
  {
   "cell_type": "code",
   "execution_count": 54,
   "metadata": {},
   "outputs": [
    {
     "data": {
      "text/plain": [
       "0    0.56338\n",
       "Name: Target, dtype: float64"
      ]
     },
     "execution_count": 54,
     "metadata": {},
     "output_type": "execute_result"
    }
   ],
   "source": [
    "#Checking null accuracy\n",
    "Y_test.value_counts().head(1) / len(Y_test)\n"
   ]
  },
  {
   "cell_type": "code",
   "execution_count": 55,
   "metadata": {},
   "outputs": [],
   "source": [
    "# make class predictions for the testing set\n",
    "y_pred_class = logreg.predict(X_test)"
   ]
  },
  {
   "cell_type": "code",
   "execution_count": 56,
   "metadata": {},
   "outputs": [
    {
     "name": "stdout",
     "output_type": "stream",
     "text": [
      "True: [0 1 0 0 0 1 1 1 1 0 0 0 0 1 0 0 0 0 1 0 0 1 0 1 0]\n",
      "Pred: [0 1 0 0 0 1 1 1 1 0 0 0 1 0 0 0 0 0 1 0 0 1 0 1 1]\n"
     ]
    }
   ],
   "source": [
    "print('True:', Y_test.values[0:25])\n",
    "print('Pred:', y_pred_class[0:25])"
   ]
  },
  {
   "cell_type": "code",
   "execution_count": 57,
   "metadata": {},
   "outputs": [],
   "source": [
    "#Checking Distribution"
   ]
  },
  {
   "cell_type": "code",
   "execution_count": 58,
   "metadata": {},
   "outputs": [
    {
     "data": {
      "text/plain": [
       "array([0.38644427, 0.874088  , 0.37390369, 0.27626456, 0.46548249,\n",
       "       0.58037577, 0.70847065, 0.67195399, 0.90115567, 0.40894317,\n",
       "       0.37084667, 0.44844425, 0.76339352, 0.27047387, 0.28736948,\n",
       "       0.37309423, 0.29615406, 0.22284683, 0.8456147 , 0.36539614,\n",
       "       0.38663414, 0.55220882, 0.3654334 , 0.64220708, 0.55821815,\n",
       "       0.79291672, 0.29614779, 0.28518997, 0.76823722, 0.44016638,\n",
       "       0.54423433, 0.80220864, 0.45091167, 0.87519979, 0.34930221,\n",
       "       0.81921786, 0.23241388, 0.39871491, 0.2323217 , 0.9198722 ,\n",
       "       0.56773063, 0.20035727, 0.18049507, 0.50812997, 0.83415841,\n",
       "       0.31721703, 0.27865403, 0.38801324, 0.20482201, 0.36051103,\n",
       "       0.25531079, 0.2027629 , 0.78256509, 0.28102774, 0.26206999,\n",
       "       0.64523938, 0.85522818, 0.22001691, 0.47907309, 0.74030967,\n",
       "       0.53702509, 0.18415787, 0.05365122, 0.77425578, 0.46061566,\n",
       "       0.61270634, 0.23188665, 0.65917835, 0.52571367, 0.69053043,\n",
       "       0.33804752])"
      ]
     },
     "execution_count": 58,
     "metadata": {},
     "output_type": "execute_result"
    }
   ],
   "source": [
    "y_pred_prob = logreg.predict_proba(X_test)[:, 1]\n",
    "y_pred_prob"
   ]
  },
  {
   "cell_type": "code",
   "execution_count": 59,
   "metadata": {},
   "outputs": [
    {
     "data": {
      "text/plain": [
       "Text(0, 0.5, 'Frequency')"
      ]
     },
     "execution_count": 59,
     "metadata": {},
     "output_type": "execute_result"
    },
    {
     "data": {
      "image/png": "[encoded data removed]",
      "text/plain": [
       "<Figure size 432x288 with 1 Axes>"
      ]
     },
     "metadata": {
      "needs_background": "light"
     },
     "output_type": "display_data"
    }
   ],
   "source": [
    "plt.hist(y_pred_prob, bins=8)\n",
    "plt.xlim(0, 1)\n",
    "plt.title('Histogram of predicted probabilities')\n",
    "plt.xlabel('Predicted probability of death')\n",
    "plt.ylabel('Frequency')"
   ]
  },
  {
   "cell_type": "code",
   "execution_count": 60,
   "metadata": {},
   "outputs": [],
   "source": [
    "# predict death if the predicted probability is greater than 0.45, err on the side of caution, also more wrong false negs\n",
    "from sklearn.preprocessing import binarize\n",
    "y_pred_class = binarize([y_pred_prob], 0.5)[0]"
   ]
  },
  {
   "cell_type": "code",
   "execution_count": 61,
   "metadata": {},
   "outputs": [
    {
     "name": "stdout",
     "output_type": "stream",
     "text": [
      "[[34  6]\n",
      " [ 7 24]]\n"
     ]
    }
   ],
   "source": [
    "print(metrics.confusion_matrix(Y_test, y_pred_class))\n"
   ]
  },
  {
   "cell_type": "code",
   "execution_count": 62,
   "metadata": {},
   "outputs": [
    {
     "data": {
      "image/png": "[encoded data removed]",
      "text/plain": [
       "<Figure size 648x648 with 2 Axes>"
      ]
     },
     "metadata": {
      "needs_background": "light"
     },
     "output_type": "display_data"
    }
   ],
   "source": [
    "plt.figure(figsize=(9,9))\n",
    "sns.heatmap((metrics.confusion_matrix(Y_test, y_pred_class)), annot=True, fmt=\".3f\", linewidths=.5, square = True);\n",
    "plt.ylabel('Actual label');\n",
    "plt.xlabel('Predicted label');\n",
    "all_sample_title = 'Accuracy Score: {0}'.format((metrics.accuracy_score(Y_test, y_pred_class)))\n",
    "plt.title(all_sample_title, size = 15);\n",
    "plt.savefig('toy_Digits_ConfusionSeabornCodementor.png')\n",
    "plt.show()"
   ]
  },
  {
   "cell_type": "code",
   "execution_count": 63,
   "metadata": {},
   "outputs": [
    {
     "data": {
      "image/png": "[encoded data removed]",
      "text/plain": [
       "<Figure size 432x288 with 1 Axes>"
      ]
     },
     "metadata": {
      "needs_background": "light"
     },
     "output_type": "display_data"
    }
   ],
   "source": [
    "#Using the ROC curve to optimize, balancing specificity and sensitivity\n",
    "# IMPORTANT: first argument is true values, second argument is predicted probabilities\n",
    "fpr, tpr, thresholds = metrics.roc_curve(Y_test, y_pred_prob)\n",
    "plt.plot(fpr, tpr)\n",
    "plt.xlim([0.0, 1.0])\n",
    "plt.ylim([0.0, 1.0])\n",
    "plt.title('ROC curve for diabetes classifier')\n",
    "plt.xlabel('False Positive Rate (1 - Specificity)')\n",
    "plt.ylabel('True Positive Rate (Sensitivity)')\n",
    "plt.grid(True)"
   ]
  },
  {
   "cell_type": "code",
   "execution_count": 64,
   "metadata": {},
   "outputs": [
    {
     "name": "stdout",
     "output_type": "stream",
     "text": [
      "Sensitivity: 0.8387096774193549\n",
      "Specificity: 0.8\n"
     ]
    }
   ],
   "source": [
    "def evaluate_threshold(threshold):\n",
    "    print('Sensitivity:', tpr[thresholds > threshold][-1])\n",
    "    print('Specificity:', 1 - fpr[thresholds > threshold][-1])\n",
    "evaluate_threshold(0.45)\n"
   ]
  },
  {
   "cell_type": "code",
   "execution_count": 65,
   "metadata": {},
   "outputs": [
    {
     "name": "stdout",
     "output_type": "stream",
     "text": [
      "0.8991935483870968\n"
     ]
    }
   ],
   "source": [
    "#Checking area under curve as alternative to classification accuracy \n",
    "print(metrics.roc_auc_score(Y_test, y_pred_prob))"
   ]
  },
  {
   "cell_type": "code",
   "execution_count": 66,
   "metadata": {},
   "outputs": [
    {
     "data": {
      "text/plain": [
       "0.8152721088435374"
      ]
     },
     "execution_count": 66,
     "metadata": {},
     "output_type": "execute_result"
    }
   ],
   "source": [
    "from sklearn.model_selection import cross_val_score\n",
    "cross_val_score(logreg, X, y, cv=10, scoring='roc_auc').mean()"
   ]
  },
  {
   "cell_type": "markdown",
   "metadata": {},
   "source": [
    "Final model check using holdout data."
   ]
  },
  {
   "cell_type": "code",
   "execution_count": 67,
   "metadata": {},
   "outputs": [],
   "source": [
    "HoldoutSet=HoldoutSet.drop('_merge', axis=1)"
   ]
  },
  {
   "cell_type": "code",
   "execution_count": 68,
   "metadata": {},
   "outputs": [],
   "source": [
    "#HoldoutSet=HoldoutSet.drop(list(remove2), axis=1)\n",
    "HoldoutSet=HoldoutSet.drop(list(Lassoremove['feature']), axis=1)\n"
   ]
  },
  {
   "cell_type": "code",
   "execution_count": 69,
   "metadata": {
    "slideshow": {
     "slide_type": "notes"
    }
   },
   "outputs": [
    {
     "data": {
      "text/plain": [
       "Index(['Age', 'rectal temperature', 'pulse', 'respiratory rate',\n",
       "       'mucous membranes',\n",
       "       'pain  a subjective judgement of the horses pain level',\n",
       "       'packed cell volume', 'total protein', 'type of lesion'],\n",
       "      dtype='object')"
      ]
     },
     "execution_count": 69,
     "metadata": {},
     "output_type": "execute_result"
    }
   ],
   "source": [
    "X = HoldoutSet.drop(columns= ['outcome','Target'])\n",
    "#X = pd.get_dummies(X)\n",
    "X.columns"
   ]
  },
  {
   "cell_type": "code",
   "execution_count": 70,
   "metadata": {},
   "outputs": [
    {
     "data": {
      "text/plain": [
       "0    86\n",
       "Name: Target, dtype: int64"
      ]
     },
     "execution_count": 70,
     "metadata": {},
     "output_type": "execute_result"
    }
   ],
   "source": [
    "y = HoldoutSet.Target ## creating target values\n",
    "y.value_counts()"
   ]
  },
  {
   "cell_type": "code",
   "execution_count": 71,
   "metadata": {},
   "outputs": [
    {
     "name": "stdout",
     "output_type": "stream",
     "text": [
      "0.7674418604651163\n"
     ]
    }
   ],
   "source": [
    "#scores = cross_val_score(logreg, X, y, cv=10, scoring='accuracy')\n",
    "#print(scores.mean())\n",
    "## Accuracy Scores\n",
    "trainscore = logreg.score(X,y)\n",
    "#testscore = logreg.score(X_test,Y_test)\n",
    "\n",
    "print(trainscore)\n",
    "#print(testscore)"
   ]
  },
  {
   "cell_type": "code",
   "execution_count": 72,
   "metadata": {},
   "outputs": [
    {
     "data": {
      "image/png": "[encoded data removed]",
      "text/plain": [
       "<Figure size 648x648 with 2 Axes>"
      ]
     },
     "metadata": {
      "needs_background": "light"
     },
     "output_type": "display_data"
    }
   ],
   "source": [
    "metrics.confusion_matrix(y, logreg.predict(X))\n",
    "\n",
    "\n",
    "plt.figure(figsize=(9,9))\n",
    "sns.heatmap(metrics.confusion_matrix(y, logreg.predict(X)), annot=True, fmt=\".3f\", linewidths=.5, square = True);\n",
    "plt.ylabel('Actual label');\n",
    "plt.xlabel('Predicted label');\n",
    "all_sample_title = 'Accuracy Score: {0}'.format((trainscore))\n",
    "plt.title(all_sample_title, size = 15);\n",
    "plt.savefig('toy_Digits_ConfusionSeabornCodementor.png')\n",
    "plt.show()"
   ]
  },
  {
   "cell_type": "code",
   "execution_count": null,
   "metadata": {},
   "outputs": [],
   "source": []
  }
 ],
 "metadata": {
  "kernelspec": {
   "display_name": "Python 3",
   "language": "python",
   "name": "python3"
  },
  "language_info": {
   "codemirror_mode": {
    "name": "ipython",
    "version": 3
   },
   "file_extension": ".py",
   "mimetype": "text/x-python",
   "name": "python",
   "nbconvert_exporter": "python",
   "pygments_lexer": "ipython3",
   "version": "3.7.4"
  }
 },
 "nbformat": 4,
 "nbformat_minor": 2
}
