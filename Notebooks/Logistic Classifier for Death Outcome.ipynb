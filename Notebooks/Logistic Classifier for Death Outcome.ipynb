{
 "cells": [
  {
   "cell_type": "markdown",
   "metadata": {},
   "source": [
    "Note to self, remove a hold out set of data to play around with at the end"
   ]
  },
  {
   "cell_type": "code",
   "execution_count": 1,
   "metadata": {},
   "outputs": [],
   "source": [
    "import pandas as pd\n",
    "import numpy as np\n",
    "from sklearn.model_selection import train_test_split\n",
    "from sklearn.linear_model import LogisticRegression ## import model\n",
    "from sklearn import metrics\n",
    "import seaborn as sns\n",
    "import matplotlib.pyplot as plt\n",
    "from sklearn.model_selection import train_test_split\n",
    "from sklearn.linear_model import LogisticRegression ## import model\n",
    "from sklearn.linear_model import LassoCV\n",
    "from sklearn.model_selection import KFold\n",
    "from sklearn.model_selection import cross_val_score\n",
    "from sklearn.preprocessing import binarize\n"
   ]
  },
  {
   "cell_type": "code",
   "execution_count": 2,
   "metadata": {},
   "outputs": [
    {
     "data": {
      "text/plain": [
       "(368, 20)"
      ]
     },
     "execution_count": 2,
     "metadata": {},
     "output_type": "execute_result"
    }
   ],
   "source": [
    "#Read pre processed data into pandas df and drop the index column that comes in from the spreadsheet\n",
    "df=pd.read_excel('Data/HorseColicData_DeathTarget.xlsx',index=False)\n",
    "df.shape"
   ]
  },
  {
   "cell_type": "code",
   "execution_count": 3,
   "metadata": {},
   "outputs": [
    {
     "data": {
      "text/html": [
       "<div>\n",
       "<style scoped>\n",
       "    .dataframe tbody tr th:only-of-type {\n",
       "        vertical-align: middle;\n",
       "    }\n",
       "\n",
       "    .dataframe tbody tr th {\n",
       "        vertical-align: top;\n",
       "    }\n",
       "\n",
       "    .dataframe thead th {\n",
       "        text-align: right;\n",
       "    }\n",
       "</style>\n",
       "<table border=\"1\" class=\"dataframe\">\n",
       "  <thead>\n",
       "    <tr style=\"text-align: right;\">\n",
       "      <th></th>\n",
       "      <th>surgery</th>\n",
       "      <th>Age</th>\n",
       "      <th>rectal temperature</th>\n",
       "      <th>pulse</th>\n",
       "      <th>respiratory rate</th>\n",
       "      <th>temperature of extremities</th>\n",
       "      <th>peripheral pulse</th>\n",
       "      <th>mucous membranes</th>\n",
       "      <th>capillary refill time</th>\n",
       "      <th>pain  a subjective judgement of the horses pain level</th>\n",
       "      <th>peristalsis</th>\n",
       "      <th>abdominal distension</th>\n",
       "      <th>packed cell volume</th>\n",
       "      <th>total protein</th>\n",
       "      <th>outcome</th>\n",
       "      <th>surgical lesion</th>\n",
       "      <th>type of lesion</th>\n",
       "      <th>Target</th>\n",
       "      <th>location of lesion</th>\n",
       "    </tr>\n",
       "  </thead>\n",
       "  <tbody>\n",
       "    <tr>\n",
       "      <th>0</th>\n",
       "      <td>2</td>\n",
       "      <td>1</td>\n",
       "      <td>38.5</td>\n",
       "      <td>66</td>\n",
       "      <td>28</td>\n",
       "      <td>3</td>\n",
       "      <td>3</td>\n",
       "      <td>0</td>\n",
       "      <td>2</td>\n",
       "      <td>5</td>\n",
       "      <td>4</td>\n",
       "      <td>4</td>\n",
       "      <td>45.0</td>\n",
       "      <td>1</td>\n",
       "      <td>2</td>\n",
       "      <td>2</td>\n",
       "      <td>1</td>\n",
       "      <td>1</td>\n",
       "      <td>1</td>\n",
       "    </tr>\n",
       "    <tr>\n",
       "      <th>1</th>\n",
       "      <td>1</td>\n",
       "      <td>1</td>\n",
       "      <td>39.2</td>\n",
       "      <td>88</td>\n",
       "      <td>20</td>\n",
       "      <td>0</td>\n",
       "      <td>0</td>\n",
       "      <td>4</td>\n",
       "      <td>1</td>\n",
       "      <td>3</td>\n",
       "      <td>4</td>\n",
       "      <td>2</td>\n",
       "      <td>50.0</td>\n",
       "      <td>1</td>\n",
       "      <td>3</td>\n",
       "      <td>2</td>\n",
       "      <td>2</td>\n",
       "      <td>1</td>\n",
       "      <td>2</td>\n",
       "    </tr>\n",
       "    <tr>\n",
       "      <th>2</th>\n",
       "      <td>2</td>\n",
       "      <td>1</td>\n",
       "      <td>38.3</td>\n",
       "      <td>40</td>\n",
       "      <td>24</td>\n",
       "      <td>1</td>\n",
       "      <td>1</td>\n",
       "      <td>3</td>\n",
       "      <td>1</td>\n",
       "      <td>3</td>\n",
       "      <td>3</td>\n",
       "      <td>1</td>\n",
       "      <td>33.0</td>\n",
       "      <td>0</td>\n",
       "      <td>1</td>\n",
       "      <td>2</td>\n",
       "      <td>0</td>\n",
       "      <td>0</td>\n",
       "      <td>0</td>\n",
       "    </tr>\n",
       "    <tr>\n",
       "      <th>3</th>\n",
       "      <td>1</td>\n",
       "      <td>9</td>\n",
       "      <td>39.1</td>\n",
       "      <td>164</td>\n",
       "      <td>84</td>\n",
       "      <td>4</td>\n",
       "      <td>1</td>\n",
       "      <td>6</td>\n",
       "      <td>2</td>\n",
       "      <td>2</td>\n",
       "      <td>4</td>\n",
       "      <td>4</td>\n",
       "      <td>48.0</td>\n",
       "      <td>0</td>\n",
       "      <td>2</td>\n",
       "      <td>1</td>\n",
       "      <td>2</td>\n",
       "      <td>1</td>\n",
       "      <td>2</td>\n",
       "    </tr>\n",
       "    <tr>\n",
       "      <th>4</th>\n",
       "      <td>2</td>\n",
       "      <td>1</td>\n",
       "      <td>37.3</td>\n",
       "      <td>104</td>\n",
       "      <td>35</td>\n",
       "      <td>0</td>\n",
       "      <td>0</td>\n",
       "      <td>6</td>\n",
       "      <td>2</td>\n",
       "      <td>0</td>\n",
       "      <td>0</td>\n",
       "      <td>0</td>\n",
       "      <td>74.0</td>\n",
       "      <td>0</td>\n",
       "      <td>2</td>\n",
       "      <td>2</td>\n",
       "      <td>3</td>\n",
       "      <td>1</td>\n",
       "      <td>4</td>\n",
       "    </tr>\n",
       "    <tr>\n",
       "      <th>...</th>\n",
       "      <td>...</td>\n",
       "      <td>...</td>\n",
       "      <td>...</td>\n",
       "      <td>...</td>\n",
       "      <td>...</td>\n",
       "      <td>...</td>\n",
       "      <td>...</td>\n",
       "      <td>...</td>\n",
       "      <td>...</td>\n",
       "      <td>...</td>\n",
       "      <td>...</td>\n",
       "      <td>...</td>\n",
       "      <td>...</td>\n",
       "      <td>...</td>\n",
       "      <td>...</td>\n",
       "      <td>...</td>\n",
       "      <td>...</td>\n",
       "      <td>...</td>\n",
       "      <td>...</td>\n",
       "    </tr>\n",
       "    <tr>\n",
       "      <th>363</th>\n",
       "      <td>2</td>\n",
       "      <td>1</td>\n",
       "      <td>38.6</td>\n",
       "      <td>60</td>\n",
       "      <td>30</td>\n",
       "      <td>1</td>\n",
       "      <td>1</td>\n",
       "      <td>3</td>\n",
       "      <td>1</td>\n",
       "      <td>4</td>\n",
       "      <td>2</td>\n",
       "      <td>2</td>\n",
       "      <td>40.0</td>\n",
       "      <td>0</td>\n",
       "      <td>1</td>\n",
       "      <td>1</td>\n",
       "      <td>2</td>\n",
       "      <td>0</td>\n",
       "      <td>3</td>\n",
       "    </tr>\n",
       "    <tr>\n",
       "      <th>364</th>\n",
       "      <td>2</td>\n",
       "      <td>1</td>\n",
       "      <td>37.8</td>\n",
       "      <td>42</td>\n",
       "      <td>40</td>\n",
       "      <td>1</td>\n",
       "      <td>1</td>\n",
       "      <td>1</td>\n",
       "      <td>1</td>\n",
       "      <td>1</td>\n",
       "      <td>3</td>\n",
       "      <td>1</td>\n",
       "      <td>36.0</td>\n",
       "      <td>0</td>\n",
       "      <td>1</td>\n",
       "      <td>2</td>\n",
       "      <td>1</td>\n",
       "      <td>0</td>\n",
       "      <td>4</td>\n",
       "    </tr>\n",
       "    <tr>\n",
       "      <th>365</th>\n",
       "      <td>1</td>\n",
       "      <td>1</td>\n",
       "      <td>38.0</td>\n",
       "      <td>60</td>\n",
       "      <td>12</td>\n",
       "      <td>1</td>\n",
       "      <td>1</td>\n",
       "      <td>2</td>\n",
       "      <td>1</td>\n",
       "      <td>2</td>\n",
       "      <td>1</td>\n",
       "      <td>1</td>\n",
       "      <td>44.0</td>\n",
       "      <td>1</td>\n",
       "      <td>3</td>\n",
       "      <td>1</td>\n",
       "      <td>2</td>\n",
       "      <td>1</td>\n",
       "      <td>2</td>\n",
       "    </tr>\n",
       "    <tr>\n",
       "      <th>366</th>\n",
       "      <td>2</td>\n",
       "      <td>1</td>\n",
       "      <td>38.0</td>\n",
       "      <td>42</td>\n",
       "      <td>12</td>\n",
       "      <td>3</td>\n",
       "      <td>0</td>\n",
       "      <td>3</td>\n",
       "      <td>1</td>\n",
       "      <td>1</td>\n",
       "      <td>1</td>\n",
       "      <td>1</td>\n",
       "      <td>37.0</td>\n",
       "      <td>1</td>\n",
       "      <td>1</td>\n",
       "      <td>2</td>\n",
       "      <td>1</td>\n",
       "      <td>0</td>\n",
       "      <td>3</td>\n",
       "    </tr>\n",
       "    <tr>\n",
       "      <th>367</th>\n",
       "      <td>2</td>\n",
       "      <td>1</td>\n",
       "      <td>37.6</td>\n",
       "      <td>88</td>\n",
       "      <td>36</td>\n",
       "      <td>3</td>\n",
       "      <td>1</td>\n",
       "      <td>1</td>\n",
       "      <td>1</td>\n",
       "      <td>3</td>\n",
       "      <td>3</td>\n",
       "      <td>2</td>\n",
       "      <td>44.0</td>\n",
       "      <td>0</td>\n",
       "      <td>2</td>\n",
       "      <td>1</td>\n",
       "      <td>1</td>\n",
       "      <td>1</td>\n",
       "      <td>2</td>\n",
       "    </tr>\n",
       "  </tbody>\n",
       "</table>\n",
       "<p>368 rows × 19 columns</p>\n",
       "</div>"
      ],
      "text/plain": [
       "     surgery  Age  rectal temperature  pulse  respiratory rate  \\\n",
       "0          2    1                38.5     66                28   \n",
       "1          1    1                39.2     88                20   \n",
       "2          2    1                38.3     40                24   \n",
       "3          1    9                39.1    164                84   \n",
       "4          2    1                37.3    104                35   \n",
       "..       ...  ...                 ...    ...               ...   \n",
       "363        2    1                38.6     60                30   \n",
       "364        2    1                37.8     42                40   \n",
       "365        1    1                38.0     60                12   \n",
       "366        2    1                38.0     42                12   \n",
       "367        2    1                37.6     88                36   \n",
       "\n",
       "     temperature of extremities  peripheral pulse  mucous membranes  \\\n",
       "0                             3                 3                 0   \n",
       "1                             0                 0                 4   \n",
       "2                             1                 1                 3   \n",
       "3                             4                 1                 6   \n",
       "4                             0                 0                 6   \n",
       "..                          ...               ...               ...   \n",
       "363                           1                 1                 3   \n",
       "364                           1                 1                 1   \n",
       "365                           1                 1                 2   \n",
       "366                           3                 0                 3   \n",
       "367                           3                 1                 1   \n",
       "\n",
       "     capillary refill time  \\\n",
       "0                        2   \n",
       "1                        1   \n",
       "2                        1   \n",
       "3                        2   \n",
       "4                        2   \n",
       "..                     ...   \n",
       "363                      1   \n",
       "364                      1   \n",
       "365                      1   \n",
       "366                      1   \n",
       "367                      1   \n",
       "\n",
       "     pain  a subjective judgement of the horses pain level  peristalsis  \\\n",
       "0                                                    5                4   \n",
       "1                                                    3                4   \n",
       "2                                                    3                3   \n",
       "3                                                    2                4   \n",
       "4                                                    0                0   \n",
       "..                                                 ...              ...   \n",
       "363                                                  4                2   \n",
       "364                                                  1                3   \n",
       "365                                                  2                1   \n",
       "366                                                  1                1   \n",
       "367                                                  3                3   \n",
       "\n",
       "     abdominal distension  packed cell volume  total protein  outcome  \\\n",
       "0                       4                45.0              1        2   \n",
       "1                       2                50.0              1        3   \n",
       "2                       1                33.0              0        1   \n",
       "3                       4                48.0              0        2   \n",
       "4                       0                74.0              0        2   \n",
       "..                    ...                 ...            ...      ...   \n",
       "363                     2                40.0              0        1   \n",
       "364                     1                36.0              0        1   \n",
       "365                     1                44.0              1        3   \n",
       "366                     1                37.0              1        1   \n",
       "367                     2                44.0              0        2   \n",
       "\n",
       "     surgical lesion  type of lesion  Target  location of lesion  \n",
       "0                  2               1       1                   1  \n",
       "1                  2               2       1                   2  \n",
       "2                  2               0       0                   0  \n",
       "3                  1               2       1                   2  \n",
       "4                  2               3       1                   4  \n",
       "..               ...             ...     ...                 ...  \n",
       "363                1               2       0                   3  \n",
       "364                2               1       0                   4  \n",
       "365                1               2       1                   2  \n",
       "366                2               1       0                   3  \n",
       "367                1               1       1                   2  \n",
       "\n",
       "[368 rows x 19 columns]"
      ]
     },
     "execution_count": 3,
     "metadata": {},
     "output_type": "execute_result"
    }
   ],
   "source": [
    "df=df.drop('Unnamed: 0',axis=1)\n",
    "df"
   ]
  },
  {
   "cell_type": "code",
   "execution_count": 5,
   "metadata": {},
   "outputs": [
    {
     "data": {
      "text/plain": [
       "0    227\n",
       "1    141\n",
       "Name: Target, dtype: int64"
      ]
     },
     "execution_count": 5,
     "metadata": {},
     "output_type": "execute_result"
    }
   ],
   "source": [
    "SimpleBinary=df\n",
    "SimpleBinary['Target'].value_counts()"
   ]
  },
  {
   "cell_type": "code",
   "execution_count": 7,
   "metadata": {},
   "outputs": [
    {
     "data": {
      "text/plain": [
       "surgery                                                  0\n",
       "Age                                                      0\n",
       "rectal temperature                                       0\n",
       "pulse                                                    0\n",
       "respiratory rate                                         0\n",
       "temperature of extremities                               0\n",
       "peripheral pulse                                         0\n",
       "mucous membranes                                         0\n",
       "capillary refill time                                    0\n",
       "pain  a subjective judgement of the horses pain level    0\n",
       "peristalsis                                              0\n",
       "abdominal distension                                     0\n",
       "packed cell volume                                       0\n",
       "total protein                                            0\n",
       "outcome                                                  0\n",
       "surgical lesion                                          0\n",
       "type of lesion                                           0\n",
       "Target                                                   0\n",
       "location of lesion                                       0\n",
       "dtype: int64"
      ]
     },
     "execution_count": 7,
     "metadata": {},
     "output_type": "execute_result"
    }
   ],
   "source": [
    "#Final check to ensure no nan values\n",
    "SimpleBinary.isna().sum()"
   ]
  },
  {
   "cell_type": "code",
   "execution_count": 8,
   "metadata": {
    "slideshow": {
     "slide_type": "notes"
    }
   },
   "outputs": [
    {
     "data": {
      "text/plain": [
       "Index(['surgery', 'Age', 'rectal temperature', 'pulse', 'respiratory rate',\n",
       "       'temperature of extremities', 'peripheral pulse', 'mucous membranes',\n",
       "       'capillary refill time',\n",
       "       'pain  a subjective judgement of the horses pain level', 'peristalsis',\n",
       "       'abdominal distension', 'packed cell volume', 'total protein',\n",
       "       'surgical lesion', 'type of lesion', 'location of lesion'],\n",
       "      dtype='object')"
      ]
     },
     "execution_count": 8,
     "metadata": {},
     "output_type": "execute_result"
    }
   ],
   "source": [
    "#Create features for model consumption\n",
    "X = SimpleBinary.drop(columns= ['outcome','Target'])\n",
    "X.columns"
   ]
  },
  {
   "cell_type": "code",
   "execution_count": 9,
   "metadata": {},
   "outputs": [
    {
     "data": {
      "text/plain": [
       "0    227\n",
       "1    141\n",
       "Name: Target, dtype: int64"
      ]
     },
     "execution_count": 9,
     "metadata": {},
     "output_type": "execute_result"
    }
   ],
   "source": [
    "#Create target variable for model consumption\n",
    "y = SimpleBinary.Target \n",
    "y.value_counts()"
   ]
  },
  {
   "cell_type": "markdown",
   "metadata": {},
   "source": [
    "Split the data into train and test, with a test size of 25% of the total dataset. randomstate 40 is used for reproducability of exercise. instantiate the ligistic regression model and fit the training data to it. "
   ]
  },
  {
   "cell_type": "code",
   "execution_count": 10,
   "metadata": {
    "slideshow": {
     "slide_type": "slide"
    }
   },
   "outputs": [
    {
     "data": {
      "text/plain": [
       "LogisticRegression(C=1.0, class_weight=None, dual=False, fit_intercept=True,\n",
       "                   intercept_scaling=1, l1_ratio=None, max_iter=10000,\n",
       "                   multi_class='auto', n_jobs=None, penalty='none',\n",
       "                   random_state=40, solver='lbfgs', tol=0.0001, verbose=0,\n",
       "                   warm_start=False)"
      ]
     },
     "execution_count": 10,
     "metadata": {},
     "output_type": "execute_result"
    }
   ],
   "source": [
    "\n",
    "X_train, X_test, Y_train, Y_test = train_test_split(X, y, test_size = .25, random_state = 40)\n",
    "\n",
    "logreg = LogisticRegression(penalty = 'none', max_iter= 10000,random_state = 40) ## instantiate\n",
    "\n",
    "logreg.fit(X_train, Y_train) ## fit"
   ]
  },
  {
   "cell_type": "code",
   "execution_count": 11,
   "metadata": {
    "slideshow": {
     "slide_type": "slide"
    }
   },
   "outputs": [
    {
     "data": {
      "text/plain": [
       "0.7391304347826086"
      ]
     },
     "execution_count": 11,
     "metadata": {},
     "output_type": "execute_result"
    }
   ],
   "source": [
    "#Check the accuracy scores of the classification model using the test data\n",
    "score = logreg.score(X_test,Y_test)\n",
    "score"
   ]
  },
  {
   "cell_type": "code",
   "execution_count": 12,
   "metadata": {
    "slideshow": {
     "slide_type": "slide"
    }
   },
   "outputs": [],
   "source": [
    "predictions = logreg.predict(X_test)"
   ]
  },
  {
   "cell_type": "code",
   "execution_count": 16,
   "metadata": {},
   "outputs": [],
   "source": [
    "probabilities= logreg.predict_proba(X_test)"
   ]
  },
  {
   "cell_type": "code",
   "execution_count": 26,
   "metadata": {},
   "outputs": [],
   "source": [
    "problive=[]\n",
    "probdie=[]\n",
    "for i in range(len(probabilities)):\n",
    "    problive.append(probabilities[i][0])\n",
    "    probdie.append(probabilities[i][1])"
   ]
  },
  {
   "cell_type": "code",
   "execution_count": 28,
   "metadata": {},
   "outputs": [],
   "source": [
    "ModelChart = {'live':problive,'die':probdie,'predictedoutcome':list(predictions)}\n",
    "Chartdf = pd.DataFrame(ModelChart)"
   ]
  },
  {
   "cell_type": "code",
   "execution_count": 52,
   "metadata": {},
   "outputs": [],
   "source": [
    "Chartdf['predictedoutcome'].replace(to_replace =0, value =\"Lives\",inplace=True)\n",
    "Chartdf['predictedoutcome'].replace(to_replace =1, value =\"Dies\",inplace=True)"
   ]
  },
  {
   "cell_type": "code",
   "execution_count": 54,
   "metadata": {},
   "outputs": [
    {
     "data": {
      "text/html": [
       "<div>\n",
       "<style scoped>\n",
       "    .dataframe tbody tr th:only-of-type {\n",
       "        vertical-align: middle;\n",
       "    }\n",
       "\n",
       "    .dataframe tbody tr th {\n",
       "        vertical-align: top;\n",
       "    }\n",
       "\n",
       "    .dataframe thead th {\n",
       "        text-align: right;\n",
       "    }\n",
       "</style>\n",
       "<table border=\"1\" class=\"dataframe\">\n",
       "  <thead>\n",
       "    <tr style=\"text-align: right;\">\n",
       "      <th></th>\n",
       "      <th>live</th>\n",
       "      <th>die</th>\n",
       "      <th>predictedoutcome</th>\n",
       "    </tr>\n",
       "  </thead>\n",
       "  <tbody>\n",
       "    <tr>\n",
       "      <th>0</th>\n",
       "      <td>0.169171</td>\n",
       "      <td>0.830829</td>\n",
       "      <td>Dies</td>\n",
       "    </tr>\n",
       "    <tr>\n",
       "      <th>1</th>\n",
       "      <td>0.896271</td>\n",
       "      <td>0.103729</td>\n",
       "      <td>Lives</td>\n",
       "    </tr>\n",
       "    <tr>\n",
       "      <th>2</th>\n",
       "      <td>0.967780</td>\n",
       "      <td>0.032220</td>\n",
       "      <td>Lives</td>\n",
       "    </tr>\n",
       "    <tr>\n",
       "      <th>3</th>\n",
       "      <td>0.556403</td>\n",
       "      <td>0.443597</td>\n",
       "      <td>Lives</td>\n",
       "    </tr>\n",
       "    <tr>\n",
       "      <th>4</th>\n",
       "      <td>0.798549</td>\n",
       "      <td>0.201451</td>\n",
       "      <td>Lives</td>\n",
       "    </tr>\n",
       "    <tr>\n",
       "      <th>...</th>\n",
       "      <td>...</td>\n",
       "      <td>...</td>\n",
       "      <td>...</td>\n",
       "    </tr>\n",
       "    <tr>\n",
       "      <th>87</th>\n",
       "      <td>0.868407</td>\n",
       "      <td>0.131593</td>\n",
       "      <td>Lives</td>\n",
       "    </tr>\n",
       "    <tr>\n",
       "      <th>88</th>\n",
       "      <td>0.151841</td>\n",
       "      <td>0.848159</td>\n",
       "      <td>Dies</td>\n",
       "    </tr>\n",
       "    <tr>\n",
       "      <th>89</th>\n",
       "      <td>0.160694</td>\n",
       "      <td>0.839306</td>\n",
       "      <td>Dies</td>\n",
       "    </tr>\n",
       "    <tr>\n",
       "      <th>90</th>\n",
       "      <td>0.170714</td>\n",
       "      <td>0.829286</td>\n",
       "      <td>Dies</td>\n",
       "    </tr>\n",
       "    <tr>\n",
       "      <th>91</th>\n",
       "      <td>0.975535</td>\n",
       "      <td>0.024465</td>\n",
       "      <td>Lives</td>\n",
       "    </tr>\n",
       "  </tbody>\n",
       "</table>\n",
       "<p>92 rows × 3 columns</p>\n",
       "</div>"
      ],
      "text/plain": [
       "        live       die predictedoutcome\n",
       "0   0.169171  0.830829             Dies\n",
       "1   0.896271  0.103729            Lives\n",
       "2   0.967780  0.032220            Lives\n",
       "3   0.556403  0.443597            Lives\n",
       "4   0.798549  0.201451            Lives\n",
       "..       ...       ...              ...\n",
       "87  0.868407  0.131593            Lives\n",
       "88  0.151841  0.848159             Dies\n",
       "89  0.160694  0.839306             Dies\n",
       "90  0.170714  0.829286             Dies\n",
       "91  0.975535  0.024465            Lives\n",
       "\n",
       "[92 rows x 3 columns]"
      ]
     },
     "execution_count": 54,
     "metadata": {},
     "output_type": "execute_result"
    }
   ],
   "source": [
    "Chartdf"
   ]
  },
  {
   "cell_type": "code",
   "execution_count": 58,
   "metadata": {},
   "outputs": [
    {
     "data": {
      "image/png": "[encoded data removed]",
      "text/plain": [
       "<Figure size 1152x576 with 1 Axes>"
      ]
     },
     "metadata": {},
     "output_type": "display_data"
    }
   ],
   "source": [
    "import matplotlib\n",
    "import matplotlib.pyplot as plt\n",
    "import numpy as np\n",
    "from textwrap import wrap\n",
    "sns.set(rc={'axes.facecolor':'#333333', 'figure.facecolor':'#333333'})\n",
    "plt.rcParams['font.family'] = 'sans-serif'\n",
    "plt.rcParams['font.sans-serif'] = 'montserrat'\n",
    "plt.rcParams['text.color'] = 'white'\n",
    "plt.rcParams['axes.labelcolor']= 'white'\n",
    "plt.rcParams['xtick.color'] = 'white'\n",
    "plt.rcParams['ytick.color'] = 'white'\n",
    "\n",
    "plt.rcParams['patch.edgecolor'] = '#333333'\n",
    "\n",
    "labels = Chartdf[0:10]['predictedoutcome'].astype(str)\n",
    "labels = [ '\\n'.join(wrap(l, 12)) for l in labels ]\n",
    "\n",
    "men_means = Chartdf[0:10]['live'].round(3)\n",
    "women_means = Chartdf[0:10]['die'].round(3)\n",
    "\n",
    "x = np.arange(len(labels))  # the label locations\n",
    "width = 0.35  # the width of the bars\n",
    "\n",
    "fig, ax = plt.subplots(figsize=(16, 8))\n",
    "\n",
    "rects1 = ax.bar(x - width/2, men_means, width, label='Liklihood of Lives',color=['#EAA700'])\n",
    "rects2 = ax.bar(x + width/2, women_means, width, label='Liklihood of Death',color=['#9E1B34'])\n",
    "\n",
    "# Add some text for labels, title and custom x-axis tick labels, etc.\n",
    "ax.set_ylabel('Log Liklihood of Possible Outcome for Each Prediction')\n",
    "ax.set_xlabel('Predicted Outcome for Each Observation')\n",
    "ax.set_title('Logistic Regression Classifier Visualization of Maximum Liklihood',size=14)\n",
    "ax.set_xticks(x)\n",
    "ax.set_xticklabels(labels)\n",
    "ax.legend()\n",
    "\n",
    "\n",
    "def autolabel(rects):\n",
    "    \"\"\"Attach a text label above each bar in *rects*, displaying its height.\"\"\"\n",
    "    for rect in rects:\n",
    "        height = rect.get_height()\n",
    "        ax.annotate('{}'.format(height),\n",
    "                    xy=(rect.get_x() + rect.get_width() / 2, height),\n",
    "                    xytext=(0, 3),  # 3 points vertical offset\n",
    "                    textcoords=\"offset points\",\n",
    "                    ha='center', va='bottom')\n",
    "\n",
    "ax.grid(False)\n",
    "\n",
    "autolabel(rects1)\n",
    "autolabel(rects2)\n",
    "\n",
    "fig.tight_layout()\n",
    "\n",
    "plt.show()\n",
    "#fig.savefig('ODMAP_Lvl2UsersLoginsCountFinal.png',transparent=False,dpi=100,bbox_inches='tight', facecolor=('#333333'))"
   ]
  },
  {
   "cell_type": "code",
   "execution_count": 59,
   "metadata": {
    "slideshow": {
     "slide_type": "slide"
    }
   },
   "outputs": [],
   "source": [
    "#Generate a confusion matrix for the test data and predictions for the above model. code from class examples\n",
    "cm = metrics.confusion_matrix(Y_test, predictions)"
   ]
  },
  {
   "cell_type": "markdown",
   "metadata": {},
   "source": [
    "In the below confusion matrix we see an overall prediction accuracy of approximately 74%. False posative outcomes outweigh false negative outcomes at 15 vs 9."
   ]
  },
  {
   "cell_type": "code",
   "execution_count": 60,
   "metadata": {
    "hide_input": true,
    "slideshow": {
     "slide_type": "slide"
    }
   },
   "outputs": [
    {
     "name": "stderr",
     "output_type": "stream",
     "text": [
      "findfont: Font family ['sans-serif'] not found. Falling back to DejaVu Sans.\n"
     ]
    },
    {
     "data": {
      "image/png": "[encoded data removed]",
      "text/plain": [
       "<Figure size 648x648 with 2 Axes>"
      ]
     },
     "metadata": {},
     "output_type": "display_data"
    }
   ],
   "source": [
    "plt.figure(figsize=(9,9))\n",
    "sns.heatmap(cm, annot=True, fmt=\".3f\", linewidths=.5, square = True, cmap = 'RdBu');\n",
    "plt.ylabel('Actual label');\n",
    "plt.xlabel('Predicted label');\n",
    "all_sample_title = 'Accuracy Score: {0}'.format(score)\n",
    "plt.title(all_sample_title, size = 15);\n",
    "plt.savefig('toy_Digits_ConfusionSeabornCodementor.png')\n",
    "plt.show()"
   ]
  },
  {
   "cell_type": "code",
   "execution_count": 30,
   "metadata": {},
   "outputs": [],
   "source": [
    "#Correlation scatter matrix used to pick out correlations between factors - All Crime\n",
    "\n",
    "from pandas.plotting import scatter_matrix\n",
    "\n",
    "#scatter_matrix(SimpleBinary, alpha=0.9, figsize=(14, 14), diagonal='kde')\n"
   ]
  },
  {
   "cell_type": "markdown",
   "metadata": {},
   "source": [
    "We will down attempt to do some feature selection, removing potential noise form uncorrelated variables. In this first step those features with a correlation of less than .1 to the target feature are removed from the dataframe."
   ]
  },
  {
   "cell_type": "code",
   "execution_count": 61,
   "metadata": {},
   "outputs": [],
   "source": [
    "#remove values with correlation less than .1\n",
    "Corrs=SimpleBinary[SimpleBinary.columns].corr()['Target']\n",
    "remove2=Corrs[np.sqrt(Corrs**2) < 0.1].index"
   ]
  },
  {
   "cell_type": "code",
   "execution_count": 62,
   "metadata": {},
   "outputs": [
    {
     "data": {
      "text/plain": [
       "Index(['Age', 'rectal temperature', 'respiratory rate', 'total protein'], dtype='object')"
      ]
     },
     "execution_count": 62,
     "metadata": {},
     "output_type": "execute_result"
    }
   ],
   "source": [
    "remove2"
   ]
  },
  {
   "cell_type": "code",
   "execution_count": 63,
   "metadata": {},
   "outputs": [
    {
     "data": {
      "text/html": [
       "<div>\n",
       "<style scoped>\n",
       "    .dataframe tbody tr th:only-of-type {\n",
       "        vertical-align: middle;\n",
       "    }\n",
       "\n",
       "    .dataframe tbody tr th {\n",
       "        vertical-align: top;\n",
       "    }\n",
       "\n",
       "    .dataframe thead th {\n",
       "        text-align: right;\n",
       "    }\n",
       "</style>\n",
       "<table border=\"1\" class=\"dataframe\">\n",
       "  <thead>\n",
       "    <tr style=\"text-align: right;\">\n",
       "      <th></th>\n",
       "      <th>surgery</th>\n",
       "      <th>pulse</th>\n",
       "      <th>temperature of extremities</th>\n",
       "      <th>peripheral pulse</th>\n",
       "      <th>mucous membranes</th>\n",
       "      <th>capillary refill time</th>\n",
       "      <th>pain  a subjective judgement of the horses pain level</th>\n",
       "      <th>peristalsis</th>\n",
       "      <th>abdominal distension</th>\n",
       "      <th>packed cell volume</th>\n",
       "      <th>outcome</th>\n",
       "      <th>surgical lesion</th>\n",
       "      <th>type of lesion</th>\n",
       "      <th>Target</th>\n",
       "      <th>location of lesion</th>\n",
       "    </tr>\n",
       "  </thead>\n",
       "  <tbody>\n",
       "    <tr>\n",
       "      <th>0</th>\n",
       "      <td>2</td>\n",
       "      <td>66</td>\n",
       "      <td>3</td>\n",
       "      <td>3</td>\n",
       "      <td>0</td>\n",
       "      <td>2</td>\n",
       "      <td>5</td>\n",
       "      <td>4</td>\n",
       "      <td>4</td>\n",
       "      <td>45.0</td>\n",
       "      <td>2</td>\n",
       "      <td>2</td>\n",
       "      <td>1</td>\n",
       "      <td>1</td>\n",
       "      <td>1</td>\n",
       "    </tr>\n",
       "    <tr>\n",
       "      <th>1</th>\n",
       "      <td>1</td>\n",
       "      <td>88</td>\n",
       "      <td>0</td>\n",
       "      <td>0</td>\n",
       "      <td>4</td>\n",
       "      <td>1</td>\n",
       "      <td>3</td>\n",
       "      <td>4</td>\n",
       "      <td>2</td>\n",
       "      <td>50.0</td>\n",
       "      <td>3</td>\n",
       "      <td>2</td>\n",
       "      <td>2</td>\n",
       "      <td>1</td>\n",
       "      <td>2</td>\n",
       "    </tr>\n",
       "    <tr>\n",
       "      <th>2</th>\n",
       "      <td>2</td>\n",
       "      <td>40</td>\n",
       "      <td>1</td>\n",
       "      <td>1</td>\n",
       "      <td>3</td>\n",
       "      <td>1</td>\n",
       "      <td>3</td>\n",
       "      <td>3</td>\n",
       "      <td>1</td>\n",
       "      <td>33.0</td>\n",
       "      <td>1</td>\n",
       "      <td>2</td>\n",
       "      <td>0</td>\n",
       "      <td>0</td>\n",
       "      <td>0</td>\n",
       "    </tr>\n",
       "    <tr>\n",
       "      <th>3</th>\n",
       "      <td>1</td>\n",
       "      <td>164</td>\n",
       "      <td>4</td>\n",
       "      <td>1</td>\n",
       "      <td>6</td>\n",
       "      <td>2</td>\n",
       "      <td>2</td>\n",
       "      <td>4</td>\n",
       "      <td>4</td>\n",
       "      <td>48.0</td>\n",
       "      <td>2</td>\n",
       "      <td>1</td>\n",
       "      <td>2</td>\n",
       "      <td>1</td>\n",
       "      <td>2</td>\n",
       "    </tr>\n",
       "    <tr>\n",
       "      <th>4</th>\n",
       "      <td>2</td>\n",
       "      <td>104</td>\n",
       "      <td>0</td>\n",
       "      <td>0</td>\n",
       "      <td>6</td>\n",
       "      <td>2</td>\n",
       "      <td>0</td>\n",
       "      <td>0</td>\n",
       "      <td>0</td>\n",
       "      <td>74.0</td>\n",
       "      <td>2</td>\n",
       "      <td>2</td>\n",
       "      <td>3</td>\n",
       "      <td>1</td>\n",
       "      <td>4</td>\n",
       "    </tr>\n",
       "    <tr>\n",
       "      <th>...</th>\n",
       "      <td>...</td>\n",
       "      <td>...</td>\n",
       "      <td>...</td>\n",
       "      <td>...</td>\n",
       "      <td>...</td>\n",
       "      <td>...</td>\n",
       "      <td>...</td>\n",
       "      <td>...</td>\n",
       "      <td>...</td>\n",
       "      <td>...</td>\n",
       "      <td>...</td>\n",
       "      <td>...</td>\n",
       "      <td>...</td>\n",
       "      <td>...</td>\n",
       "      <td>...</td>\n",
       "    </tr>\n",
       "    <tr>\n",
       "      <th>363</th>\n",
       "      <td>2</td>\n",
       "      <td>60</td>\n",
       "      <td>1</td>\n",
       "      <td>1</td>\n",
       "      <td>3</td>\n",
       "      <td>1</td>\n",
       "      <td>4</td>\n",
       "      <td>2</td>\n",
       "      <td>2</td>\n",
       "      <td>40.0</td>\n",
       "      <td>1</td>\n",
       "      <td>1</td>\n",
       "      <td>2</td>\n",
       "      <td>0</td>\n",
       "      <td>3</td>\n",
       "    </tr>\n",
       "    <tr>\n",
       "      <th>364</th>\n",
       "      <td>2</td>\n",
       "      <td>42</td>\n",
       "      <td>1</td>\n",
       "      <td>1</td>\n",
       "      <td>1</td>\n",
       "      <td>1</td>\n",
       "      <td>1</td>\n",
       "      <td>3</td>\n",
       "      <td>1</td>\n",
       "      <td>36.0</td>\n",
       "      <td>1</td>\n",
       "      <td>2</td>\n",
       "      <td>1</td>\n",
       "      <td>0</td>\n",
       "      <td>4</td>\n",
       "    </tr>\n",
       "    <tr>\n",
       "      <th>365</th>\n",
       "      <td>1</td>\n",
       "      <td>60</td>\n",
       "      <td>1</td>\n",
       "      <td>1</td>\n",
       "      <td>2</td>\n",
       "      <td>1</td>\n",
       "      <td>2</td>\n",
       "      <td>1</td>\n",
       "      <td>1</td>\n",
       "      <td>44.0</td>\n",
       "      <td>3</td>\n",
       "      <td>1</td>\n",
       "      <td>2</td>\n",
       "      <td>1</td>\n",
       "      <td>2</td>\n",
       "    </tr>\n",
       "    <tr>\n",
       "      <th>366</th>\n",
       "      <td>2</td>\n",
       "      <td>42</td>\n",
       "      <td>3</td>\n",
       "      <td>0</td>\n",
       "      <td>3</td>\n",
       "      <td>1</td>\n",
       "      <td>1</td>\n",
       "      <td>1</td>\n",
       "      <td>1</td>\n",
       "      <td>37.0</td>\n",
       "      <td>1</td>\n",
       "      <td>2</td>\n",
       "      <td>1</td>\n",
       "      <td>0</td>\n",
       "      <td>3</td>\n",
       "    </tr>\n",
       "    <tr>\n",
       "      <th>367</th>\n",
       "      <td>2</td>\n",
       "      <td>88</td>\n",
       "      <td>3</td>\n",
       "      <td>1</td>\n",
       "      <td>1</td>\n",
       "      <td>1</td>\n",
       "      <td>3</td>\n",
       "      <td>3</td>\n",
       "      <td>2</td>\n",
       "      <td>44.0</td>\n",
       "      <td>2</td>\n",
       "      <td>1</td>\n",
       "      <td>1</td>\n",
       "      <td>1</td>\n",
       "      <td>2</td>\n",
       "    </tr>\n",
       "  </tbody>\n",
       "</table>\n",
       "<p>368 rows × 15 columns</p>\n",
       "</div>"
      ],
      "text/plain": [
       "     surgery  pulse  temperature of extremities  peripheral pulse  \\\n",
       "0          2     66                           3                 3   \n",
       "1          1     88                           0                 0   \n",
       "2          2     40                           1                 1   \n",
       "3          1    164                           4                 1   \n",
       "4          2    104                           0                 0   \n",
       "..       ...    ...                         ...               ...   \n",
       "363        2     60                           1                 1   \n",
       "364        2     42                           1                 1   \n",
       "365        1     60                           1                 1   \n",
       "366        2     42                           3                 0   \n",
       "367        2     88                           3                 1   \n",
       "\n",
       "     mucous membranes  capillary refill time  \\\n",
       "0                   0                      2   \n",
       "1                   4                      1   \n",
       "2                   3                      1   \n",
       "3                   6                      2   \n",
       "4                   6                      2   \n",
       "..                ...                    ...   \n",
       "363                 3                      1   \n",
       "364                 1                      1   \n",
       "365                 2                      1   \n",
       "366                 3                      1   \n",
       "367                 1                      1   \n",
       "\n",
       "     pain  a subjective judgement of the horses pain level  peristalsis  \\\n",
       "0                                                    5                4   \n",
       "1                                                    3                4   \n",
       "2                                                    3                3   \n",
       "3                                                    2                4   \n",
       "4                                                    0                0   \n",
       "..                                                 ...              ...   \n",
       "363                                                  4                2   \n",
       "364                                                  1                3   \n",
       "365                                                  2                1   \n",
       "366                                                  1                1   \n",
       "367                                                  3                3   \n",
       "\n",
       "     abdominal distension  packed cell volume  outcome  surgical lesion  \\\n",
       "0                       4                45.0        2                2   \n",
       "1                       2                50.0        3                2   \n",
       "2                       1                33.0        1                2   \n",
       "3                       4                48.0        2                1   \n",
       "4                       0                74.0        2                2   \n",
       "..                    ...                 ...      ...              ...   \n",
       "363                     2                40.0        1                1   \n",
       "364                     1                36.0        1                2   \n",
       "365                     1                44.0        3                1   \n",
       "366                     1                37.0        1                2   \n",
       "367                     2                44.0        2                1   \n",
       "\n",
       "     type of lesion  Target  location of lesion  \n",
       "0                 1       1                   1  \n",
       "1                 2       1                   2  \n",
       "2                 0       0                   0  \n",
       "3                 2       1                   2  \n",
       "4                 3       1                   4  \n",
       "..              ...     ...                 ...  \n",
       "363               2       0                   3  \n",
       "364               1       0                   4  \n",
       "365               2       1                   2  \n",
       "366               1       0                   3  \n",
       "367               1       1                   2  \n",
       "\n",
       "[368 rows x 15 columns]"
      ]
     },
     "execution_count": 63,
     "metadata": {},
     "output_type": "execute_result"
    }
   ],
   "source": [
    "SimpleBinary2=SimpleBinary.drop(list(remove2), axis=1)\n",
    "SimpleBinary2"
   ]
  },
  {
   "cell_type": "markdown",
   "metadata": {},
   "source": [
    "We will now refit the model with these variables removed and reassess its performance."
   ]
  },
  {
   "cell_type": "code",
   "execution_count": 70,
   "metadata": {
    "slideshow": {
     "slide_type": "notes"
    }
   },
   "outputs": [
    {
     "data": {
      "text/plain": [
       "Index(['surgery', 'pulse', 'temperature of extremities', 'peripheral pulse',\n",
       "       'mucous membranes', 'capillary refill time',\n",
       "       'pain  a subjective judgement of the horses pain level', 'peristalsis',\n",
       "       'abdominal distension', 'packed cell volume', 'surgical lesion',\n",
       "       'type of lesion', 'location of lesion'],\n",
       "      dtype='object')"
      ]
     },
     "execution_count": 70,
     "metadata": {},
     "output_type": "execute_result"
    }
   ],
   "source": [
    "X = SimpleBinary2.drop(columns= ['outcome','Target'])\n",
    "#X = pd.get_dummies(X)\n",
    "X.columns"
   ]
  },
  {
   "cell_type": "code",
   "execution_count": 71,
   "metadata": {},
   "outputs": [
    {
     "data": {
      "text/plain": [
       "0    227\n",
       "1    141\n",
       "Name: Target, dtype: int64"
      ]
     },
     "execution_count": 71,
     "metadata": {},
     "output_type": "execute_result"
    }
   ],
   "source": [
    "y = SimpleBinary2.Target ## creating target values\n",
    "y.value_counts()"
   ]
  },
  {
   "cell_type": "code",
   "execution_count": 74,
   "metadata": {
    "slideshow": {
     "slide_type": "slide"
    }
   },
   "outputs": [
    {
     "data": {
      "text/plain": [
       "LogisticRegression(C=1.0, class_weight=None, dual=False, fit_intercept=True,\n",
       "                   intercept_scaling=1, l1_ratio=None, max_iter=10000,\n",
       "                   multi_class='auto', n_jobs=None, penalty='none',\n",
       "                   random_state=40, solver='lbfgs', tol=0.0001, verbose=0,\n",
       "                   warm_start=False)"
      ]
     },
     "execution_count": 74,
     "metadata": {},
     "output_type": "execute_result"
    }
   ],
   "source": [
    "\n",
    "X_train, X_test, Y_train, Y_test = train_test_split(X, y, test_size = .25, random_state = 40)\n",
    "\n",
    "logreg = LogisticRegression(penalty = 'none', max_iter= 10000,random_state = 40) ## instantiate\n",
    "\n",
    "logreg.fit(X_train, Y_train) ## fit"
   ]
  },
  {
   "cell_type": "code",
   "execution_count": 75,
   "metadata": {
    "slideshow": {
     "slide_type": "slide"
    }
   },
   "outputs": [
    {
     "name": "stdout",
     "output_type": "stream",
     "text": [
      "0.7789855072463768\n",
      "0.7282608695652174\n"
     ]
    }
   ],
   "source": [
    "## Accuracy Scores\n",
    "trainscore = logreg.score(X_train,Y_train)\n",
    "testscore = logreg.score(X_test,Y_test)\n",
    "\n",
    "print(trainscore)\n",
    "print(testscore)"
   ]
  },
  {
   "cell_type": "code",
   "execution_count": 76,
   "metadata": {
    "slideshow": {
     "slide_type": "slide"
    }
   },
   "outputs": [],
   "source": [
    "predictions = logreg.predict(X_test)"
   ]
  },
  {
   "cell_type": "code",
   "execution_count": 77,
   "metadata": {},
   "outputs": [
    {
     "data": {
      "text/plain": [
       "array([1, 0, 0, 0, 0, 1, 0, 0, 1, 0, 0, 1, 1, 0, 0, 1, 1, 0, 1, 1, 0, 0,\n",
       "       1, 0, 0, 1, 1, 1, 0, 1, 1, 0, 0, 0, 0, 1, 1, 0, 1, 1, 0, 0, 0, 0,\n",
       "       1, 1, 0, 0, 0, 0, 0, 1, 0, 0, 1, 0, 0, 1, 1, 1, 0, 1, 0, 0, 0, 0,\n",
       "       0, 0, 0, 0, 1, 0, 0, 0, 0, 0, 0, 1, 0, 1, 0, 1, 0, 0, 0, 0, 0, 0,\n",
       "       1, 1, 1, 0], dtype=int64)"
      ]
     },
     "execution_count": 77,
     "metadata": {},
     "output_type": "execute_result"
    }
   ],
   "source": [
    "predictions"
   ]
  },
  {
   "cell_type": "code",
   "execution_count": 78,
   "metadata": {
    "slideshow": {
     "slide_type": "slide"
    }
   },
   "outputs": [],
   "source": [
    "cm = metrics.confusion_matrix(Y_test, predictions)"
   ]
  },
  {
   "cell_type": "markdown",
   "metadata": {},
   "source": [
    "We actually observe a slightly reduced test accuracy based on the removal of the above variables. One additional prediction becomes a false posative. "
   ]
  },
  {
   "cell_type": "code",
   "execution_count": 81,
   "metadata": {
    "hide_input": true,
    "slideshow": {
     "slide_type": "slide"
    }
   },
   "outputs": [
    {
     "data": {
      "image/png": "[encoded data removed]",
      "text/plain": [
       "<Figure size 648x648 with 2 Axes>"
      ]
     },
     "metadata": {},
     "output_type": "display_data"
    }
   ],
   "source": [
    "plt.figure(figsize=(9,9))\n",
    "sns.heatmap(cm, annot=True, fmt=\".3f\", linewidths=.5, square = True, cmap = 'RdBu');\n",
    "plt.ylabel('Actual label');\n",
    "plt.xlabel('Predicted label');\n",
    "all_sample_title = 'Accuracy Score: {0}'.format(testscore)\n",
    "plt.title(all_sample_title, size = 15);\n",
    "plt.savefig('toy_Digits_ConfusionSeabornCodementor.png')\n",
    "plt.show()"
   ]
  },
  {
   "cell_type": "markdown",
   "metadata": {},
   "source": [
    "Now we will attempt feature selection using the lasso meathod, as opposed to simply discarding the variables with low simple correlation to target."
   ]
  },
  {
   "cell_type": "code",
   "execution_count": 84,
   "metadata": {
    "slideshow": {
     "slide_type": "notes"
    }
   },
   "outputs": [
    {
     "data": {
      "text/plain": [
       "Index(['surgery', 'Age', 'rectal temperature', 'pulse', 'respiratory rate',\n",
       "       'temperature of extremities', 'peripheral pulse', 'mucous membranes',\n",
       "       'capillary refill time',\n",
       "       'pain  a subjective judgement of the horses pain level', 'peristalsis',\n",
       "       'abdominal distension', 'packed cell volume', 'total protein',\n",
       "       'surgical lesion', 'type of lesion', 'location of lesion'],\n",
       "      dtype='object')"
      ]
     },
     "execution_count": 84,
     "metadata": {},
     "output_type": "execute_result"
    }
   ],
   "source": [
    "X = SimpleBinary.drop(columns= ['outcome','Target'])\n",
    "X.columns"
   ]
  },
  {
   "cell_type": "code",
   "execution_count": 85,
   "metadata": {},
   "outputs": [
    {
     "data": {
      "text/plain": [
       "0    227\n",
       "1    141\n",
       "Name: Target, dtype: int64"
      ]
     },
     "execution_count": 85,
     "metadata": {},
     "output_type": "execute_result"
    }
   ],
   "source": [
    "y = SimpleBinary.Target ## creating target values\n",
    "y.value_counts()"
   ]
  },
  {
   "cell_type": "code",
   "execution_count": 86,
   "metadata": {
    "slideshow": {
     "slide_type": "slide"
    }
   },
   "outputs": [],
   "source": [
    "X_train, X_test, Y_train, Y_test = train_test_split(X, y, test_size = .25, random_state = 40)"
   ]
  },
  {
   "cell_type": "code",
   "execution_count": 87,
   "metadata": {},
   "outputs": [
    {
     "data": {
      "image/png": "[encoded data removed]",
      "text/plain": [
       "<Figure size 432x288 with 1 Axes>"
      ]
     },
     "metadata": {},
     "output_type": "display_data"
    },
    {
     "data": {
      "text/plain": [
       "array([0.        , 0.        , 0.        , 0.00307049, 0.00098978,\n",
       "       0.        , 0.        , 0.00554444, 0.        , 0.01655608,\n",
       "       0.        , 0.        , 0.00937523, 0.        , 0.        ,\n",
       "       0.15343647, 0.        ])"
      ]
     },
     "execution_count": 87,
     "metadata": {},
     "output_type": "execute_result"
    }
   ],
   "source": [
    "lasso = LassoCV().fit(X_train, Y_train)\n",
    "importance = np.abs(lasso.coef_)\n",
    "#feature_names = np.array(X_train.values)\n",
    "plt.bar(height=importance, x=X_train.columns)\n",
    "plt.xticks(rotation=90)\n",
    "plt.title(\"Feature importances via coefficients\")\n",
    "plt.show()\n",
    "importance"
   ]
  },
  {
   "cell_type": "code",
   "execution_count": 88,
   "metadata": {},
   "outputs": [
    {
     "data": {
      "text/html": [
       "<div>\n",
       "<style scoped>\n",
       "    .dataframe tbody tr th:only-of-type {\n",
       "        vertical-align: middle;\n",
       "    }\n",
       "\n",
       "    .dataframe tbody tr th {\n",
       "        vertical-align: top;\n",
       "    }\n",
       "\n",
       "    .dataframe thead th {\n",
       "        text-align: right;\n",
       "    }\n",
       "</style>\n",
       "<table border=\"1\" class=\"dataframe\">\n",
       "  <thead>\n",
       "    <tr style=\"text-align: right;\">\n",
       "      <th></th>\n",
       "      <th>feature</th>\n",
       "      <th>importance</th>\n",
       "    </tr>\n",
       "  </thead>\n",
       "  <tbody>\n",
       "    <tr>\n",
       "      <th>0</th>\n",
       "      <td>surgery</td>\n",
       "      <td>0.000000</td>\n",
       "    </tr>\n",
       "    <tr>\n",
       "      <th>1</th>\n",
       "      <td>Age</td>\n",
       "      <td>0.000000</td>\n",
       "    </tr>\n",
       "    <tr>\n",
       "      <th>2</th>\n",
       "      <td>rectal temperature</td>\n",
       "      <td>0.000000</td>\n",
       "    </tr>\n",
       "    <tr>\n",
       "      <th>3</th>\n",
       "      <td>pulse</td>\n",
       "      <td>0.003070</td>\n",
       "    </tr>\n",
       "    <tr>\n",
       "      <th>4</th>\n",
       "      <td>respiratory rate</td>\n",
       "      <td>0.000990</td>\n",
       "    </tr>\n",
       "    <tr>\n",
       "      <th>5</th>\n",
       "      <td>temperature of extremities</td>\n",
       "      <td>0.000000</td>\n",
       "    </tr>\n",
       "    <tr>\n",
       "      <th>6</th>\n",
       "      <td>peripheral pulse</td>\n",
       "      <td>0.000000</td>\n",
       "    </tr>\n",
       "    <tr>\n",
       "      <th>7</th>\n",
       "      <td>mucous membranes</td>\n",
       "      <td>0.005544</td>\n",
       "    </tr>\n",
       "    <tr>\n",
       "      <th>8</th>\n",
       "      <td>capillary refill time</td>\n",
       "      <td>0.000000</td>\n",
       "    </tr>\n",
       "    <tr>\n",
       "      <th>9</th>\n",
       "      <td>pain  a subjective judgement of the horses pai...</td>\n",
       "      <td>0.016556</td>\n",
       "    </tr>\n",
       "    <tr>\n",
       "      <th>10</th>\n",
       "      <td>peristalsis</td>\n",
       "      <td>0.000000</td>\n",
       "    </tr>\n",
       "    <tr>\n",
       "      <th>11</th>\n",
       "      <td>abdominal distension</td>\n",
       "      <td>0.000000</td>\n",
       "    </tr>\n",
       "    <tr>\n",
       "      <th>12</th>\n",
       "      <td>packed cell volume</td>\n",
       "      <td>0.009375</td>\n",
       "    </tr>\n",
       "    <tr>\n",
       "      <th>13</th>\n",
       "      <td>total protein</td>\n",
       "      <td>0.000000</td>\n",
       "    </tr>\n",
       "    <tr>\n",
       "      <th>14</th>\n",
       "      <td>surgical lesion</td>\n",
       "      <td>0.000000</td>\n",
       "    </tr>\n",
       "    <tr>\n",
       "      <th>15</th>\n",
       "      <td>type of lesion</td>\n",
       "      <td>0.153436</td>\n",
       "    </tr>\n",
       "    <tr>\n",
       "      <th>16</th>\n",
       "      <td>location of lesion</td>\n",
       "      <td>0.000000</td>\n",
       "    </tr>\n",
       "  </tbody>\n",
       "</table>\n",
       "</div>"
      ],
      "text/plain": [
       "                                              feature  importance\n",
       "0                                             surgery    0.000000\n",
       "1                                                 Age    0.000000\n",
       "2                                  rectal temperature    0.000000\n",
       "3                                               pulse    0.003070\n",
       "4                                    respiratory rate    0.000990\n",
       "5                          temperature of extremities    0.000000\n",
       "6                                    peripheral pulse    0.000000\n",
       "7                                    mucous membranes    0.005544\n",
       "8                               capillary refill time    0.000000\n",
       "9   pain  a subjective judgement of the horses pai...    0.016556\n",
       "10                                        peristalsis    0.000000\n",
       "11                               abdominal distension    0.000000\n",
       "12                                 packed cell volume    0.009375\n",
       "13                                      total protein    0.000000\n",
       "14                                    surgical lesion    0.000000\n",
       "15                                     type of lesion    0.153436\n",
       "16                                 location of lesion    0.000000"
      ]
     },
     "execution_count": 88,
     "metadata": {},
     "output_type": "execute_result"
    }
   ],
   "source": [
    "LassoOutcome = {'feature':X_train.columns,'importance':list(importance)}\n",
    "LassoOutcome = pd.DataFrame(LassoOutcome)\n",
    "LassoOutcome"
   ]
  },
  {
   "cell_type": "code",
   "execution_count": 92,
   "metadata": {},
   "outputs": [
    {
     "data": {
      "text/plain": [
       "['surgery',\n",
       " 'Age',\n",
       " 'rectal temperature',\n",
       " 'temperature of extremities',\n",
       " 'peripheral pulse',\n",
       " 'capillary refill time',\n",
       " 'peristalsis',\n",
       " 'abdominal distension',\n",
       " 'total protein',\n",
       " 'surgical lesion',\n",
       " 'location of lesion']"
      ]
     },
     "execution_count": 92,
     "metadata": {},
     "output_type": "execute_result"
    }
   ],
   "source": [
    "#remove values with importance of 0\n",
    "Lassoremove=LassoOutcome[LassoOutcome['importance'] == 0]\n",
    "list(Lassoremove['feature'])"
   ]
  },
  {
   "cell_type": "code",
   "execution_count": 94,
   "metadata": {},
   "outputs": [
    {
     "data": {
      "text/html": [
       "<div>\n",
       "<style scoped>\n",
       "    .dataframe tbody tr th:only-of-type {\n",
       "        vertical-align: middle;\n",
       "    }\n",
       "\n",
       "    .dataframe tbody tr th {\n",
       "        vertical-align: top;\n",
       "    }\n",
       "\n",
       "    .dataframe thead th {\n",
       "        text-align: right;\n",
       "    }\n",
       "</style>\n",
       "<table border=\"1\" class=\"dataframe\">\n",
       "  <thead>\n",
       "    <tr style=\"text-align: right;\">\n",
       "      <th></th>\n",
       "      <th>pulse</th>\n",
       "      <th>respiratory rate</th>\n",
       "      <th>mucous membranes</th>\n",
       "      <th>pain  a subjective judgement of the horses pain level</th>\n",
       "      <th>packed cell volume</th>\n",
       "      <th>outcome</th>\n",
       "      <th>type of lesion</th>\n",
       "      <th>Target</th>\n",
       "    </tr>\n",
       "  </thead>\n",
       "  <tbody>\n",
       "    <tr>\n",
       "      <th>0</th>\n",
       "      <td>66</td>\n",
       "      <td>28</td>\n",
       "      <td>0</td>\n",
       "      <td>5</td>\n",
       "      <td>45.0</td>\n",
       "      <td>2</td>\n",
       "      <td>1</td>\n",
       "      <td>1</td>\n",
       "    </tr>\n",
       "    <tr>\n",
       "      <th>1</th>\n",
       "      <td>88</td>\n",
       "      <td>20</td>\n",
       "      <td>4</td>\n",
       "      <td>3</td>\n",
       "      <td>50.0</td>\n",
       "      <td>3</td>\n",
       "      <td>2</td>\n",
       "      <td>1</td>\n",
       "    </tr>\n",
       "    <tr>\n",
       "      <th>2</th>\n",
       "      <td>40</td>\n",
       "      <td>24</td>\n",
       "      <td>3</td>\n",
       "      <td>3</td>\n",
       "      <td>33.0</td>\n",
       "      <td>1</td>\n",
       "      <td>0</td>\n",
       "      <td>0</td>\n",
       "    </tr>\n",
       "    <tr>\n",
       "      <th>3</th>\n",
       "      <td>164</td>\n",
       "      <td>84</td>\n",
       "      <td>6</td>\n",
       "      <td>2</td>\n",
       "      <td>48.0</td>\n",
       "      <td>2</td>\n",
       "      <td>2</td>\n",
       "      <td>1</td>\n",
       "    </tr>\n",
       "    <tr>\n",
       "      <th>4</th>\n",
       "      <td>104</td>\n",
       "      <td>35</td>\n",
       "      <td>6</td>\n",
       "      <td>0</td>\n",
       "      <td>74.0</td>\n",
       "      <td>2</td>\n",
       "      <td>3</td>\n",
       "      <td>1</td>\n",
       "    </tr>\n",
       "    <tr>\n",
       "      <th>...</th>\n",
       "      <td>...</td>\n",
       "      <td>...</td>\n",
       "      <td>...</td>\n",
       "      <td>...</td>\n",
       "      <td>...</td>\n",
       "      <td>...</td>\n",
       "      <td>...</td>\n",
       "      <td>...</td>\n",
       "    </tr>\n",
       "    <tr>\n",
       "      <th>363</th>\n",
       "      <td>60</td>\n",
       "      <td>30</td>\n",
       "      <td>3</td>\n",
       "      <td>4</td>\n",
       "      <td>40.0</td>\n",
       "      <td>1</td>\n",
       "      <td>2</td>\n",
       "      <td>0</td>\n",
       "    </tr>\n",
       "    <tr>\n",
       "      <th>364</th>\n",
       "      <td>42</td>\n",
       "      <td>40</td>\n",
       "      <td>1</td>\n",
       "      <td>1</td>\n",
       "      <td>36.0</td>\n",
       "      <td>1</td>\n",
       "      <td>1</td>\n",
       "      <td>0</td>\n",
       "    </tr>\n",
       "    <tr>\n",
       "      <th>365</th>\n",
       "      <td>60</td>\n",
       "      <td>12</td>\n",
       "      <td>2</td>\n",
       "      <td>2</td>\n",
       "      <td>44.0</td>\n",
       "      <td>3</td>\n",
       "      <td>2</td>\n",
       "      <td>1</td>\n",
       "    </tr>\n",
       "    <tr>\n",
       "      <th>366</th>\n",
       "      <td>42</td>\n",
       "      <td>12</td>\n",
       "      <td>3</td>\n",
       "      <td>1</td>\n",
       "      <td>37.0</td>\n",
       "      <td>1</td>\n",
       "      <td>1</td>\n",
       "      <td>0</td>\n",
       "    </tr>\n",
       "    <tr>\n",
       "      <th>367</th>\n",
       "      <td>88</td>\n",
       "      <td>36</td>\n",
       "      <td>1</td>\n",
       "      <td>3</td>\n",
       "      <td>44.0</td>\n",
       "      <td>2</td>\n",
       "      <td>1</td>\n",
       "      <td>1</td>\n",
       "    </tr>\n",
       "  </tbody>\n",
       "</table>\n",
       "<p>368 rows × 8 columns</p>\n",
       "</div>"
      ],
      "text/plain": [
       "     pulse  respiratory rate  mucous membranes  \\\n",
       "0       66                28                 0   \n",
       "1       88                20                 4   \n",
       "2       40                24                 3   \n",
       "3      164                84                 6   \n",
       "4      104                35                 6   \n",
       "..     ...               ...               ...   \n",
       "363     60                30                 3   \n",
       "364     42                40                 1   \n",
       "365     60                12                 2   \n",
       "366     42                12                 3   \n",
       "367     88                36                 1   \n",
       "\n",
       "     pain  a subjective judgement of the horses pain level  \\\n",
       "0                                                    5       \n",
       "1                                                    3       \n",
       "2                                                    3       \n",
       "3                                                    2       \n",
       "4                                                    0       \n",
       "..                                                 ...       \n",
       "363                                                  4       \n",
       "364                                                  1       \n",
       "365                                                  2       \n",
       "366                                                  1       \n",
       "367                                                  3       \n",
       "\n",
       "     packed cell volume  outcome  type of lesion  Target  \n",
       "0                  45.0        2               1       1  \n",
       "1                  50.0        3               2       1  \n",
       "2                  33.0        1               0       0  \n",
       "3                  48.0        2               2       1  \n",
       "4                  74.0        2               3       1  \n",
       "..                  ...      ...             ...     ...  \n",
       "363                40.0        1               2       0  \n",
       "364                36.0        1               1       0  \n",
       "365                44.0        3               2       1  \n",
       "366                37.0        1               1       0  \n",
       "367                44.0        2               1       1  \n",
       "\n",
       "[368 rows x 8 columns]"
      ]
     },
     "execution_count": 94,
     "metadata": {},
     "output_type": "execute_result"
    }
   ],
   "source": [
    "SimpleBinary3=SimpleBinary.drop(list(Lassoremove['feature']), axis=1)\n",
    "SimpleBinary3"
   ]
  },
  {
   "cell_type": "markdown",
   "metadata": {},
   "source": [
    "Now lets retrain the classifier model using these features."
   ]
  },
  {
   "cell_type": "code",
   "execution_count": 95,
   "metadata": {
    "slideshow": {
     "slide_type": "notes"
    }
   },
   "outputs": [
    {
     "data": {
      "text/plain": [
       "Index(['pulse', 'respiratory rate', 'mucous membranes',\n",
       "       'pain  a subjective judgement of the horses pain level',\n",
       "       'packed cell volume', 'type of lesion'],\n",
       "      dtype='object')"
      ]
     },
     "execution_count": 95,
     "metadata": {},
     "output_type": "execute_result"
    }
   ],
   "source": [
    "X = SimpleBinary3.drop(columns= ['outcome','Target'])\n",
    "#X = pd.get_dummies(X)\n",
    "X.columns"
   ]
  },
  {
   "cell_type": "code",
   "execution_count": 96,
   "metadata": {},
   "outputs": [
    {
     "data": {
      "text/plain": [
       "0    227\n",
       "1    141\n",
       "Name: Target, dtype: int64"
      ]
     },
     "execution_count": 96,
     "metadata": {},
     "output_type": "execute_result"
    }
   ],
   "source": [
    "y = SimpleBinary3.Target ## creating target values\n",
    "y.value_counts()"
   ]
  },
  {
   "cell_type": "code",
   "execution_count": 97,
   "metadata": {
    "slideshow": {
     "slide_type": "slide"
    }
   },
   "outputs": [
    {
     "data": {
      "text/plain": [
       "LogisticRegression(C=1.0, class_weight=None, dual=False, fit_intercept=True,\n",
       "                   intercept_scaling=1, l1_ratio=None, max_iter=10000,\n",
       "                   multi_class='auto', n_jobs=None, penalty='none',\n",
       "                   random_state=40, solver='lbfgs', tol=0.0001, verbose=0,\n",
       "                   warm_start=False)"
      ]
     },
     "execution_count": 97,
     "metadata": {},
     "output_type": "execute_result"
    }
   ],
   "source": [
    "X_train, X_test, Y_train, Y_test = train_test_split(X, y, test_size = .25, random_state = 40)\n",
    "\n",
    "logreg = LogisticRegression(penalty = 'none', max_iter= 10000,random_state = 40) ## instantiate\n",
    "\n",
    "logreg.fit(X_train, Y_train) ## fit"
   ]
  },
  {
   "cell_type": "code",
   "execution_count": 98,
   "metadata": {
    "slideshow": {
     "slide_type": "slide"
    }
   },
   "outputs": [
    {
     "name": "stdout",
     "output_type": "stream",
     "text": [
      "0.782608695652174\n",
      "0.7391304347826086\n"
     ]
    }
   ],
   "source": [
    "## Accuracy Scores\n",
    "trainscore = logreg.score(X_train,Y_train)\n",
    "testscore = logreg.score(X_test,Y_test)\n",
    "\n",
    "print(trainscore)\n",
    "print(testscore)"
   ]
  },
  {
   "cell_type": "code",
   "execution_count": 99,
   "metadata": {
    "slideshow": {
     "slide_type": "slide"
    }
   },
   "outputs": [],
   "source": [
    "predictions = logreg.predict(X_test)"
   ]
  },
  {
   "cell_type": "code",
   "execution_count": 100,
   "metadata": {},
   "outputs": [
    {
     "data": {
      "text/plain": [
       "array([1, 0, 0, 0, 0, 1, 0, 0, 1, 0, 0, 1, 0, 0, 0, 0, 1, 0, 1, 0, 0, 0,\n",
       "       1, 0, 0, 1, 1, 1, 0, 1, 1, 0, 0, 0, 0, 1, 1, 0, 0, 1, 0, 0, 0, 0,\n",
       "       1, 1, 0, 0, 0, 0, 0, 1, 0, 0, 1, 0, 0, 1, 1, 1, 0, 1, 0, 0, 0, 0,\n",
       "       0, 0, 0, 0, 1, 0, 0, 0, 0, 0, 0, 0, 0, 1, 0, 1, 0, 0, 0, 0, 0, 0,\n",
       "       1, 1, 1, 0], dtype=int64)"
      ]
     },
     "execution_count": 100,
     "metadata": {},
     "output_type": "execute_result"
    }
   ],
   "source": [
    "predictions"
   ]
  },
  {
   "cell_type": "code",
   "execution_count": 101,
   "metadata": {
    "slideshow": {
     "slide_type": "slide"
    }
   },
   "outputs": [],
   "source": [
    "cm = metrics.confusion_matrix(Y_test, predictions)"
   ]
  },
  {
   "cell_type": "markdown",
   "metadata": {},
   "source": [
    "We now observe a test accuracy equal to that of the baseline with the removal of the above variables identified by the lasso regression. While no improvement was noted, excluding uneeded features makes for a better model and we will now use this dataset moving forward for parameter testing and final evaluation."
   ]
  },
  {
   "cell_type": "code",
   "execution_count": 103,
   "metadata": {
    "hide_input": true,
    "slideshow": {
     "slide_type": "slide"
    }
   },
   "outputs": [
    {
     "data": {
      "image/png": "[encoded data removed]",
      "text/plain": [
       "<Figure size 648x648 with 2 Axes>"
      ]
     },
     "metadata": {},
     "output_type": "display_data"
    }
   ],
   "source": [
    "plt.figure(figsize=(9,9))\n",
    "sns.heatmap(cm, annot=True, fmt=\".3f\", linewidths=.5, square = True, cmap = 'RdBu');\n",
    "plt.ylabel('Actual label');\n",
    "plt.xlabel('Predicted label');\n",
    "all_sample_title = 'Accuracy Score: {0}'.format(testscore)\n",
    "plt.title(all_sample_title, size = 15);\n",
    "plt.savefig('ConfusionMatrix_Lasso.png')\n",
    "plt.show()"
   ]
  },
  {
   "cell_type": "code",
   "execution_count": null,
   "metadata": {},
   "outputs": [],
   "source": []
  },
  {
   "cell_type": "markdown",
   "metadata": {},
   "source": [
    "Validating the model via Cross Validation, k folds used as dataset isnt huge orig run time * k times. this is a more accurate measurment of model accracy\n",
    "Source used for assistance in coding:https://github.com/justmarkham/scikit-learn-videos/blob/master/07_cross_validation.ipynb"
   ]
  },
  {
   "cell_type": "code",
   "execution_count": 105,
   "metadata": {},
   "outputs": [
    {
     "name": "stdout",
     "output_type": "stream",
     "text": [
      "Iteration                   Training set observations                   Testing set observations\n",
      "    1     [ 74  75  76  77  78  79  80  81  82  83  84  85  86  87  88  89  90  91\n",
      "  92  93  94  95  96  97  98  99 100 101 102 103 104 105 106 107 108 109\n",
      " 110 111 112 113 114 115 116 117 118 119 120 121 122 123 124 125 126 127\n",
      " 128 129 130 131 132 133 134 135 136 137 138 139 140 141 142 143 144 145\n",
      " 146 147 148 149 150 151 152 153 154 155 156 157 158 159 160 161 162 163\n",
      " 164 165 166 167 168 169 170 171 172 173 174 175 176 177 178 179 180 181\n",
      " 182 183 184 185 186 187 188 189 190 191 192 193 194 195 196 197 198 199\n",
      " 200 201 202 203 204 205 206 207 208 209 210 211 212 213 214 215 216 217\n",
      " 218 219 220 221 222 223 224 225 226 227 228 229 230 231 232 233 234 235\n",
      " 236 237 238 239 240 241 242 243 244 245 246 247 248 249 250 251 252 253\n",
      " 254 255 256 257 258 259 260 261 262 263 264 265 266 267 268 269 270 271\n",
      " 272 273 274 275 276 277 278 279 280 281 282 283 284 285 286 287 288 289\n",
      " 290 291 292 293 294 295 296 297 298 299 300 301 302 303 304 305 306 307\n",
      " 308 309 310 311 312 313 314 315 316 317 318 319 320 321 322 323 324 325\n",
      " 326 327 328 329 330 331 332 333 334 335 336 337 338 339 340 341 342 343\n",
      " 344 345 346 347 348 349 350 351 352 353 354 355 356 357 358 359 360 361\n",
      " 362 363 364 365 366 367] [ 0  1  2  3  4  5  6  7  8  9 10 11 12 13 14 15 16 17 18 19 20 21 22 23\n",
      " 24 25 26 27 28 29 30 31 32 33 34 35 36 37 38 39 40 41 42 43 44 45 46 47\n",
      " 48 49 50 51 52 53 54 55 56 57 58 59 60 61 62 63 64 65 66 67 68 69 70 71\n",
      " 72 73]\n",
      "    2     [  0   1   2   3   4   5   6   7   8   9  10  11  12  13  14  15  16  17\n",
      "  18  19  20  21  22  23  24  25  26  27  28  29  30  31  32  33  34  35\n",
      "  36  37  38  39  40  41  42  43  44  45  46  47  48  49  50  51  52  53\n",
      "  54  55  56  57  58  59  60  61  62  63  64  65  66  67  68  69  70  71\n",
      "  72  73 148 149 150 151 152 153 154 155 156 157 158 159 160 161 162 163\n",
      " 164 165 166 167 168 169 170 171 172 173 174 175 176 177 178 179 180 181\n",
      " 182 183 184 185 186 187 188 189 190 191 192 193 194 195 196 197 198 199\n",
      " 200 201 202 203 204 205 206 207 208 209 210 211 212 213 214 215 216 217\n",
      " 218 219 220 221 222 223 224 225 226 227 228 229 230 231 232 233 234 235\n",
      " 236 237 238 239 240 241 242 243 244 245 246 247 248 249 250 251 252 253\n",
      " 254 255 256 257 258 259 260 261 262 263 264 265 266 267 268 269 270 271\n",
      " 272 273 274 275 276 277 278 279 280 281 282 283 284 285 286 287 288 289\n",
      " 290 291 292 293 294 295 296 297 298 299 300 301 302 303 304 305 306 307\n",
      " 308 309 310 311 312 313 314 315 316 317 318 319 320 321 322 323 324 325\n",
      " 326 327 328 329 330 331 332 333 334 335 336 337 338 339 340 341 342 343\n",
      " 344 345 346 347 348 349 350 351 352 353 354 355 356 357 358 359 360 361\n",
      " 362 363 364 365 366 367] [ 74  75  76  77  78  79  80  81  82  83  84  85  86  87  88  89  90  91\n",
      "  92  93  94  95  96  97  98  99 100 101 102 103 104 105 106 107 108 109\n",
      " 110 111 112 113 114 115 116 117 118 119 120 121 122 123 124 125 126 127\n",
      " 128 129 130 131 132 133 134 135 136 137 138 139 140 141 142 143 144 145\n",
      " 146 147]\n",
      "    3     [  0   1   2   3   4   5   6   7   8   9  10  11  12  13  14  15  16  17\n",
      "  18  19  20  21  22  23  24  25  26  27  28  29  30  31  32  33  34  35\n",
      "  36  37  38  39  40  41  42  43  44  45  46  47  48  49  50  51  52  53\n",
      "  54  55  56  57  58  59  60  61  62  63  64  65  66  67  68  69  70  71\n",
      "  72  73  74  75  76  77  78  79  80  81  82  83  84  85  86  87  88  89\n",
      "  90  91  92  93  94  95  96  97  98  99 100 101 102 103 104 105 106 107\n",
      " 108 109 110 111 112 113 114 115 116 117 118 119 120 121 122 123 124 125\n",
      " 126 127 128 129 130 131 132 133 134 135 136 137 138 139 140 141 142 143\n",
      " 144 145 146 147 222 223 224 225 226 227 228 229 230 231 232 233 234 235\n",
      " 236 237 238 239 240 241 242 243 244 245 246 247 248 249 250 251 252 253\n",
      " 254 255 256 257 258 259 260 261 262 263 264 265 266 267 268 269 270 271\n",
      " 272 273 274 275 276 277 278 279 280 281 282 283 284 285 286 287 288 289\n",
      " 290 291 292 293 294 295 296 297 298 299 300 301 302 303 304 305 306 307\n",
      " 308 309 310 311 312 313 314 315 316 317 318 319 320 321 322 323 324 325\n",
      " 326 327 328 329 330 331 332 333 334 335 336 337 338 339 340 341 342 343\n",
      " 344 345 346 347 348 349 350 351 352 353 354 355 356 357 358 359 360 361\n",
      " 362 363 364 365 366 367] [148 149 150 151 152 153 154 155 156 157 158 159 160 161 162 163 164 165\n",
      " 166 167 168 169 170 171 172 173 174 175 176 177 178 179 180 181 182 183\n",
      " 184 185 186 187 188 189 190 191 192 193 194 195 196 197 198 199 200 201\n",
      " 202 203 204 205 206 207 208 209 210 211 212 213 214 215 216 217 218 219\n",
      " 220 221]\n",
      "    4     [  0   1   2   3   4   5   6   7   8   9  10  11  12  13  14  15  16  17\n",
      "  18  19  20  21  22  23  24  25  26  27  28  29  30  31  32  33  34  35\n",
      "  36  37  38  39  40  41  42  43  44  45  46  47  48  49  50  51  52  53\n",
      "  54  55  56  57  58  59  60  61  62  63  64  65  66  67  68  69  70  71\n",
      "  72  73  74  75  76  77  78  79  80  81  82  83  84  85  86  87  88  89\n",
      "  90  91  92  93  94  95  96  97  98  99 100 101 102 103 104 105 106 107\n",
      " 108 109 110 111 112 113 114 115 116 117 118 119 120 121 122 123 124 125\n",
      " 126 127 128 129 130 131 132 133 134 135 136 137 138 139 140 141 142 143\n",
      " 144 145 146 147 148 149 150 151 152 153 154 155 156 157 158 159 160 161\n",
      " 162 163 164 165 166 167 168 169 170 171 172 173 174 175 176 177 178 179\n",
      " 180 181 182 183 184 185 186 187 188 189 190 191 192 193 194 195 196 197\n",
      " 198 199 200 201 202 203 204 205 206 207 208 209 210 211 212 213 214 215\n",
      " 216 217 218 219 220 221 295 296 297 298 299 300 301 302 303 304 305 306\n",
      " 307 308 309 310 311 312 313 314 315 316 317 318 319 320 321 322 323 324\n",
      " 325 326 327 328 329 330 331 332 333 334 335 336 337 338 339 340 341 342\n",
      " 343 344 345 346 347 348 349 350 351 352 353 354 355 356 357 358 359 360\n",
      " 361 362 363 364 365 366 367] [222 223 224 225 226 227 228 229 230 231 232 233 234 235 236 237 238 239\n",
      " 240 241 242 243 244 245 246 247 248 249 250 251 252 253 254 255 256 257\n",
      " 258 259 260 261 262 263 264 265 266 267 268 269 270 271 272 273 274 275\n",
      " 276 277 278 279 280 281 282 283 284 285 286 287 288 289 290 291 292 293\n",
      " 294]\n",
      "    5     [  0   1   2   3   4   5   6   7   8   9  10  11  12  13  14  15  16  17\n",
      "  18  19  20  21  22  23  24  25  26  27  28  29  30  31  32  33  34  35\n",
      "  36  37  38  39  40  41  42  43  44  45  46  47  48  49  50  51  52  53\n",
      "  54  55  56  57  58  59  60  61  62  63  64  65  66  67  68  69  70  71\n",
      "  72  73  74  75  76  77  78  79  80  81  82  83  84  85  86  87  88  89\n",
      "  90  91  92  93  94  95  96  97  98  99 100 101 102 103 104 105 106 107\n",
      " 108 109 110 111 112 113 114 115 116 117 118 119 120 121 122 123 124 125\n",
      " 126 127 128 129 130 131 132 133 134 135 136 137 138 139 140 141 142 143\n",
      " 144 145 146 147 148 149 150 151 152 153 154 155 156 157 158 159 160 161\n",
      " 162 163 164 165 166 167 168 169 170 171 172 173 174 175 176 177 178 179\n",
      " 180 181 182 183 184 185 186 187 188 189 190 191 192 193 194 195 196 197\n",
      " 198 199 200 201 202 203 204 205 206 207 208 209 210 211 212 213 214 215\n",
      " 216 217 218 219 220 221 222 223 224 225 226 227 228 229 230 231 232 233\n",
      " 234 235 236 237 238 239 240 241 242 243 244 245 246 247 248 249 250 251\n",
      " 252 253 254 255 256 257 258 259 260 261 262 263 264 265 266 267 268 269\n",
      " 270 271 272 273 274 275 276 277 278 279 280 281 282 283 284 285 286 287\n",
      " 288 289 290 291 292 293 294] [295 296 297 298 299 300 301 302 303 304 305 306 307 308 309 310 311 312\n",
      " 313 314 315 316 317 318 319 320 321 322 323 324 325 326 327 328 329 330\n",
      " 331 332 333 334 335 336 337 338 339 340 341 342 343 344 345 346 347 348\n",
      " 349 350 351 352 353 354 355 356 357 358 359 360 361 362 363 364 365 366\n",
      " 367]\n"
     ]
    }
   ],
   "source": [
    "#Below is a visualization of how the folds used in this method will be evaluated, splitting out the test and train data for each fold\n",
    "kf = KFold(n_splits=5, shuffle=False).split(range(len(SimpleBinary3)))\n",
    "\n",
    "# print the contents of each training and testing set\n",
    "print('{} {:^61} {}'.format('Iteration', 'Training set observations', 'Testing set observations'))\n",
    "for iteration, data in enumerate(kf, start=1):\n",
    "    print('{:^9} {} {:^25}'.format(iteration, data[0], str(data[1])))"
   ]
  },
  {
   "cell_type": "code",
   "execution_count": 106,
   "metadata": {},
   "outputs": [
    {
     "name": "stdout",
     "output_type": "stream",
     "text": [
      "[0.86486486 0.83783784 0.72972973 0.75675676 0.81081081 0.75675676\n",
      " 0.83783784 0.64864865 0.77777778 0.69444444]\n"
     ]
    }
   ],
   "source": [
    "# 10-fold cross-validation \n",
    "scores = cross_val_score(logreg, X, y, cv=10, scoring='accuracy')\n",
    "print(scores)"
   ]
  },
  {
   "cell_type": "code",
   "execution_count": 107,
   "metadata": {},
   "outputs": [
    {
     "name": "stdout",
     "output_type": "stream",
     "text": [
      "0.7715465465465465\n"
     ]
    }
   ],
   "source": [
    "#The scores for these ten folds are now averaged to come up with the final score for the model\n",
    "print(scores.mean())"
   ]
  },
  {
   "cell_type": "markdown",
   "metadata": {},
   "source": [
    "## Now that we have a more accurate measure of the accuracy of our model, we can use the follwing functions to fine tune the parameters of the logistic regression classifier to obtain the best possible results from our model"
   ]
  },
  {
   "cell_type": "markdown",
   "metadata": {},
   "source": [
    "Cfloat, default=1.0\n",
    "Inverse of regularization strength; must be a positive float. Like in support vector machines, smaller values specify stronger regularization."
   ]
  },
  {
   "cell_type": "code",
   "execution_count": 108,
   "metadata": {},
   "outputs": [
    {
     "name": "stdout",
     "output_type": "stream",
     "text": [
      "[0.7256006006006006, 0.7471471471471471, 0.7716216216216216, 0.7716216216216216, 0.7715465465465465, 0.7715465465465465]\n"
     ]
    }
   ],
   "source": [
    "Cvals=[0.001,0.01,0.1,1,10,100]\n",
    "k_scores = []\n",
    "for c in Cvals:\n",
    "    logreg = LogisticRegression(max_iter= 10000,random_state = 40,C=c)\n",
    "\n",
    "    scores = cross_val_score(logreg, X, y, cv=10, scoring='accuracy')\n",
    "    k_scores.append(scores.mean())\n",
    "print(k_scores)"
   ]
  },
  {
   "cell_type": "code",
   "execution_count": 110,
   "metadata": {},
   "outputs": [],
   "source": [
    "#Select the C value with the best outcome\n",
    "BestC=Cvals[k_scores.index(max(k_scores))]"
   ]
  },
  {
   "cell_type": "markdown",
   "metadata": {},
   "source": [
    "solver{‘newton-cg’, ‘lbfgs’, ‘liblinear’, ‘sag’, ‘saga’}, default=’lbfgs’\n",
    "Algorithm to use in the optimization problem."
   ]
  },
  {
   "cell_type": "code",
   "execution_count": 111,
   "metadata": {},
   "outputs": [
    {
     "name": "stdout",
     "output_type": "stream",
     "text": [
      "[0.7716216216216216, 0.7716216216216216, 0.7497747747747747, 0.7497747747747747, 0.7470720720720722]\n"
     ]
    }
   ],
   "source": [
    "solve = ['newton-cg', 'lbfgs', 'liblinear', 'sag', 'saga']\n",
    "k_scores = []\n",
    "for s in solve:\n",
    "    logreg = LogisticRegression(max_iter= 1000000,random_state = 40,solver=s,C=BestC) ## instantiate\n",
    "\n",
    "    scores = cross_val_score(logreg, X, y, cv=10, scoring='accuracy')\n",
    "    k_scores.append(scores.mean())\n",
    "print(k_scores)"
   ]
  },
  {
   "cell_type": "code",
   "execution_count": 112,
   "metadata": {},
   "outputs": [],
   "source": [
    "#Select the solver with the best outcome\n",
    "BestS=solve[k_scores.index(max(k_scores))]"
   ]
  },
  {
   "cell_type": "markdown",
   "metadata": {},
   "source": [
    "We see an improved outcome from the original default parameters set by the model, from 74 to 77"
   ]
  },
  {
   "cell_type": "code",
   "execution_count": 113,
   "metadata": {},
   "outputs": [
    {
     "name": "stdout",
     "output_type": "stream",
     "text": [
      "0.7716216216216216\n"
     ]
    }
   ],
   "source": [
    "# 10-fold cross-validation using the parameters which the above functions produced\n",
    "logreg = LogisticRegression(max_iter= 1000000,random_state = 40,C=BestC,solver=BestS) ## instantiate\n",
    "logreg.fit(X_train, Y_train) ## fit\n",
    "scores = cross_val_score(logreg, X, y, cv=10, scoring='accuracy')\n",
    "print(scores.mean())"
   ]
  },
  {
   "cell_type": "markdown",
   "metadata": {},
   "source": [
    "One final way to measure the true effectiveness of our model is to consider the distribution of the possible outcomes (life or death). Does out model predict simply based on the numerical split/distribution within the data, or is it more accurate than that?"
   ]
  },
  {
   "cell_type": "code",
   "execution_count": 199,
   "metadata": {},
   "outputs": [
    {
     "name": "stdout",
     "output_type": "stream",
     "text": [
      "0    0.706522\n",
      "1    0.293478\n",
      "Name: Target, dtype: float64\n"
     ]
    }
   ],
   "source": [
    "#Checking null accuracy\n",
    "print(Y_test.value_counts().head(2) / len(Y_test))"
   ]
  },
  {
   "cell_type": "code",
   "execution_count": 198,
   "metadata": {},
   "outputs": [
    {
     "data": {
      "text/plain": [
       "0    0.616848\n",
       "1    0.383152\n",
       "Name: Target, dtype: float64"
      ]
     },
     "execution_count": 198,
     "metadata": {},
     "output_type": "execute_result"
    }
   ],
   "source": [
    "y.value_counts().head(2) / len(y)"
   ]
  },
  {
   "cell_type": "markdown",
   "metadata": {},
   "source": [
    "A prediction of both outcomes does not simply follow the distribtuon percentage of the targets within the dataset, a posative outcome."
   ]
  },
  {
   "cell_type": "markdown",
   "metadata": {},
   "source": [
    "The final manual parameter which we could adjust to achieve greater accuracy would be to alter the final prediction output of the model based on the liklihood output. In other words, a liklihood greater than the defualt .5 can be specified when making the final prediction off of the proability array. This is the final parameter which should be considered and only once the final model and features have been selected. It is often a matter of domain knowledge. For us we will see if weighting a \"death\" outcome can allow us to reduce the number of false negative results. erring on the side of caution for the model used by veteranarians so that they be more lean towards more aggressive medical intervention when death could be a result of the evaluation of the horse."
   ]
  },
  {
   "cell_type": "code",
   "execution_count": 200,
   "metadata": {},
   "outputs": [],
   "source": [
    "# make class predictions for the testing set\n",
    "y_pred_class = logreg.predict(X_test)"
   ]
  },
  {
   "cell_type": "code",
   "execution_count": 201,
   "metadata": {},
   "outputs": [
    {
     "name": "stdout",
     "output_type": "stream",
     "text": [
      "True: [0 1 0 0 1 1 0 0 0 0 0 1 1 0 0 1 0 0 1 0 0 0 1 0 0]\n",
      "Pred: [1 0 0 0 0 1 0 0 1 0 0 1 0 0 0 0 1 0 1 0 0 0 1 0 0]\n"
     ]
    }
   ],
   "source": [
    "print('True:', Y_test.values[0:25])\n",
    "print('Pred:', y_pred_class[0:25])"
   ]
  },
  {
   "cell_type": "code",
   "execution_count": 202,
   "metadata": {},
   "outputs": [],
   "source": [
    "#Checking Distribution"
   ]
  },
  {
   "cell_type": "code",
   "execution_count": 322,
   "metadata": {},
   "outputs": [],
   "source": [
    "y_pred_prob = logreg.predict_proba(X_test)[:, 1]"
   ]
  },
  {
   "cell_type": "code",
   "execution_count": 323,
   "metadata": {},
   "outputs": [
    {
     "data": {
      "text/plain": [
       "Text(0, 0.5, 'Frequency')"
      ]
     },
     "execution_count": 323,
     "metadata": {},
     "output_type": "execute_result"
    },
    {
     "data": {
      "image/png": "[encoded data removed]",
      "text/plain": [
       "<Figure size 432x288 with 1 Axes>"
      ]
     },
     "metadata": {},
     "output_type": "display_data"
    }
   ],
   "source": [
    "plt.hist(y_pred_prob, bins=10)\n",
    "plt.xlim(0, 1)\n",
    "plt.title('Distribution of predicted probabilities')\n",
    "plt.xlabel('Predicted probability of death')\n",
    "plt.ylabel('Frequency')"
   ]
  },
  {
   "cell_type": "code",
   "execution_count": 292,
   "metadata": {},
   "outputs": [],
   "source": [
    "PossibleWeights=np.arange(.4, .6, 0.01).tolist()"
   ]
  },
  {
   "cell_type": "code",
   "execution_count": 293,
   "metadata": {},
   "outputs": [],
   "source": [
    "BestAccuracy=[]\n",
    "for i in range(len(PossibleWeights)):\n",
    "    BestAccuracy.append(metrics.accuracy_score(Y_test, binarize([y_pred_prob], PossibleWeights[i])[0]))"
   ]
  },
  {
   "cell_type": "code",
   "execution_count": 294,
   "metadata": {},
   "outputs": [
    {
     "data": {
      "text/plain": [
       "0.5400000000000001"
      ]
     },
     "execution_count": 294,
     "metadata": {},
     "output_type": "execute_result"
    }
   ],
   "source": [
    "Bestweight=PossibleWeights[BestAccuracy.index(max(BestAccuracy))]\n",
    "Bestweight"
   ]
  },
  {
   "cell_type": "code",
   "execution_count": 295,
   "metadata": {},
   "outputs": [],
   "source": [
    "lowfalseneg=[]\n",
    "for i in range(len(PossibleWeights)):\n",
    "    lowfalseneg.append(metrics.confusion_matrix(Y_test,binarize([y_pred_prob], PossibleWeights[i])[0])[1][0])"
   ]
  },
  {
   "cell_type": "code",
   "execution_count": 296,
   "metadata": {},
   "outputs": [
    {
     "data": {
      "text/plain": [
       "0.4"
      ]
     },
     "execution_count": 296,
     "metadata": {},
     "output_type": "execute_result"
    }
   ],
   "source": [
    "LowestFalseNegative=PossibleWeights[lowfalseneg.index(min(lowfalseneg))]\n",
    "LowestFalseNegative"
   ]
  },
  {
   "cell_type": "code",
   "execution_count": 297,
   "metadata": {},
   "outputs": [
    {
     "name": "stdout",
     "output_type": "stream",
     "text": [
      "Lowest false negative count possible: 8\n"
     ]
    }
   ],
   "source": [
    "print('Lowest false negative count possible: ' + str(min(lowfalseneg)))"
   ]
  },
  {
   "cell_type": "code",
   "execution_count": 307,
   "metadata": {},
   "outputs": [],
   "source": [
    "y_pred_classAccuracy=binarize([y_pred_prob], Bestweight)"
   ]
  },
  {
   "cell_type": "code",
   "execution_count": 308,
   "metadata": {},
   "outputs": [
    {
     "data": {
      "image/png": "[encoded data removed]",
      "text/plain": [
       "<Figure size 648x648 with 2 Axes>"
      ]
     },
     "metadata": {},
     "output_type": "display_data"
    }
   ],
   "source": [
    "plt.figure(figsize=(9,9))\n",
    "sns.heatmap((metrics.confusion_matrix(Y_test, y_pred_classAccuracy[0])), annot=True, fmt=\".3f\", linewidths=.5, square = True);\n",
    "plt.ylabel('Actual label');\n",
    "plt.xlabel('Predicted label');\n",
    "all_sample_title = 'Accuracy Score: {0}'.format((metrics.accuracy_score(Y_test, y_pred_classAccuracy[0])))\n",
    "plt.title(all_sample_title, size = 15);\n",
    "plt.savefig('toy_Digits_ConfusionSeabornCodementor.png')\n",
    "plt.show()"
   ]
  },
  {
   "cell_type": "code",
   "execution_count": 318,
   "metadata": {},
   "outputs": [
    {
     "name": "stdout",
     "output_type": "stream",
     "text": [
      "Sensitivity: 0.5555555555555556\n",
      "Specificity: 0.8307692307692307\n"
     ]
    }
   ],
   "source": [
    "def evaluate_threshold(threshold):\n",
    "    print('Sensitivity:', tpr[thresholds > threshold][-1])\n",
    "    print('Specificity:', 1 - fpr[thresholds > threshold][-1])\n",
    "evaluate_threshold(Bestweight)\n"
   ]
  },
  {
   "cell_type": "code",
   "execution_count": 309,
   "metadata": {},
   "outputs": [],
   "source": [
    "y_pred_classlowfalseneg=binarize([y_pred_prob], LowestFalseNegative)"
   ]
  },
  {
   "cell_type": "code",
   "execution_count": 311,
   "metadata": {},
   "outputs": [
    {
     "data": {
      "image/png": "[encoded data removed]",
      "text/plain": [
       "<Figure size 648x648 with 2 Axes>"
      ]
     },
     "metadata": {},
     "output_type": "display_data"
    }
   ],
   "source": [
    "plt.figure(figsize=(9,9))\n",
    "sns.heatmap((metrics.confusion_matrix(Y_test, y_pred_classlowfalseneg[0])), annot=True, fmt=\".3f\", linewidths=.5, square = True);\n",
    "plt.ylabel('Actual label');\n",
    "plt.xlabel('Predicted label');\n",
    "all_sample_title = 'Accuracy Score: {0}'.format((metrics.accuracy_score(Y_test, y_pred_classlowfalseneg[0])))\n",
    "plt.title(all_sample_title, size = 15);\n",
    "plt.savefig('toy_Digits_ConfusionSeabornCodementor.png')\n",
    "plt.show()"
   ]
  },
  {
   "cell_type": "code",
   "execution_count": 319,
   "metadata": {},
   "outputs": [
    {
     "name": "stdout",
     "output_type": "stream",
     "text": [
      "Sensitivity: 0.7037037037037037\n",
      "Specificity: 0.7538461538461538\n"
     ]
    }
   ],
   "source": [
    "def evaluate_threshold(threshold):\n",
    "    print('Sensitivity:', tpr[thresholds > threshold][-1])\n",
    "    print('Specificity:', 1 - fpr[thresholds > threshold][-1])\n",
    "evaluate_threshold(LowestFalseNegative)\n"
   ]
  },
  {
   "cell_type": "code",
   "execution_count": 320,
   "metadata": {},
   "outputs": [
    {
     "name": "stdout",
     "output_type": "stream",
     "text": [
      "Sensitivity: 0.5925925925925926\n",
      "Specificity: 0.8\n"
     ]
    }
   ],
   "source": [
    "def evaluate_threshold(threshold):\n",
    "    print('Sensitivity:', tpr[thresholds > threshold][-1])\n",
    "    print('Specificity:', 1 - fpr[thresholds > threshold][-1])\n",
    "evaluate_threshold(.5)\n"
   ]
  },
  {
   "cell_type": "markdown",
   "metadata": {},
   "source": [
    "Not finding any major gains in accuracy and losing a good bit of accuracy to acheive the lowest possible outcome of false negatives, we will refrain from modfying the model in this way. The default split of .5 will be retained"
   ]
  },
  {
   "cell_type": "code",
   "execution_count": 324,
   "metadata": {},
   "outputs": [
    {
     "data": {
      "image/png": "[encoded data removed]",
      "text/plain": [
       "<Figure size 432x288 with 1 Axes>"
      ]
     },
     "metadata": {},
     "output_type": "display_data"
    }
   ],
   "source": [
    "#Using the ROC curve to optimize, balancing specificity and sensitivity\n",
    "# IMPORTANT: first argument is true values, second argument is predicted probabilities\n",
    "fpr, tpr, thresholds = metrics.roc_curve(Y_test, y_pred_prob)\n",
    "plt.plot(fpr, tpr)\n",
    "plt.xlim([0.0, 1.0])\n",
    "plt.ylim([0.0, 1.0])\n",
    "plt.title('ROC curve for diabetes classifier')\n",
    "plt.xlabel('False Positive Rate (1 - Specificity)')\n",
    "plt.ylabel('True Positive Rate (Sensitivity)')\n",
    "plt.grid(True)"
   ]
  },
  {
   "cell_type": "code",
   "execution_count": 325,
   "metadata": {},
   "outputs": [
    {
     "name": "stdout",
     "output_type": "stream",
     "text": [
      "0.7743589743589743\n"
     ]
    }
   ],
   "source": [
    "#Checking area under curve as alternative to classification accuracy \n",
    "print(metrics.roc_auc_score(Y_test, y_pred_prob))"
   ]
  },
  {
   "cell_type": "code",
   "execution_count": 326,
   "metadata": {},
   "outputs": [
    {
     "data": {
      "text/plain": [
       "0.8264229249011856"
      ]
     },
     "execution_count": 326,
     "metadata": {},
     "output_type": "execute_result"
    }
   ],
   "source": [
    "cross_val_score(logreg, X, y, cv=10, scoring='roc_auc').mean()"
   ]
  },
  {
   "cell_type": "code",
   "execution_count": 313,
   "metadata": {},
   "outputs": [
    {
     "name": "stdout",
     "output_type": "stream",
     "text": [
      "Sensitivity: 0.5925925925925926\n",
      "Specificity: 0.8\n"
     ]
    }
   ],
   "source": []
  },
  {
   "cell_type": "markdown",
   "metadata": {},
   "source": [
    "# Surgical Outcome"
   ]
  },
  {
   "cell_type": "code",
   "execution_count": 87,
   "metadata": {},
   "outputs": [
    {
     "data": {
      "text/plain": [
       "1    232\n",
       "2    136\n",
       "Name: surgical lesion, dtype: int64"
      ]
     },
     "execution_count": 87,
     "metadata": {},
     "output_type": "execute_result"
    }
   ],
   "source": [
    "SimpleBinary=df\n",
    "SimpleBinary['surgical lesion'].value_counts()"
   ]
  },
  {
   "cell_type": "code",
   "execution_count": 88,
   "metadata": {},
   "outputs": [],
   "source": [
    "#SimpleBinary.loc[SimpleBinary['Disease'].str.contains('Drug Reaction', na=False), 'Disease'] = 1\n",
    "#SimpleBinary.loc[~SimpleBinary['Disease'].str.contains('Drug Reaction', na=False), 'Disease'] = 0\n",
    "\n",
    "#SimpleBinary['Disease'].replace(to_replace ='Drug Reaction', value =1,inplace=True)\n",
    "#SimpleBinary['Disease'].replace(to_replace !='Drug Reaction', value =0,inplace=True)\n",
    "\n",
    "SimpleBinary['Target'] = SimpleBinary['surgical lesion']\n",
    "\n",
    "SimpleBinary['Target'].value_counts()\n",
    "SimpleBinary=SimpleBinary.astype(float)"
   ]
  },
  {
   "cell_type": "code",
   "execution_count": 89,
   "metadata": {
    "slideshow": {
     "slide_type": "notes"
    }
   },
   "outputs": [
    {
     "data": {
      "text/plain": [
       "Index(['surgery', 'Age', 'rectal temperature', 'pulse', 'respiratory rate',\n",
       "       'temperature of extremities', 'peripheral pulse', 'mucous membranes',\n",
       "       'capillary refill time',\n",
       "       'pain  a subjective judgement of the horses pain level', 'peristalsis',\n",
       "       'abdominal distension', 'packed cell volume', 'total protein',\n",
       "       'outcome', 'type of lesion', 'location of lesion'],\n",
       "      dtype='object')"
      ]
     },
     "execution_count": 89,
     "metadata": {},
     "output_type": "execute_result"
    }
   ],
   "source": [
    "X = SimpleBinary.drop(columns= ['surgical lesion','Target'])\n",
    "#X = pd.get_dummies(X)\n",
    "X.columns"
   ]
  },
  {
   "cell_type": "code",
   "execution_count": 90,
   "metadata": {},
   "outputs": [
    {
     "data": {
      "text/plain": [
       "1.0    232\n",
       "2.0    136\n",
       "Name: Target, dtype: int64"
      ]
     },
     "execution_count": 90,
     "metadata": {},
     "output_type": "execute_result"
    }
   ],
   "source": [
    "y = SimpleBinary.Target ## creating target values\n",
    "y.value_counts()"
   ]
  },
  {
   "cell_type": "code",
   "execution_count": 91,
   "metadata": {
    "slideshow": {
     "slide_type": "slide"
    }
   },
   "outputs": [
    {
     "data": {
      "text/plain": [
       "LogisticRegression(C=1.0, class_weight=None, dual=False, fit_intercept=True,\n",
       "                   intercept_scaling=1, l1_ratio=None, max_iter=10000,\n",
       "                   multi_class='auto', n_jobs=None, penalty='none',\n",
       "                   random_state=40, solver='lbfgs', tol=0.0001, verbose=0,\n",
       "                   warm_start=False)"
      ]
     },
     "execution_count": 91,
     "metadata": {},
     "output_type": "execute_result"
    }
   ],
   "source": [
    "from sklearn.model_selection import train_test_split\n",
    "from sklearn.linear_model import LogisticRegression ## import model\n",
    "\n",
    "\n",
    "X_train, X_test, Y_train, Y_test = train_test_split(X, y, test_size = .15, random_state = 40)\n",
    "\n",
    "logreg = LogisticRegression(penalty = 'none', max_iter= 10000,random_state = 40) ## instantiate\n",
    "\n",
    "logreg.fit(X_train, Y_train) ## fit"
   ]
  },
  {
   "cell_type": "code",
   "execution_count": 92,
   "metadata": {
    "slideshow": {
     "slide_type": "slide"
    }
   },
   "outputs": [
    {
     "data": {
      "text/plain": [
       "0.9107142857142857"
      ]
     },
     "execution_count": 92,
     "metadata": {},
     "output_type": "execute_result"
    }
   ],
   "source": [
    "## Accuracy Scores\n",
    "score = logreg.score(X_test,Y_test)\n",
    "score"
   ]
  },
  {
   "cell_type": "code",
   "execution_count": 93,
   "metadata": {
    "slideshow": {
     "slide_type": "slide"
    }
   },
   "outputs": [],
   "source": [
    "predictions = logreg.predict(X_test)"
   ]
  },
  {
   "cell_type": "code",
   "execution_count": 94,
   "metadata": {},
   "outputs": [
    {
     "data": {
      "text/plain": [
       "array([1., 1., 2., 1., 1., 1., 2., 2., 1., 2., 2., 1., 1., 1., 2., 1., 1.,\n",
       "       1., 1., 1., 1., 2., 1., 2., 2., 1., 1., 1., 1., 1., 1., 1., 1., 1.,\n",
       "       1., 2., 1., 2., 1., 1., 1., 1., 1., 2., 1., 1., 2., 1., 1., 2., 2.,\n",
       "       1., 1., 1., 1., 1.])"
      ]
     },
     "execution_count": 94,
     "metadata": {},
     "output_type": "execute_result"
    }
   ],
   "source": [
    "predictions"
   ]
  },
  {
   "cell_type": "code",
   "execution_count": 95,
   "metadata": {
    "slideshow": {
     "slide_type": "slide"
    }
   },
   "outputs": [],
   "source": [
    "from sklearn import metrics\n",
    "\n",
    "cm = metrics.confusion_matrix(Y_test, predictions)"
   ]
  },
  {
   "cell_type": "code",
   "execution_count": 96,
   "metadata": {
    "hide_input": true,
    "slideshow": {
     "slide_type": "slide"
    }
   },
   "outputs": [
    {
     "data": {
      "image/png": "[encoded data removed]",
      "text/plain": [
       "<Figure size 648x648 with 2 Axes>"
      ]
     },
     "metadata": {
      "needs_background": "light"
     },
     "output_type": "display_data"
    }
   ],
   "source": [
    "import seaborn as sns\n",
    "import matplotlib.pyplot as plt\n",
    "\n",
    "\n",
    "plt.figure(figsize=(9,9))\n",
    "sns.heatmap(cm, annot=True, fmt=\".3f\", linewidths=.5, square = True, cmap = 'Pastel1');\n",
    "plt.ylabel('Actual label');\n",
    "plt.xlabel('Predicted label');\n",
    "all_sample_title = 'Accuracy Score: {0}'.format(score)\n",
    "plt.title(all_sample_title, size = 15);\n",
    "plt.savefig('toy_Digits_ConfusionSeabornCodementor.png')\n",
    "plt.show()"
   ]
  },
  {
   "cell_type": "markdown",
   "metadata": {},
   "source": [
    "Location of liesion"
   ]
  },
  {
   "cell_type": "code",
   "execution_count": 170,
   "metadata": {},
   "outputs": [
    {
     "data": {
      "text/plain": [
       "0        67\n",
       "3111     41\n",
       "3205     35\n",
       "2208     23\n",
       "2205     17\n",
       "         ..\n",
       "8405      1\n",
       "4207      1\n",
       "21110     1\n",
       "3207      1\n",
       "11400     1\n",
       "Name: 24, Length: 63, dtype: int64"
      ]
     },
     "execution_count": 170,
     "metadata": {},
     "output_type": "execute_result"
    }
   ],
   "source": [
    "SimpleBinary=df\n",
    "SimpleBinary[24].value_counts()"
   ]
  },
  {
   "cell_type": "code",
   "execution_count": 171,
   "metadata": {},
   "outputs": [],
   "source": [
    "SimpleBinary[24]=SimpleBinary[24].astype(str).str[:1]"
   ]
  },
  {
   "cell_type": "code",
   "execution_count": 172,
   "metadata": {},
   "outputs": [],
   "source": [
    "#SimpleBinary=SimpleBinary[SimpleBinary[22] != '?']\n",
    "SimpleBinary.replace('?',0,inplace=True)\n"
   ]
  },
  {
   "cell_type": "code",
   "execution_count": 173,
   "metadata": {},
   "outputs": [
    {
     "data": {
      "text/plain": [
       "(368, 29)"
      ]
     },
     "execution_count": 173,
     "metadata": {},
     "output_type": "execute_result"
    }
   ],
   "source": [
    "SimpleBinary.shape"
   ]
  },
  {
   "cell_type": "code",
   "execution_count": 174,
   "metadata": {},
   "outputs": [],
   "source": [
    "#SimpleBinary.loc[SimpleBinary['Disease'].str.contains('Drug Reaction', na=False), 'Disease'] = 1\n",
    "#SimpleBinary.loc[~SimpleBinary['Disease'].str.contains('Drug Reaction', na=False), 'Disease'] = 0\n",
    "\n",
    "#SimpleBinary['Disease'].replace(to_replace ='Drug Reaction', value =1,inplace=True)\n",
    "#SimpleBinary['Disease'].replace(to_replace !='Drug Reaction', value =0,inplace=True)\n",
    "\n",
    "SimpleBinary['Target'] = SimpleBinary[24]\n",
    "\n",
    "SimpleBinary['Target'].value_counts()\n",
    "SimpleBinary=SimpleBinary.astype(float)"
   ]
  },
  {
   "cell_type": "code",
   "execution_count": 175,
   "metadata": {
    "slideshow": {
     "slide_type": "notes"
    }
   },
   "outputs": [
    {
     "data": {
      "text/plain": [
       "Index([ 0,  1,  2,  3,  4,  5,  6,  7,  8,  9, 10, 11, 12, 13, 14, 15, 16, 17,\n",
       "       18, 19, 20, 21, 22, 23, 25, 26, 27],\n",
       "      dtype='object')"
      ]
     },
     "execution_count": 175,
     "metadata": {},
     "output_type": "execute_result"
    }
   ],
   "source": [
    "X = SimpleBinary.drop(columns= [24,'Target'])\n",
    "#X = pd.get_dummies(X)\n",
    "X.columns"
   ]
  },
  {
   "cell_type": "code",
   "execution_count": 176,
   "metadata": {},
   "outputs": [
    {
     "data": {
      "text/plain": [
       "3.0    108\n",
       "2.0     96\n",
       "0.0     67\n",
       "4.0     34\n",
       "1.0     18\n",
       "7.0     16\n",
       "5.0     14\n",
       "6.0      8\n",
       "8.0      4\n",
       "9.0      3\n",
       "Name: Target, dtype: int64"
      ]
     },
     "execution_count": 176,
     "metadata": {},
     "output_type": "execute_result"
    }
   ],
   "source": [
    "y = SimpleBinary.Target ## creating target values\n",
    "y.value_counts()"
   ]
  },
  {
   "cell_type": "code",
   "execution_count": 189,
   "metadata": {
    "slideshow": {
     "slide_type": "slide"
    }
   },
   "outputs": [
    {
     "data": {
      "text/plain": [
       "LogisticRegression(C=1.0, class_weight=None, dual=False, fit_intercept=True,\n",
       "                   intercept_scaling=1, l1_ratio=None, max_iter=10000,\n",
       "                   multi_class='auto', n_jobs=None, penalty='none',\n",
       "                   random_state=40, solver='lbfgs', tol=0.0001, verbose=0,\n",
       "                   warm_start=False)"
      ]
     },
     "execution_count": 189,
     "metadata": {},
     "output_type": "execute_result"
    }
   ],
   "source": [
    "from sklearn.model_selection import train_test_split\n",
    "from sklearn.linear_model import LogisticRegression ## import model\n",
    "\n",
    "\n",
    "X_train, X_test, Y_train, Y_test = train_test_split(X, y, test_size = .15, random_state = 40)\n",
    "\n",
    "logreg = LogisticRegression(penalty = 'none', max_iter= 10000,random_state = 40) ## instantiate\n",
    "\n",
    "logreg.fit(X_train, Y_train) ## fit"
   ]
  },
  {
   "cell_type": "code",
   "execution_count": 190,
   "metadata": {
    "slideshow": {
     "slide_type": "slide"
    }
   },
   "outputs": [
    {
     "data": {
      "text/plain": [
       "0.3392857142857143"
      ]
     },
     "execution_count": 190,
     "metadata": {},
     "output_type": "execute_result"
    }
   ],
   "source": [
    "## Accuracy Scores\n",
    "score = logreg.score(X_test,Y_test)\n",
    "score"
   ]
  },
  {
   "cell_type": "code",
   "execution_count": 191,
   "metadata": {
    "slideshow": {
     "slide_type": "slide"
    }
   },
   "outputs": [],
   "source": [
    "predictions = logreg.predict(X_test)"
   ]
  },
  {
   "cell_type": "code",
   "execution_count": 192,
   "metadata": {},
   "outputs": [
    {
     "data": {
      "text/plain": [
       "array([3., 3., 3., 3., 3., 3., 3., 2., 2., 3., 3., 3., 3., 3., 2., 3., 3.,\n",
       "       2., 2., 3., 3., 3., 2., 3., 3., 3., 2., 2., 2., 3., 3., 2., 3., 3.,\n",
       "       3., 3., 3., 2., 2., 2., 3., 3., 3., 3., 2., 3., 3., 2., 3., 3., 3.,\n",
       "       2., 3., 2., 3., 3.])"
      ]
     },
     "execution_count": 192,
     "metadata": {},
     "output_type": "execute_result"
    }
   ],
   "source": [
    "predictions"
   ]
  },
  {
   "cell_type": "code",
   "execution_count": 193,
   "metadata": {
    "slideshow": {
     "slide_type": "slide"
    }
   },
   "outputs": [],
   "source": [
    "from sklearn import metrics\n",
    "\n",
    "cm = metrics.confusion_matrix(Y_test, predictions)"
   ]
  },
  {
   "cell_type": "code",
   "execution_count": 194,
   "metadata": {
    "hide_input": true,
    "slideshow": {
     "slide_type": "slide"
    }
   },
   "outputs": [
    {
     "data": {
      "image/png": "[encoded data removed]",
      "text/plain": [
       "<Figure size 648x648 with 2 Axes>"
      ]
     },
     "metadata": {
      "needs_background": "light"
     },
     "output_type": "display_data"
    }
   ],
   "source": [
    "import seaborn as sns\n",
    "import matplotlib.pyplot as plt\n",
    "\n",
    "\n",
    "plt.figure(figsize=(9,9))\n",
    "sns.heatmap(cm, annot=True, fmt=\".3f\", linewidths=.5, square = True, cmap = 'Pastel1');\n",
    "plt.ylabel('Actual label');\n",
    "plt.xlabel('Predicted label');\n",
    "all_sample_title = 'Accuracy Score: {0}'.format(score)\n",
    "plt.title(all_sample_title, size = 15);\n",
    "plt.savefig('toy_Digits_ConfusionSeabornCodementor.png')\n",
    "plt.show()"
   ]
  }
 ],
 "metadata": {
  "kernelspec": {
   "display_name": "Python 3",
   "language": "python",
   "name": "python3"
  },
  "language_info": {
   "codemirror_mode": {
    "name": "ipython",
    "version": 3
   },
   "file_extension": ".py",
   "mimetype": "text/x-python",
   "name": "python",
   "nbconvert_exporter": "python",
   "pygments_lexer": "ipython3",
   "version": "3.7.4"
  }
 },
 "nbformat": 4,
 "nbformat_minor": 2
}
